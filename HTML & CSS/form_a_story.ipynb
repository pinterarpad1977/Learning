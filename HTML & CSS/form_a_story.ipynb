{
 "cells": [
  {
   "cell_type": "markdown",
   "id": "1715b58d-2d58-459c-81bf-fe5d10243bbd",
   "metadata": {},
   "source": [
    "<!DOCTYPE html>\n",
    "<html lang=\"en\" dir=\"ltr\">\n",
    "  <head>\n",
    "    <meta charset=\"utf-8\">\n",
    "    <link rel=\"stylesheet\" href=\"style.css\">\n",
    "    <link href=\"https://fonts.googleapis.com/css?family=Open+Sans\" rel=\"stylesheet\">\n",
    "    <title>Form a Story</title>\n",
    "  </head>\n",
    "  <body>\n",
    "    <section id=\"top\">\n",
    "      <img src=\"https://content.codecademy.com/courses/learn-html-forms/formAStoryLogo.svg\" alt=\"Form A Story Logo\">\n",
    "    </section>\n",
    "    <section id=\"main\">\n",
    "      <h1>Complete the Form -<br> Complete the Story!</h1>\n",
    "      <hr>\n",
    "      <!--Add your form below:-->\n",
    "      <form action=\"story.html\" method=\"GET\">\n",
    "        <label for=\"animal-1\">Animal 1:</label>\n",
    "        <input type=\"text\" id=\"animal-1\" name=\"animal-1\" required>\n",
    "        <br>\n",
    "        <label for=\"animal-2\">Animal 2:</label>\n",
    "        <input type=\"text\" id=\"animal-2\" name=\"animal-2\" required>     \n",
    "        <br>   \n",
    "        <label for=\"animal-3\">Animal 3:</label>\n",
    "        <input type=\"text\" id=\"animal-3\" name=\"animal-3\" required>     \n",
    "        <br>  \n",
    "        <label for=\"adj-1\">Adjective (ends in -ed):</label>\n",
    "        <input type=\"text\" id=\"adj-1\" name=\"adj-1\" required>     \n",
    "        <br>  \n",
    "        <label for=\"verb-1\">Verb (ends in -ing):</label>\n",
    "        <input type=\"text\" id=\"verb-1\" name=\"verb-1\" required>     \n",
    "        <br>  \n",
    "        <label for=\"num-1\">Number:</label>\n",
    "        <input type=\"number\" id=\"num-1\" name=\"num1-1\" required>     \n",
    "        <br> \n",
    "        <span>Yes or No:</span> \n",
    "        <br>\n",
    "        <input type=\"radio\" id=\"yes\" name=\"answer\" value =\"yes\" required>\n",
    "        <label for=\"yes\">Yes</label>\n",
    "        <input type=\"radio\" id=\"no\" name=\"answer\" value =\"no\" required>\n",
    "        <label for=\"no\">No</label>\n",
    "        <br>\n",
    "        <label for=\"speed\">Relative speed (ends in -er):</label>\n",
    "        <select id=\"speed\" name=\"speed\" required>\n",
    "          <option value=\"faster\">Faster</option>\n",
    "          <option value=\"slower\">Slower</option>\n",
    "          <option value=\"quicker\">Quicker</option>\n",
    "        </select>\n",
    "        <br>\n",
    "        <label for=\"quote\">Motivational Quote:</label>\n",
    "        <input type=\"text\" id=\"quote\" name=\"quote\" list=\"quote-choices\" required>\n",
    "        <datalist id=\"quote-choices\">\n",
    "          <option value=\"winner gets ice cream!\"></option>\n",
    "        </datalist>\n",
    "        <br>\n",
    "        <label for=\"message\">Meaningful Message:</label>\n",
    "        <input type=\"textarea\" id=\"message\" name=\"message\" rows=\"8\" cols=\"40\" required>\n",
    "      <hr>\n",
    "        <input type=\"submit\" value=\"Form my Story!\">\n",
    "      </form>\n",
    "    </section>\n",
    "  </body>\n",
    "</html>\n"
   ]
  }
 ],
 "metadata": {
  "kernelspec": {
   "display_name": "Python 3 (ipykernel)",
   "language": "python",
   "name": "python3"
  },
  "language_info": {
   "codemirror_mode": {
    "name": "ipython",
    "version": 3
   },
   "file_extension": ".py",
   "mimetype": "text/x-python",
   "name": "python",
   "nbconvert_exporter": "python",
   "pygments_lexer": "ipython3",
   "version": "3.11.5"
  },
  "widgets": {
   "application/vnd.jupyter.widget-state+json": {
    "state": {},
    "version_major": 2,
    "version_minor": 0
   }
  }
 },
 "nbformat": 4,
 "nbformat_minor": 5
}

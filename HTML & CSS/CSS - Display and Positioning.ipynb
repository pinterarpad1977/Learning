{
 "cells": [
  {
   "cell_type": "markdown",
   "id": "a826fdfc-4d0c-43b8-9db4-199a3ff012b0",
   "metadata": {},
   "source": [
    "### The Flow of HTML\n",
    "\n",
    "A browser puts the elements from top to bottom, from left to right, just as they appear in the code.\n",
    "\n",
    "In CSS we can use properties which  can specify where an element should be on the page"
   ]
  },
  {
   "cell_type": "markdown",
   "id": "dc33d663-7bdc-4944-ba0f-44136f9dbac6",
   "metadata": {},
   "source": [
    "### Position:\n",
    "\n",
    "without using the position property all elements take upp all the horizontal space in their line on the page\n",
    "Position can take up 5 different values:\n",
    "1. static: the default setting\n",
    "2. relative\n",
    "3. absolute\n",
    "4. fixed\n",
    "5. sticky"
   ]
  },
  {
   "cell_type": "markdown",
   "id": "d3d236d4-d549-461e-8db3-f1de4b9ef2b0",
   "metadata": {},
   "source": [
    "### Relative Position\n",
    "it doesn't do anythyng unless you specify the offset direction and value. Examples\n",
    "- top: 50px\n",
    "- bottom: 10px\n",
    "- left\n",
    "- right\n",
    "\n",
    "### Absolute Position\n",
    "When an element’s position is set to absolute, all other elements on the page will ignore the element and act like it is not present on the page. The element will be positioned relative to its closest positioned parent element, while offset properties can be used to determine the final position from there. \n",
    "The offset properties are the same as with the realtive position\n",
    "\n",
    "### Fixed Position\n",
    "The fixed element will not scroll with the other elements, its position is fixed\n",
    "if we fix somethiong it will cover the next element. We can set its position to relative and offset it by the width of the fixed element\n",
    "Offsets are the same\n",
    "\n",
    "### Sticky Position\n",
    "The sticky value is another position value that keeps an element in the document flow as the user scrolls, but sticks to a specified position as the page is scrolled further. This is done by using the sticky value along with the familiar offset properties, as well as one new one. "
   ]
  },
  {
   "cell_type": "markdown",
   "id": "1b62a953-ab39-4345-a01e-a42393fb8223",
   "metadata": {},
   "source": [
    "### The z-index\n",
    "It's like layers. the default (bottom) layer is 0. \n",
    "We can add integers to the z-index to bring elements to the front\n",
    "\n",
    "The z-index property accepts integer values. Depending on their values, the integers instruct the browser on the order in which elements should be layered on the web page.\n",
    "\n",
    ".blue-box {\n",
    "  background-color: blue;\n",
    "  position: relative;\n",
    "  z-index: 1;\n",
    "}\n",
    "\n",
    ".green-box {\n",
    "  background-color: green;\n",
    "  position: relative;\n",
    "  top: -170px;\n",
    "  left: 170px;\n",
    "}\n",
    "\n",
    "In the example above, we set the .blue-box position to relative and the z-index to 1. We changed position to relative, because the z-index property does not work on static elements. The z-index of 1 moves the .blue-box element forward, because the z-index value has not been explicitly specified for the .green-box element, which means it has a default z-index value of 0.\n"
   ]
  },
  {
   "cell_type": "markdown",
   "id": "f627ec8f-9d9e-43d0-a615-36ba3667a910",
   "metadata": {},
   "source": [
    "### Inline Display\n",
    "\n",
    "1. Inline\n",
    "The default display for some elements, such as <em>, <strong>, and <a>, is called inline. Inline elements have a box that wraps tightly around their content, only taking up the amount of space necessary to display their content and not requiring a new line after each element. The height and width of these elements cannot be specified in the CSS document. For example, the text of an anchor tag (<a>) will, by default, be displayed on the same line as the surrounding text, and it will only be as wide as necessary to contain its content. inline elements cannot be altered in size with the height or width CSS properties.\n",
    "The CSS display property provides the ability to make any element an inline element. This includes elements that are not inline by default such as paragraphs, divs, and headings.\n",
    "   \n",
    "2. Block\n",
    "Some elements are not displayed in the same line as the content around them. These are called block-level elements. These elements fill the entire width of the page by default, but their width property can also be set. Unless otherwise specified, they are the height necessary to accommodate their content.\n",
    "\n",
    "Elements that are block-level by default include all levels of heading elements (<h1> through <h6>), <p>, <div> and <footer>. \n",
    "   \n",
    "3. inline-block\n",
    "Inline-block display combines features of both inline and block elements. Inline-block elements can appear next to each other and we can specify their dimensions using the width and height properties. Images are the best example of default inline-block elements.\n",
    ".rectangle {\n",
    "  display: inline-block;\n",
    "  width: 200px;\n",
    "  height: 300px;\n",
    "}\n",
    "\n"
   ]
  },
  {
   "cell_type": "markdown",
   "id": "c8d7cefb-7de2-41b8-a2ea-c23ae1be9337",
   "metadata": {},
   "source": [
    "### Float\n",
    "The float property is commonly used for wrapping text around an image. Note, however, that moving elements left or right for layout purposes is better suited for tools like CSS grid and flexbox, which you’ll learn about later on.\n",
    "\n",
    "The float property is often set using one of the values below:\n",
    "\n",
    "    left - moves, or floats, elements as far left as possible.\n",
    "    right - moves elements as far right as possible.\n",
    "Floated elements must have a width specified, as in the example above. Otherwise, the element will assume the full width of its containing element, and changing the float value will not yield any visible results.\n",
    "\n"
   ]
  },
  {
   "cell_type": "markdown",
   "id": "521949d1-5063-45ae-9fa4-9a435aef62de",
   "metadata": {},
   "source": [
    "### Clear\n",
    "\n",
    "The clear property specifies how elements should behave when they bump into each other on the page. It can take on one of the following values:\n",
    "\n",
    "    left—the left side of the element will not touch any other element within the same containing element.\n",
    "    right—the right side of the element will not touch any other element within the same containing element.\n",
    "    both—neither side of the element will touch any other element within the same containing element.\n",
    "    none—the element can touch either side.\n",
    "\n"
   ]
  }
 ],
 "metadata": {
  "kernelspec": {
   "display_name": "Python 3 (ipykernel)",
   "language": "python",
   "name": "python3"
  },
  "language_info": {
   "codemirror_mode": {
    "name": "ipython",
    "version": 3
   },
   "file_extension": ".py",
   "mimetype": "text/x-python",
   "name": "python",
   "nbconvert_exporter": "python",
   "pygments_lexer": "ipython3",
   "version": "3.11.5"
  },
  "widgets": {
   "application/vnd.jupyter.widget-state+json": {
    "state": {},
    "version_major": 2,
    "version_minor": 0
   }
  }
 },
 "nbformat": 4,
 "nbformat_minor": 5
}

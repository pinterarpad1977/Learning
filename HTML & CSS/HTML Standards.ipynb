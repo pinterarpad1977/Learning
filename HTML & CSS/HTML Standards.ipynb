{
 "cells": [
  {
   "cell_type": "markdown",
   "id": "c19a157d-f50c-4e74-a033-ff4fd0cba7e0",
   "metadata": {},
   "source": [
    "1st line Document Type Declaration\n",
    "<!DOCTYPE html>\n",
    "\n",
    "2nd line defines the HTML Structure:\n",
    "<html>\n",
    "    \n",
    "</html>    \n",
    "\n",
    "3rd the head element goes above the body\n",
    "The head contains metadata about the page itself, it will not be displayed\n",
    "The title is always in the head\n",
    "\n",
    "<head>\n",
    "        <title>html standards</title>\n",
    "</head>\n"
   ]
  },
  {
   "cell_type": "markdown",
   "id": "d085081e-0199-46fa-9b57-65e141710fa8",
   "metadata": {},
   "source": [
    "### anchor element (a)\n",
    "\n",
    "the href (hyperlink reference) is mandatory attribute + text to give the link a visible name\n",
    "<a href=\"https://en.wikipedia.org/wiki/Brown_bear\">Learn More</a>\n",
    "\n",
    "to open a link in a new tab / window use the target attribute _blank\n",
    "<a href=\"https://en.wikipedia.org/wiki/Brown_bear\" target=\"_blank\">Learn More</a>\n",
    "\n",
    "if the html files of the pages are stored in the same folder we can use relative path to the other files:\n",
    "<a href=\"/\">Brown Bear</a>\n",
    "<!-- web browsers respond to index.html and / the same way -->\n",
    "<a href=\"./aboutme.html\">About Me</a>\n",
    "\n",
    "\n",
    "HTML allows you to turn nearly any element into a link by wrapping that element with an anchor element. With this technique, it’s possible to turn images into links by simply wrapping the <img> element with an <a> element.\n",
    "<a href=\"https://en.wikipedia.org/wiki/Brown_bear\" target=\"_blank\">\n",
    "      <img src=\"https://content.codecademy.com/courses/web-101/web101-image_brownbear.jpg\" /></a>\n",
    "\n",
    "**Linking within the page**\n",
    "elements can have ids assigned to\n",
    "these ids can be used as a target within the page:\n",
    "<ul>\n",
    "    <li><a href=\"#introduction\">Introduction</a></li>\n",
    "    <li><a href=\"#habitat\">Habitat</a></li>\n",
    "    <li><a href=\"#media\">Media</a></li>\n",
    "</ul>\n"
   ]
  },
  {
   "cell_type": "markdown",
   "id": "9672c8a2-62de-4c48-8808-5b56af9c2d61",
   "metadata": {},
   "source": [
    "### Whitespace and indentation\n",
    "They are used to make the code more readable.\n",
    "The browser ignores both when rendering the page, so it is up to the developer how they are used\n",
    "based on the W3C the recommended indentation is 2 spaces (tab)\n",
    "\n",
    "\n",
    "### Comments\n",
    "Comments begin with <!-- and end with -->. Any characters in between will be ignored by your browser."
   ]
  },
  {
   "cell_type": "markdown",
   "id": "3f42acac-bf81-41e5-9675-9ae104ba567a",
   "metadata": {},
   "source": [
    "A full list of available HTML tags can be found in Mozilla documentation.\n",
    "https://developer.mozilla.org/en-US/docs/Web/HTML/Element\n",
    "\n",
    "Let’s review what you’ve learned this lesson:\n",
    "\n",
    "1. The <!DOCTYPE html> declaration should always be the first line of code in your HTML files. This lets the browser know what version of HTML to expect.\n",
    "2. The <html> element will contain all of your HTML code.\n",
    "3. Information about the web page, like the title, belongs within the <head> of the page.\n",
    "4. You can add a title to your web page by using the <title> element, inside of the head.\n",
    "5. A webpage’s title appears in a browser’s tab.\n",
    "6. Anchor tags (<a>) are used to link to internal pages, external pages or content on the same page.\n",
    "7. You can create sections on a webpage and jump to them using <a> tags and adding ids to the elements you wish to jump to.\n",
    "8. Whitespace between HTML elements helps make code easier to read while not changing how elements appear in the browser.\n",
    "9. Indentation also helps make code easier to read. It makes parent-child relationships visible.\n",
    "10. Comments are written in HTML using the following syntax: <!-- comment -->.\n"
   ]
  },
  {
   "cell_type": "code",
   "execution_count": null,
   "id": "ce081457-086b-4ec8-9744-fbd5ecc02cf2",
   "metadata": {},
   "outputs": [],
   "source": []
  },
  {
   "cell_type": "code",
   "execution_count": null,
   "id": "7510830d-17da-42db-9ef8-b33dfe8253b9",
   "metadata": {},
   "outputs": [],
   "source": []
  },
  {
   "cell_type": "code",
   "execution_count": null,
   "id": "e0cac22b-16aa-4c09-8f34-2353fded8f52",
   "metadata": {},
   "outputs": [],
   "source": []
  },
  {
   "cell_type": "code",
   "execution_count": null,
   "id": "6df2df46-564b-4966-a4da-a560783b18b9",
   "metadata": {},
   "outputs": [],
   "source": []
  },
  {
   "cell_type": "code",
   "execution_count": null,
   "id": "9b5de3c3-6b13-426a-84c3-0639c83390ab",
   "metadata": {},
   "outputs": [],
   "source": []
  },
  {
   "cell_type": "code",
   "execution_count": null,
   "id": "930ed9d5-3232-4697-9609-3c08c1e3b210",
   "metadata": {},
   "outputs": [],
   "source": []
  },
  {
   "cell_type": "code",
   "execution_count": null,
   "id": "223e53c5-f6f7-4734-865b-8bc1f37fb615",
   "metadata": {},
   "outputs": [],
   "source": []
  },
  {
   "cell_type": "code",
   "execution_count": null,
   "id": "ff161a5e-b8b8-4792-9edb-57009a6cd505",
   "metadata": {},
   "outputs": [],
   "source": []
  },
  {
   "cell_type": "code",
   "execution_count": null,
   "id": "b3e6638a-b789-42fd-86c7-924096dbd532",
   "metadata": {},
   "outputs": [],
   "source": []
  }
 ],
 "metadata": {
  "kernelspec": {
   "display_name": "Python 3 (ipykernel)",
   "language": "python",
   "name": "python3"
  },
  "language_info": {
   "codemirror_mode": {
    "name": "ipython",
    "version": 3
   },
   "file_extension": ".py",
   "mimetype": "text/x-python",
   "name": "python",
   "nbconvert_exporter": "python",
   "pygments_lexer": "ipython3",
   "version": "3.11.5"
  },
  "widgets": {
   "application/vnd.jupyter.widget-state+json": {
    "state": {},
    "version_major": 2,
    "version_minor": 0
   }
  }
 },
 "nbformat": 4,
 "nbformat_minor": 5
}

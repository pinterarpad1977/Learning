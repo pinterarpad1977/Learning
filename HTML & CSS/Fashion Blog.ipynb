{
 "cells": [
  {
   "cell_type": "markdown",
   "id": "bd2f8cdc-a714-41d9-94f2-be45293b4dfc",
   "metadata": {},
   "source": [
    "<!DOCTYPE html>\n",
    "<html>\n",
    "    <head>\n",
    "        <title>Everyday with Isa</title>\n",
    "    </head>\n",
    "    <body>\n",
    "        <a href=\"#contact\"><img src=\"https://content.codecademy.com/courses/learn-html/elements-and-structure/profile.jpg\"></a>\n",
    "        <h3>by Isabelle Rodriguez | 1 day ago”</h3>\n",
    "        <h1>An Insider’s Guide to NYFW</h1>\n",
    "            <img src=\"https://content.codecademy.com/courses/learn-html/elements-and-structure/image-one.jpeg\">\n",
    "            <p><a href=\"https://en.wikipedia.org/wiki/New_York_Fashion_Week\">NYFW</a> \n",
    "                can be both amazingly fun & incredibly overwhelming, especially if you’ve never been. \n",
    "                Luckily, I’m here to give you an insider’s guide and make your first show a pleasurable experience. \n",
    "                By taking my tips and tricks, and following your gut, you’ll have an unforgettable experience!</p>\n",
    "        <h2>Getting Tickets & Picking the Shows</h2>\n",
    "            <img src=\"https://content.codecademy.com/courses/learn-html/elements-and-structure/image-two.jpeg\">\n",
    "            <p>If you’re lucky or connected you can get an invite, sans the price tag. \n",
    "                But I wasn’t so lucky or connected my first 2 years so I’m here to help you out. \n",
    "                First, plan out which shows are most important to you and make a schedule and this is a biggie: SET A BUDGET. \n",
    "                If you’re worrying about blowing your cash the whole time you won’t have fun. \n",
    "                Then check out prices, days, and times and prioritize the designers you want to see most. \n",
    "                Lastly, purchase your tickets and get excited!</p>\n",
    "        <h2>Dressing for the Shows</h2>\n",
    "            <img src=\"https://content.codecademy.com/courses/learn-html/elements-and-structure/image-three.jpeg\">\n",
    "            <p>Always be true to your own sense of style, if you don’t you’ll be uncomfortable the whole time and it will show. \n",
    "                Remember, NYFW is about expressing yourself and taking in what the designers have chosen to express through their new lines.\n",
    "                Also it’s important to wear shoes you’ll be comfortable in all day. \n",
    "                Obviously you want to look good, but you’ll be on your feet all day long, so be prepared.</p>\n",
    "        <h4>Related Content</h4>\n",
    "            <ul>\n",
    "                <li>How To Style Boyfriend Jeans</li>\n",
    "                <li>When Print Is Too Much</li>\n",
    "                <li>The Overalls Trend</li>\n",
    "                <li>Fall’s It Color: Blush</li>\n",
    "            </ul>\n",
    "        <div id=\"contact\">\n",
    "            <p><strong>email:</strong> isa@fashionblog.com | \n",
    "                <strong>phone:</strong> 917-555-1098 | \n",
    "                <strong>address:</strong> 371 284th St, New York, NY, 10001</p>\n",
    "        </div>\n",
    "    </body>    \n",
    "</html>"
   ]
  }
 ],
 "metadata": {
  "kernelspec": {
   "display_name": "Python 3 (ipykernel)",
   "language": "python",
   "name": "python3"
  },
  "language_info": {
   "codemirror_mode": {
    "name": "ipython",
    "version": 3
   },
   "file_extension": ".py",
   "mimetype": "text/x-python",
   "name": "python",
   "nbconvert_exporter": "python",
   "pygments_lexer": "ipython3",
   "version": "3.11.5"
  },
  "widgets": {
   "application/vnd.jupyter.widget-state+json": {
    "state": {},
    "version_major": 2,
    "version_minor": 0
   }
  }
 },
 "nbformat": 4,
 "nbformat_minor": 5
}

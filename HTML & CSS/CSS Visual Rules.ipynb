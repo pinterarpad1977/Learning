{
 "cells": [
  {
   "cell_type": "markdown",
   "id": "fbf4e361-2b2a-40fe-a915-684dfbb2c444",
   "metadata": {},
   "source": [
    "### Font Family (typeface)\n",
    "\n",
    "- To change the typeface of text on your web page, you can use the font-family property.\n",
    "- When setting typefaces on a web page, keep the following points in mind:\n",
    "- The font specified must be installed on the user’s computer or downloaded with the site.\n",
    "- Web safe fonts are a group of fonts supported across most browsers and operating systems.\n",
    "-\n",
    "  http://www.cssfontstack.com/\n",
    "- Unless you are using web safe fonts, the font you choose may not appear the same between all browsers and operating systems.\n",
    "- When the name of a typeface consists of more than one word, it’s a best practice to enclose the typeface’s name in quotes, like so:\n",
    "\n",
    "h1 {font-family: 'Courier New';}"
   ]
  },
  {
   "cell_type": "markdown",
   "id": "4841493f-210c-4880-9b37-df5692c3f7cd",
   "metadata": {},
   "source": [
    "### Font Size\n",
    "\n",
    "It can be defined in multiple units, mostly used the px and em\n",
    "\n",
    "\n",
    "Em (em):\n",
    "The “em” unit is relative to the font size of the parent element.\n",
    "When you set a font size in “em”, it is calculated based on the current font size of its parent.\n",
    "For example, if the parent element has a font size of 16px, then 1em within that element would be equal to 16px1.\n",
    "\n",
    "Pixel (px):\n",
    "Pixels are absolute units and have a fixed value.\n",
    "If you set an element’s font size to 16px, it will always be 16 pixels regardless of the context or parent font size.\n",
    "\n"
   ]
  },
  {
   "cell_type": "markdown",
   "id": "f6aa73d2-647d-4a5e-8fcd-b31aae864be4",
   "metadata": {},
   "source": [
    "### Font Weight\n",
    "\n",
    "It has a bold and a normal value"
   ]
  },
  {
   "cell_type": "markdown",
   "id": "828831b8-d924-42c0-9825-717ca91b3387",
   "metadata": {},
   "source": [
    "### Text Align\n",
    "\n",
    "By default the text always appears on the left side of the container in which it resides.\n",
    "The text-align property can be set to one of the following commonly used values:\n",
    "- left — aligns text to the left side of its parent element, which in this case is the browser.\n",
    "- center — centers text inside of its parent element.\n",
    "- right — aligns text to the right side of its parent element.\n",
    "- justify— spaces out text in order to align with the right and left side of the parent element.\n",
    "\n"
   ]
  },
  {
   "cell_type": "markdown",
   "id": "1d650934-641c-43d3-94c4-30845f98949e",
   "metadata": {},
   "source": [
    "### Color and Background color\n",
    "\n",
    "color is the text color\n",
    "background color is the text background\n"
   ]
  },
  {
   "cell_type": "markdown",
   "id": "5fcf3b17-8ca8-4dcc-8351-ff49adf9674b",
   "metadata": {},
   "source": [
    "### Opacity\n",
    "it is measure from 0 to 1, 0 is the invisible\n"
   ]
  },
  {
   "cell_type": "markdown",
   "id": "e4728d79-3262-4c31-868d-269b7eea67cd",
   "metadata": {},
   "source": [
    "### Backgroung Image\n",
    "\n",
    "CSS can change the background of a element into an image:\n",
    ".main-banner {\n",
    "  background-image: url('https://www.example.com/image.jpg');\n",
    "}\n",
    "The URL can be a relative path too"
   ]
  },
  {
   "cell_type": "markdown",
   "id": "6f1c7356-17f1-4335-a73a-937f60a656ff",
   "metadata": {},
   "source": [
    "### !important\n",
    "\n",
    "It is not advised too use, because it cannot be overwritten.\n",
    "p {color: blue !important;}\n",
    "                                                                                                                                                                                                                                                               \n",
    "One justification for using !important is when working with multiple stylesheets. For example, if we are using the Bootstrap CSS framework and want to override the styles for one specific HTML element, we can use the !important property.\n"
   ]
  },
  {
   "cell_type": "markdown",
   "id": "c41b4361-4834-4100-937a-bc65745fa905",
   "metadata": {},
   "source": []
  },
  {
   "cell_type": "markdown",
   "id": "36ac4817-6701-42eb-b4fd-84ee668b6f2a",
   "metadata": {},
   "source": []
  }
 ],
 "metadata": {
  "kernelspec": {
   "display_name": "Python 3 (ipykernel)",
   "language": "python",
   "name": "python3"
  },
  "language_info": {
   "codemirror_mode": {
    "name": "ipython",
    "version": 3
   },
   "file_extension": ".py",
   "mimetype": "text/x-python",
   "name": "python",
   "nbconvert_exporter": "python",
   "pygments_lexer": "ipython3",
   "version": "3.11.5"
  },
  "widgets": {
   "application/vnd.jupyter.widget-state+json": {
    "state": {},
    "version_major": 2,
    "version_minor": 0
   }
  }
 },
 "nbformat": 4,
 "nbformat_minor": 5
}

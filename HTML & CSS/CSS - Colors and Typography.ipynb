{
 "cells": [
  {
   "cell_type": "markdown",
   "id": "d362a9dd-5aab-4f50-9616-c29ade6f2983",
   "metadata": {},
   "source": [
    "### Colors can be\n",
    "\n",
    "- Named colors — English words that describe colors, also called keyword colors\n",
    "- RGB — numeric values that describe a mix of red, green, and blue -> color: rgb(23, 45, 23);\n",
    "- Hexadecimal - starts with # plus 6 nums or chars. If the hex pairs are the same 3 chars are enough #FFF\n",
    "- HSL — numeric values that describe a mix of hue, saturation, and lightness\n",
    "\n",
    "Hue is the first number. It refers to an angle on a color wheel. Red is 0 degrees, Green is 120 degrees, Blue is 240 degrees, and then back to Red at 360. You can see an example of a color wheel below.\n",
    "\n",
    "<img src=\"https://content.codecademy.com/courses/learn-css-color/color_wheel_4_background.svg\">\n",
    "\n",
    "Saturation refers to the intensity or purity of the color. The saturation increases towards 100% as the color becomes richer. The saturation decreases towards 0% as the color becomes grayer.\n",
    "\n",
    "Lightness refers to how light or dark the color is. Halfway, or 50%, is normal lightness. Imagine a sliding dimmer on a light switch that starts halfway. Sliding the dimmer up towards 100% makes the color lighter, closer to white. Sliding the dimmer down towards 0% makes the color darker, closer to black.\n",
    "\n",
    "HSL is convenient for adjusting colors. In RGB, making the color a little darker may affect all three color components. In HSL, that’s as easy as changing the lightness value. HSL is also useful for making a set of colors that work well together by selecting various colors that have the same lightness and saturation but different hues."
   ]
  },
  {
   "cell_type": "markdown",
   "id": "00cf828b-101c-4df5-af66-14db5556637d",
   "metadata": {},
   "source": [
    "### Opacity and Alpha\n",
    "\n",
    "HSL and RGB has alpha, 0 means transparent 1 means opaque:\n",
    "color: hsla(34, 100%, 50%, 0.1);\n",
    "color: rgba(234, 45, 98, 0.33);\n",
    "\n",
    "HEX colors have Alpha value by adding a 2 digit hex value as a 4th pair OR a single digit at the end of the 3 digit hex colors:\n",
    "- #52BC8280\n",
    "- #F003\n",
    "  "
   ]
  },
  {
   "cell_type": "markdown",
   "id": "8fad0d3f-5da5-431f-924a-590934aded95",
   "metadata": {},
   "source": [
    "### Web Safe Fonts\n",
    "\n",
    "There is a selection of fonts that will appear the same across all browsers and operating systems. These fonts are referred to as web safe fonts.\n",
    "https://www.cssfontstack.com/\n",
    "\n",
    "### Fallback Fonts and Font Stacks\n",
    "\n",
    "Web safe fonts are good fallback fonts that can be used if your preferred font is not available.\n",
    "\n",
    "h1 {\n",
    "  font-family: Caslon, Georgia, 'Times New Roman';\n",
    "}\n",
    "\n",
    "In the example above, Georgia and Times New Roman are fallback fonts to Caslon. When you specify a group of fonts, you have what is known as a font stack. A font stack usually contains a list of similar-looking fonts. Here, the browser will first try to use the Caslon font. If that’s not available, it will try to use a similar font, Georgia. And if Georgia is not available, it will try to use Times New Roman.\n",
    "\n",
    "### Serif and Sans-Serif\n",
    "\n",
    "You may be wondering what features make a font similar to another font. The fonts Caslon, Georgia, and Times New Roman are Serif fonts. Serif fonts have extra details on the ends of each letter, as opposed to Sans-Serif fonts, which do not have the extra details.\n",
    "\n",
    "serif and sans-serif are also keyword values that can be added as a final fallback font if nothing else in the font stack is available.\n",
    "\n",
    "h1 {\n",
    "  font-family: Caslon, Georgia, 'Times New Roman', serif;\n",
    "}\n"
   ]
  },
  {
   "cell_type": "markdown",
   "id": "9cff96ad-8c4d-4a5e-8580-6494f4546b09",
   "metadata": {},
   "source": [
    "### Font Weight\n",
    "\n",
    "In CSS, the font-weight property controls how bold or thin text appears. It can be specified with keywords or numerical values.\n",
    "Keyword Values\n",
    "\n",
    "The font-weight property can take any one of these keyword values:\n",
    "\n",
    "    bold: Bold font weight.\n",
    "    normal: Normal font weight. This is the default value.\n",
    "    lighter: One font weight lighter than the element’s parent value.\n",
    "    bolder: One font weight bolder than the element’s parent value\n",
    "\n",
    "Numerical values can range from 1 (lightest) to 1000 (boldest), but it is common practice to use increments of 100. A font weight of 400 is equal to the keyword value normal, and a font weight of 700 is equal to bold."
   ]
  },
  {
   "cell_type": "markdown",
   "id": "9923c9ef-1be2-4849-87ae-5123b8cac4d1",
   "metadata": {},
   "source": [
    "### text-style and text-transform\n",
    "\n",
    "h2 {text-style: italic;}\n",
    "h1 {text-transform: uppercase;}\n",
    "\n",
    "### letter-spacing\n",
    "\n",
    "p {letter-spacing: 2px;}\n",
    "\n",
    "### word-spacing\n",
    "\n",
    "h1 {word-spacing: 0.3em;}\n",
    "\n",
    "In the example above, the word spacing is set to 0.3em. For word spacing, using em values are recommended because the spacing can be set based on the size of the font. \n",
    "\n",
    "### line-height\n",
    "\n",
    "We can use the line-height property to set how tall we want each line containing our text to be. Line height values can be a unitless number, such as 1.2, or a length value, such as 12px, 5% or 2em.\n",
    "\n",
    "p {line-height: 1.4;}\n",
    "\n"
   ]
  },
  {
   "cell_type": "markdown",
   "id": "b6103bc3-5c08-4797-9a46-9c2ce2584e24",
   "metadata": {},
   "source": [
    "### Web Fonts\n",
    "\n",
    "Previously, we learned about web safe fonts, a group of fonts supported across browsers and operating systems. However, the fonts you can use for your website are limitless—web fonts allow you to express your unique style through a multitude of different fonts found on the web.\n",
    "\n",
    "Free font services, like Google Fonts and Adobe Fonts, host fonts that you can link to from your HTML document with a provided <link> element.\n",
    "\n",
    "https://fonts.google.com/\n",
    "https://fonts.adobe.com/\n",
    "\n",
    "You can also use fonts from paid font distributors like fonts.com by downloading and hosting them with the rest of your site’s files. You can create a @font-face ruleset in your CSS stylesheet to link to the relative path of the font file. \n",
    "\n",
    "<head>\n",
    "  <!-- Add the link element for Google Fonts along with other metadata -->\n",
    "  <link href=\"https://fonts.googleapis.com/css2?family=Roboto:wght@100&display=swap\" rel=\"stylesheet\">\n",
    "</head>\n"
   ]
  },
  {
   "cell_type": "markdown",
   "id": "92977ab0-7bb8-4460-87c9-902d1a7be16e",
   "metadata": {},
   "source": [
    "### Web Fonts Using @font-face\n",
    "\n",
    "Fonts can also be added using a @font-face ruleset in your CSS stylesheet instead of using a <link> element in your HTML document. As mentioned earlier, fonts can be downloaded just like any other file on the web. They come in a few different file formats, such as:\n",
    "\n",
    "    OTF (OpenType Font)\n",
    "    TTF (TrueType Font)\n",
    "    WOFF (Web Open Font Format)\n",
    "    WOFF2 (Web Open Font Format 2)\n",
    "\n",
    "The different formats are a progression of standards for how fonts will work with different browsers, with WOFF2 being the most progressive. It’s a good idea to include TTF, WOFF, and WOFF2 formats with your @font-face rule to ensure compatibility on all browsers.\n",
    "\n",
    "@font-face {\n",
    "  font-family: 'MyParagraphFont';\n",
    "  src: url('fonts/Roboto.woff2') format('woff2'),\n",
    "       url('fonts/Roboto.woff') format('woff'),\n",
    "       url('fonts/Roboto.ttf') format('truetype');\n",
    "}\n",
    "\n",
    "Let’s take a look at the example above, line by line:\n",
    "\n",
    "    The @font-face at-rule is used as the selector. It’s recommended to define the @font-face ruleset at the top of your CSS stylesheet.\n",
    "    Inside the declaration block, the font-family property is used to set a custom name for the downloaded font. The name can be anything you choose, but it must be surrounded by quotation marks. In the example, the font is named 'MyParagraphFont', as this font will be used for all paragraphs.\n",
    "    The src property contains three values, each specifying the relative path to the font file and its format. In this example, the font files are stored inside a folder named fonts within the working directory.\n",
    "    Note that the ordering for the different formats is important because our browser will start from the top of the list and search until it finds a font format that it supports. Read more on format prioritization on CSS-Tricks.\n",
    "\n",
    "Once the @font-face at-rule is defined, you can use the font in your stylesheet!\n",
    "\n",
    "p {\n",
    "  font-family: 'MyParagraphFont', sans-serif;\n",
    "}\n",
    "\n",
    "Like using any other fonts, you can use the font-family property to set the font on any HTML element. The downloaded font can be referenced with the name you provided as the font-family property’s value in the @font-face ruleset—in this case, 'MyParagraphFont'. \n"
   ]
  },
  {
   "cell_type": "markdown",
   "id": "d0ecbad1-913a-41bf-a5ab-5f246046cc78",
   "metadata": {},
   "source": []
  },
  {
   "cell_type": "markdown",
   "id": "fb92fba3-92fd-4962-99e5-da6bf7c35c4a",
   "metadata": {},
   "source": []
  }
 ],
 "metadata": {
  "kernelspec": {
   "display_name": "Python 3 (ipykernel)",
   "language": "python",
   "name": "python3"
  },
  "language_info": {
   "codemirror_mode": {
    "name": "ipython",
    "version": 3
   },
   "file_extension": ".py",
   "mimetype": "text/x-python",
   "name": "python",
   "nbconvert_exporter": "python",
   "pygments_lexer": "ipython3",
   "version": "3.11.5"
  },
  "widgets": {
   "application/vnd.jupyter.widget-state+json": {
    "state": {},
    "version_major": 2,
    "version_minor": 0
   }
  }
 },
 "nbformat": 4,
 "nbformat_minor": 5
}

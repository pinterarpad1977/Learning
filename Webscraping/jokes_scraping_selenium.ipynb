{
 "cells": [
  {
   "cell_type": "markdown",
   "id": "e008c5e5-9f00-48e9-97a0-9204e882be3e",
   "metadata": {},
   "source": [
    "### Project plan\n",
    "\n",
    "1. scrape webpages with jokes, I want to focus on question-answer types\n",
    "2. load the data in sqlite\n",
    "3. reate a tensor flow model\n",
    "4. train it incrementally on the database\n",
    "5. create a chatbot\n",
    "6. create some kind of online version of it"
   ]
  },
  {
   "cell_type": "code",
   "execution_count": null,
   "id": "7629f086-d063-4641-b0df-203c81a09104",
   "metadata": {},
   "outputs": [],
   "source": [
    "from bs4 import BeautifulSoup\n",
    "import requests\n",
    "import re\n",
    "\n",
    "\n",
    "prefix = 'https://www.jokes.boo.co.nz/'\n",
    "start = 'jokes-about-children.html'\n",
    "home_response = requests.get(prefix+start)\n",
    "raw = home_response.content\n",
    "\n",
    "soup = BeautifulSoup(raw, 'html.parser')\n",
    "menu_tags = soup.find_all('li')\n",
    "# trying to extarct the connected html suffixes\n",
    "suffix_list = [menu_tag.a['href'] for menu_tag in menu_tags if 'html' in menu_tag.a['href']]\n",
    "suffix_list\n"
   ]
  },
  {
   "cell_type": "markdown",
   "id": "10a53ea2-46be-476c-bcef-9687273bc136",
   "metadata": {},
   "source": [
    "This is just not working, all pages are generated with javascript, I dont have files to get with requests\n",
    "\n",
    "I need to din in some other tool which can handle javascript\n",
    "I'll try Selenium"
   ]
  },
  {
   "cell_type": "code",
   "execution_count": 36,
   "id": "4b960f8e-47f8-42e9-ab44-60f1b54dd3f3",
   "metadata": {},
   "outputs": [],
   "source": [
    "from selenium import webdriver\n",
    "from selenium.webdriver.firefox.service import Service\n",
    "from selenium.webdriver.common.by import By\n",
    "\n",
    "service = Service()\n",
    "options = webdriver.FirefoxOptions()\n",
    "driver = webdriver.Firefox(service = service, options = options)\n"
   ]
  },
  {
   "cell_type": "markdown",
   "id": "a64c8115-f89e-42f2-a250-a55388176995",
   "metadata": {},
   "source": [
    "## WOW it's working!\n",
    "I needed to install selenium - pip install selenium\n",
    "I needed to install the firefox webdriver called geckodriver - it needs to be extracted in the /USR/LOCAL/BIN folder so it will be added to the PATH automatically\n",
    "\n",
    "These are the basic parameters for finding something:\n",
    "\n",
    "driver.get(url)\n",
    "\n",
    "element = driver.find_elements(by = 'tag name', value = 'p')\n",
    "element[0].text\n",
    "    \n",
    "\n",
    "element.click()\n",
    "element.send_keys('string')\n",
    "\n",
    "at the end it needs to be closed:\n",
    "driver.quit()\n"
   ]
  },
  {
   "cell_type": "code",
   "execution_count": 52,
   "id": "58554f07-90d6-4534-b16b-fd7c1eb24f96",
   "metadata": {},
   "outputs": [],
   "source": [
    "import time"
   ]
  },
  {
   "cell_type": "code",
   "execution_count": 53,
   "id": "ffec2e8e-2415-4d24-bc6c-54f812b820b9",
   "metadata": {},
   "outputs": [],
   "source": [
    "animal_jokes = dict()\n",
    "\n",
    "driver.get('https://www.jokes.boo.co.nz/blog/29030')\n",
    "condition = True\n",
    "while condition:\n",
    "    element = driver.find_elements(by = 'tag name', value = 'p')\n",
    "    header = driver.find_element(By.TAG_NAME, 'h1').text\n",
    "    animal_jokes[header] = element[0].text\n",
    "    try:\n",
    "        driver.find_element(By.CLASS_NAME, 'nav_next').click()\n",
    "        time.sleep(5)\n",
    "    except:\n",
    "        condition = False\n",
    "        \n",
    "\n"
   ]
  },
  {
   "cell_type": "code",
   "execution_count": 55,
   "id": "7c2a9657-5165-4cb9-8603-f4a096c6d849",
   "metadata": {},
   "outputs": [],
   "source": [
    "import json\n",
    "with open('animal_jokes.txt', 'w') as file:\n",
    "    file.write(json.dumps(animal_jokes))\n"
   ]
  },
  {
   "cell_type": "code",
   "execution_count": 57,
   "id": "b0af3060-841c-4a2a-b901-435d8d89b0e4",
   "metadata": {},
   "outputs": [],
   "source": [
    "australia_jokes = dict()\n",
    "\n",
    "driver.get('https://www.jokes.boo.co.nz/blog/31162')\n",
    "condition = True\n",
    "while condition:\n",
    "    element = driver.find_elements(by = 'tag name', value = 'p')\n",
    "    header = driver.find_element(By.TAG_NAME, 'h1').text\n",
    "    australia_jokes[header] = element[0].text\n",
    "    try:\n",
    "        driver.find_element(By.CLASS_NAME, 'nav_next').click()\n",
    "        time.sleep(2)\n",
    "    except:\n",
    "        condition = False\n",
    "        \n",
    "with open('australia_jokes.txt', 'w') as file:\n",
    "    file.write(json.dumps(australia_jokes))\n"
   ]
  },
  {
   "cell_type": "code",
   "execution_count": 59,
   "id": "7b9818b6-54cc-414a-b858-326c650f2d95",
   "metadata": {},
   "outputs": [],
   "source": [
    "blonde_jokes = dict()\n",
    "\n",
    "driver.get('https://www.jokes.boo.co.nz/blog/32285')\n",
    "condition = True\n",
    "while condition:\n",
    "    element = driver.find_elements(by = 'tag name', value = 'p')\n",
    "    header = driver.find_element(By.TAG_NAME, 'h1').text\n",
    "    blonde_jokes[header] = element[0].text\n",
    "    try:\n",
    "        driver.find_element(By.CLASS_NAME, 'nav_next').click()\n",
    "        time.sleep(2)\n",
    "    except:\n",
    "        condition = False\n",
    "        \n",
    "with open('blonde_jokes.txt', 'w') as file:\n",
    "    file.write(json.dumps(blonde_jokes))\n"
   ]
  },
  {
   "cell_type": "code",
   "execution_count": 60,
   "id": "1cb857b9-48be-4be7-8690-522944294a65",
   "metadata": {},
   "outputs": [],
   "source": [
    "child_jokes = dict()\n",
    "\n",
    "driver.get('https://www.jokes.boo.co.nz/blog/2875')\n",
    "condition = True\n",
    "while condition:\n",
    "    element = driver.find_elements(by = 'tag name', value = 'p')\n",
    "    header = driver.find_element(By.TAG_NAME, 'h1').text\n",
    "    child_jokes[header] = element[0].text\n",
    "    try:\n",
    "        driver.find_element(By.CLASS_NAME, 'nav_next').click()\n",
    "        time.sleep(2)\n",
    "    except:\n",
    "        condition = False\n",
    "        \n",
    "with open('child_jokes.txt', 'w') as file:\n",
    "    file.write(json.dumps(child_jokes))\n"
   ]
  },
  {
   "cell_type": "code",
   "execution_count": 61,
   "id": "74540838-f843-47ed-828a-83f8cb26ed47",
   "metadata": {},
   "outputs": [],
   "source": [
    "pc_jokes = dict()\n",
    "\n",
    "driver.get('https://www.jokes.boo.co.nz/blog/3318')\n",
    "condition = True\n",
    "while condition:\n",
    "    element = driver.find_elements(by = 'tag name', value = 'p')\n",
    "    header = driver.find_element(By.TAG_NAME, 'h1').text\n",
    "    pc_jokes[header] = element[0].text\n",
    "    try:\n",
    "        driver.find_element(By.CLASS_NAME, 'nav_next').click()\n",
    "        time.sleep(2)\n",
    "    except:\n",
    "        condition = False\n",
    "        \n",
    "with open('pc_jokes.txt', 'w') as file:\n",
    "    file.write(json.dumps(pc_jokes))\n"
   ]
  },
  {
   "cell_type": "code",
   "execution_count": 64,
   "id": "1bfb2e21-abe0-47f5-89a7-ec1d8e2092ba",
   "metadata": {},
   "outputs": [],
   "source": [
    "rest_list = ['https://www.jokes.boo.co.nz/blog/3318', 'https://www.jokes.boo.co.nz/blog/68136', 'https://www.jokes.boo.co.nz/blog/66531', 'https://www.jokes.boo.co.nz/page/4838', 'https://www.jokes.boo.co.nz/blog/3314', 'https://www.jokes.boo.co.nz/blog/6604', 'https://www.jokes.boo.co.nz/blog/6847', 'https://www.jokes.boo.co.nz/blog/2813', 'https://www.jokes.boo.co.nz/blog/31836', 'https://www.jokes.boo.co.nz/blog/30116', 'https://www.jokes.boo.co.nz/blog/32089', 'https://www.jokes.boo.co.nz/blog/7630']\n",
    "rest_dict = dict()\n",
    "\n",
    "for rest in rest_list:\n",
    "    driver.get(rest)\n",
    "    condition = True\n",
    "    while condition:\n",
    "        element = driver.find_elements(by = 'tag name', value = 'p')\n",
    "        header = driver.find_element(By.TAG_NAME, 'h1').text\n",
    "        rest_dict[header] = element[0].text\n",
    "        try:\n",
    "            driver.find_element(By.CLASS_NAME, 'nav_next').click()\n",
    "            time.sleep(2)\n",
    "        except:\n",
    "            condition = False\n",
    "            \n",
    "    with open('rest.txt', 'a') as file:\n",
    "        file.write(json.dumps(rest_dict))"
   ]
  },
  {
   "cell_type": "code",
   "execution_count": 65,
   "id": "e6bb1475-48ed-4897-835b-6be4bd6f8463",
   "metadata": {},
   "outputs": [],
   "source": [
    "driver.quit()"
   ]
  },
  {
   "cell_type": "code",
   "execution_count": null,
   "id": "ed97a75d-1c57-4a3a-9710-794c9b6ab426",
   "metadata": {},
   "outputs": [],
   "source": []
  },
  {
   "cell_type": "code",
   "execution_count": null,
   "id": "db646acf-be6c-4a02-9a02-e301d26af42a",
   "metadata": {},
   "outputs": [],
   "source": []
  },
  {
   "cell_type": "code",
   "execution_count": null,
   "id": "d1526c21-48eb-439f-ac9d-084cf3a91895",
   "metadata": {},
   "outputs": [],
   "source": []
  },
  {
   "cell_type": "code",
   "execution_count": null,
   "id": "aac31e5e-582e-4a45-9b00-eee37bb0fd0b",
   "metadata": {},
   "outputs": [],
   "source": []
  },
  {
   "cell_type": "code",
   "execution_count": null,
   "id": "0074cab8-3c19-43cd-b2d9-b34787cdb90b",
   "metadata": {},
   "outputs": [],
   "source": []
  },
  {
   "cell_type": "code",
   "execution_count": null,
   "id": "b45999ef-a497-41e8-8e9b-9c072af1dcfb",
   "metadata": {},
   "outputs": [],
   "source": []
  }
 ],
 "metadata": {
  "kernelspec": {
   "display_name": "Python 3 (ipykernel)",
   "language": "python",
   "name": "python3"
  },
  "language_info": {
   "codemirror_mode": {
    "name": "ipython",
    "version": 3
   },
   "file_extension": ".py",
   "mimetype": "text/x-python",
   "name": "python",
   "nbconvert_exporter": "python",
   "pygments_lexer": "ipython3",
   "version": "3.11.5"
  }
 },
 "nbformat": 4,
 "nbformat_minor": 5
}

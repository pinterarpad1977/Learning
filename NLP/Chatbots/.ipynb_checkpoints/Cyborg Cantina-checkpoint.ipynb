{
 "cells": [
  {
   "cell_type": "markdown",
   "id": "2718c53a-821a-40c4-84a3-e76ada3989bc",
   "metadata": {},
   "source": [
    "### Cyborg Cantina\n",
    "\n",
    "In this project you will build a retrieval-based chatbot system for a restaurant serving Mexican cuisine. You’ll use a combination of tf-idf scoring, word embedding models, and a set of use-defined functions in order to answer any number of questions from a restaurant diner.\n",
    "\n",
    "**importing the predefined functions:**"
   ]
  },
  {
   "cell_type": "code",
   "execution_count": 2,
   "id": "9ac7a4f3-6850-422e-aa14-882d0245faa9",
   "metadata": {},
   "outputs": [],
   "source": [
    "import re\n",
    "from collections import Counter\n",
    "import spacy\n",
    "word2vec = spacy.load(\"en_core_web_md\")\n",
    "from nltk import pos_tag\n",
    "from nltk.tokenize import word_tokenize\n",
    "from nltk.corpus import stopwords\n",
    "stop_words = set(stopwords.words(\"english\"))\n",
    "\n",
    "def preprocess(input_sentence):\n",
    "    input_sentence = input_sentence.lower()\n",
    "    input_sentence = re.sub(r'[^\\w\\s]','',input_sentence)\n",
    "    tokens = word_tokenize(input_sentence)\n",
    "    input_sentence = [i for i in tokens if not i in stop_words]\n",
    "    return(input_sentence)\n",
    "\n",
    "def compare_overlap(user_message, possible_response):\n",
    "    similar_words = 0\n",
    "    for token in user_message:\n",
    "        if token in possible_response:\n",
    "              similar_words += 1\n",
    "    return similar_words\n",
    "  \n",
    "def extract_nouns(tagged_message):\n",
    "    message_nouns = list()\n",
    "    for token in tagged_message:\n",
    "        if token[1].startswith(\"N\"):\n",
    "            message_nouns.append(token[0])\n",
    "    return message_nouns\n",
    "\n",
    "def compute_similarity(tokens, category):\n",
    "    output_list = list()\n",
    "    for token in tokens:\n",
    "        output_list.append([token.text, category.text, token.similarity(category)])\n",
    "    return output_list\n",
    "\n",
    "\n",
    "response_a = \"The {} has a gluten-free option, but it is not vegan\"\n",
    "response_b = \"We have a selection of sides to go along with the {}, including mashed potatoes and steamed vegatables.\"\n",
    "response_c = \"{} includes habanero, so it is a bit spicy!\"\n",
    "blank_spot = \"food\"\n",
    "\n",
    "\n",
    "responses = [response_a, response_b, response_c]\n",
    "exit_commands = (\"quit\", \"goodbye\", \"exit\", \"no\")"
   ]
  },
  {
   "cell_type": "markdown",
   "id": "1f57de3c-edce-486d-9d54-fe3d6024a98e",
   "metadata": {},
   "source": [
    "**This is the structure to fill in, it will be a class based chatbot**\n",
    "```\n",
    "class ChatBot:\r\n",
    "  \r\n",
    "  #define .make_exit() below:\r\n",
    "      \r\n",
    "  #define .chat() below:\r\n",
    "  \r\n",
    "  #define .find_intent_match() below:\r\n",
    " \r\n",
    "  #define .find_entities() below:\r\n",
    " \r\n",
    "  #define .respond() below:\r\n",
    "  \r\n",
    "\r\n",
    "#initialize ChatBot insance below:\r",
    ") method\n",
    "\r\n",
    "#ca1. l .chat(\n",
    "```\n",
    "\n",
    "\r\n",
    "Let’s begin at the end! We must provide a way for our user to end a conversation once they have had all their questions answered. Note that exit_commands, a list of strings commonly used as exit commands from a chatbot system, is already defined in- the workspace.\r\n",
    "\r\n",
    "Define a .make_exit() method with self and user_messa- ge as parameters.\r\n",
    "Within .make_exit(), write a for loop over each object-  in exit_commands.\r\n",
    "For each object in exit_commands, check if the object also occu- rs in user_message.\r\n",
    "If the object does occur in user_message, print a goodbye message to the conso- le, and return True.\r\n",
    "If the object does not occur in use\n",
    "\n",
    "2. Of course, we should provide a method that allows our chatbot to chat:\r",
    "- \r\n",
    "Define a .chat() method with self as a parameter- .\r\n",
    "Within the .chat() method, write a welcoming prompt for a user question, using the input() function. Set the result equal to user_messag- e.\r\n",
    "Create a while not loop that checks whether .make_exit(user_message) is True at each iterati- on.\r\n",
    "Within the while loop, call .respond() on user_message and assign the result to user_mes\n",
    "\n",
    "\r",
    "3. \n",
    "Let’s test out the .make_exit() functionality of the bot:- \n",
    "\r\n",
    "Outside of the ChatBot class, initialize a ChatBot instanc- e.\r\n",
    "Call the .chat() method on the ChatBot instan- bot!\r\n",
    "Ask a question that includes one of the terms in exit_comm.\n",
    "\n",
    "\n",
    "\n",
    "\n",
    "ge.  othing.) method below:"
   ]
  },
  {
   "cell_type": "code",
   "execution_count": 4,
   "id": "e4aed718-8753-4c62-a435-619d18c9ea61",
   "metadata": {},
   "outputs": [
    {
     "name": "stdin",
     "output_type": "stream",
     "text": [
      "Welcome to Mexicook! How can I help you?  i have no clue\n"
     ]
    },
    {
     "name": "stdout",
     "output_type": "stream",
     "text": [
      "Have a lovely day!\n"
     ]
    }
   ],
   "source": [
    "class ChatBot:\n",
    "  \n",
    "  #define .make_exit() below:\n",
    "  def make_exit(self, user_message):\n",
    "    for command in exit_commands:\n",
    "      if command in user_message:\n",
    "        print('Have a lovely day!')\n",
    "        return True\n",
    "    \n",
    "  #define .chat() below:\n",
    "  def chat(self):\n",
    "    user_message = input('Welcome to Mexicook! How can I help you? ')\n",
    "    while not self.make_exit(user_message):\n",
    "      user_message = self.respond(user_message)\n",
    "\n",
    "test_exit_bot = ChatBot()\n",
    "test_exit_bot.chat()"
   ]
  },
  {
   "cell_type": "markdown",
   "id": "fb536175-808f-4ae1-8957-7b688de13078",
   "metadata": {},
   "source": [
    "5. \n",
    "Let’s build a set of BoW models from our data:- \n",
    "\r\n",
    "Define a .find_intent_match() method with self, responses, and user_message as parameter- s.\r\n",
    "In the body of .find_intent_match(), call preprocess() on user_message, then call Counter() on the result to create a bag-of-w rds (BoW) mod- el.\r\n",
    "Call preprocess() on each item in responses, then call Counter() on the res a  int\r\n",
    "6.\r\n",
    "Now we can select the response that best matches the intent of the user - essage:\r\n",
    "\r\n",
    "Still in the body of .find_intent_match(), apply compare_overlap() on each response in processed_responses. Save the resulting list item to simila- rity_list.\r\n",
    "Use Python’s .index() method and max() function to select the index of the highest similarity score in similarity_list. Save the result to resp- onse_index.\r\n",
    "Use list indexing to return the element at index response_index inck  Get a hint\r\n",
    "7.\r\n",
    "Let’s test our .find_intent- match() method:\r\n",
    "\r\n",
    "Define a method called .respond(), with self and user_mess- age as parameters.\r\n",
    "Assign the result of calling .find_intent_match(responses, user_message) to a variable ca- lled best_response.\r\n",
    "Within .respond(), print best_resp- onse to the console.\r\n",
    "To allow for multiple questions, use the input() function to prompt the user for another question. Assign the res- ult to input_message.\r",
    " a response is returned!"
   ]
  },
  {
   "cell_type": "code",
   "execution_count": 10,
   "id": "3685fe91-20c6-439a-a0c0-d7e12d124f57",
   "metadata": {},
   "outputs": [
    {
     "name": "stdout",
     "output_type": "stream",
     "text": [
      "inside chat\n"
     ]
    },
    {
     "name": "stdin",
     "output_type": "stream",
     "text": [
      "Welcome to Mexicook! How can I help you?  anything vegan\n"
     ]
    },
    {
     "name": "stdout",
     "output_type": "stream",
     "text": [
      "inside respond\n",
      "inside find match\n",
      "The {} has a gluten-free option, but it is not vegan\n"
     ]
    },
    {
     "name": "stdin",
     "output_type": "stream",
     "text": [
      "Can I help you with anything else?  no\n"
     ]
    },
    {
     "name": "stdout",
     "output_type": "stream",
     "text": [
      "Have a lovely day!\n"
     ]
    }
   ],
   "source": [
    "class ChatBot:\n",
    "  \n",
    "  #define .make_exit() below:\n",
    "  def make_exit(self, user_message):\n",
    "    for command in exit_commands:\n",
    "      if command in user_message:\n",
    "        print('Have a lovely day!')\n",
    "        return True\n",
    "    \n",
    "  #define .chat() below:\n",
    "  def chat(self):\n",
    "    print('inside chat')\n",
    "    user_message = input('Welcome to Mexicook! How can I help you? ')\n",
    "    while not self.make_exit(user_message):\n",
    "      user_message = self.respond(user_message)\n",
    "\n",
    "  #define .find_intent_match() below:\n",
    "  def find_intent_match(self, responses, user_message):\n",
    "    print('inside find match')\n",
    "    bow_user_message = Counter(preprocess(user_message))\n",
    "    bow_responses = [Counter(preprocess(response)) for response in responses]\n",
    "    similarity_list = [compare_overlap(bow_response, bow_user_message) for bow_response in bow_responses]\n",
    "    response_index = similarity_list.index(max(similarity_list))\n",
    "    return responses[response_index]\n",
    "\n",
    "  #define .find_entities() below:\n",
    " \n",
    "  #define .respond() below:\n",
    "  def respond(self, user_message):\n",
    "    print('inside respond')\n",
    "    best_response = self.find_intent_match(responses, user_message)\n",
    "    print(best_response)\n",
    "    input_message = input('Can I help you with anything else? ')\n",
    "    return input_message\n",
    "\n",
    "test_intent_bot = ChatBot()\n",
    "test_intent_bot.chat()"
   ]
  },
  {
   "cell_type": "markdown",
   "id": "1cb32bf1-10be-49cc-a741-422d484daa29",
   "metadata": {},
   "source": [
    "Entity Recognition\n",
    "\r\n",
    "8 \r\n",
    "Let’s extract candidate entities from the user message- \r\n",
    "\r\n",
    "Define a .find_entities() method with self and user_message as paramete- rs.\r\n",
    "In the body of .find_entities(), call preprocess() on user_message. Then call pos_tag() on the res- ult.\r\n",
    "Call extract_nouns() on tagged_user_message. Save the result to message_no a hint\r\n",
    "9.\r\n",
    "Now we can fit a word2vec model on our candidate - ntities:\r\n",
    "\r\n",
    "Use \" \".join() to create a concatenated string from message_nouns. Call word2vec() on this string. Save the result to a variable cal- led tokens.\r\n",
    "Call word2vec() on blank_spot. Save the result to a variable call- ed category.\r\n",
    "Call compute_similarity() on tokens and category. Save the result to wortuck  Get a hint\r\n",
    "10.\r\n",
    "Finally, let’s select the entity with the highest - imilarity score:\r\n",
    "\r\n",
    "Call sort(key=lambda x: x[2]) on word2vec_result. This will sort the result list by ascendin- g similarity score.\r\n",
    "Write an if statement to check whether word2vec_result has at least one item. If False, return blank_spot. Otherwise, return the first element of the last list ite\n",
    "\n",
    "Response Selection\n",
    "\r\n",
    "11 \r\n",
    "Let’s pull together the results from the Intent Classification and Entity Extraction tasks- \r\n",
    "\r\n",
    "Within .respond(), delete the line which prints best_response to the conso- le.\r\n",
    "Directly after the call to .find_intent_match, assign the result of calling .find_entities(user_message) to ent- ity.\r\n",
    "Call Python’s .format() method, with entity as an argument, on best_response. Print the result to the terminal.m in word2vec_result."
   ]
  },
  {
   "cell_type": "code",
   "execution_count": 12,
   "id": "4d9eba83-bb97-4b66-8d95-c0857c7a8c5f",
   "metadata": {},
   "outputs": [
    {
     "name": "stdout",
     "output_type": "stream",
     "text": [
      "inside chat\n"
     ]
    },
    {
     "name": "stdin",
     "output_type": "stream",
     "text": [
      "Welcome to Mexicook! How can I help you?  is tortilla vegan\n"
     ]
    },
    {
     "name": "stdout",
     "output_type": "stream",
     "text": [
      "inside respond\n",
      "inside find match\n",
      "The tortilla has a gluten-free option, but it is not vegan\n"
     ]
    },
    {
     "name": "stdin",
     "output_type": "stream",
     "text": [
      "Can I help you with anything else?  no\n"
     ]
    },
    {
     "name": "stdout",
     "output_type": "stream",
     "text": [
      "Have a lovely day!\n"
     ]
    }
   ],
   "source": [
    "class ChatBot:\n",
    "  \n",
    "  #define .make_exit() below:\n",
    "  def make_exit(self, user_message):\n",
    "    for command in exit_commands:\n",
    "      if command in user_message:\n",
    "        print('Have a lovely day!')\n",
    "        return True\n",
    "    \n",
    "  #define .chat() below:\n",
    "  def chat(self):\n",
    "    user_message = input('Welcome to Mexicook! How can I help you? ')\n",
    "    while not self.make_exit(user_message):\n",
    "      user_message = self.respond(user_message)\n",
    "\n",
    "  #define .find_intent_match() below:\n",
    "  def find_intent_match(self, responses, user_message):\n",
    "    bow_user_message = Counter(preprocess(user_message))\n",
    "    bow_responses = [Counter(preprocess(response)) for response in responses]\n",
    "    similarity_list = [compare_overlap(bow_response, bow_user_message) for bow_response in bow_responses]\n",
    "    response_index = similarity_list.index(max(similarity_list))\n",
    "    return responses[response_index]\n",
    "\n",
    "  #define .find_entities() below:\n",
    "  def find_entities(self, user_message):\n",
    "    tagged_user_message = pos_tag(preprocess(user_message))\n",
    "    message_nouns = extract_nouns(tagged_user_message)\n",
    "    tokens = word2vec(' '.join(message_nouns))\n",
    "    category = word2vec(blank_spot)\n",
    "    word2vec_result = compute_similarity(tokens, category)\n",
    "    word2vec_result.sort(key = lambda x: x[2])\n",
    "    if len(word2vec_result) > 0:\n",
    "      return word2vec_result[-1][0]\n",
    "    else:\n",
    "      return blank_spot\n",
    " \n",
    "  #define .respond() below:\n",
    "  def respond(self, user_message):\n",
    "    best_response = self.find_intent_match(responses, user_message)\n",
    "    entity = self.find_entities(user_message)\n",
    "    print(best_response.format(entity))\n",
    "    input_message = input('Can I help you with anything else? ')\n",
    "    return input_message\n",
    "\n",
    "final_bot = ChatBot()\n",
    "final_bot.chat()\n",
    "\n",
    "\n"
   ]
  },
  {
   "cell_type": "markdown",
   "id": "f882c64d-69d0-4c00-9501-d072ead38db0",
   "metadata": {},
   "source": [
    "The bot can be improved by adding more responses and exit commands"
   ]
  },
  {
   "cell_type": "code",
   "execution_count": null,
   "id": "c7af2f89-f949-4c77-8c45-862316b39144",
   "metadata": {},
   "outputs": [],
   "source": []
  }
 ],
 "metadata": {
  "kernelspec": {
   "display_name": "Python 3 (ipykernel)",
   "language": "python",
   "name": "python3"
  },
  "language_info": {
   "codemirror_mode": {
    "name": "ipython",
    "version": 3
   },
   "file_extension": ".py",
   "mimetype": "text/x-python",
   "name": "python",
   "nbconvert_exporter": "python",
   "pygments_lexer": "ipython3",
   "version": "3.11.7"
  }
 },
 "nbformat": 4,
 "nbformat_minor": 5
}

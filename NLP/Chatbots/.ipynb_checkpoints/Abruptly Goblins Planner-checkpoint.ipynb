{
 "cells": [
  {
   "cell_type": "markdown",
   "metadata": {},
   "source": [
    "# Introduction\n",
    "\n",
    "Opening your comic book store, the Sorcery Society, has been a lifelong dream come true. You quickly diversified your shop offerings to include miniatures, plush toys, collectible card games, and board games. Eventually, the store became more a games store with a selection of this week's newest comic books and a small offering of graphic novel paperbacks. Completing your transformation means offering space for local tabletop gamers. They love to play their favorite RPG, \"Abruptly Goblins!\" and will happily pay you per chair to secure the space to do it. Unfortunately, planning the game night has fallen to you. If you pick the wrong night, not enough people will come and the game night will be cancelled. You decide it's best that you automate the game night selector to get the most people through the door. First you need to create a list of people who will be attending the game night.\n",
    "\n",
    "**Instructions**\n",
    "\n",
    "Create an empty list called `gamers`. This will be your list of people who are attending game night."
   ]
  },
  {
   "cell_type": "code",
   "execution_count": 36,
   "metadata": {},
   "outputs": [],
   "source": [
    "gamers = []"
   ]
  },
  {
   "cell_type": "markdown",
   "metadata": {},
   "source": [
    "Now we want to create a function that will update this list and add a new gamer to the this `gamers` list. Each `gamer` should be a dictionary with the following keys:\n",
    " - `\"name\"`: a string that contains the gamer's full or presumed name. E.g., \"Vicky Very\"\n",
    " - `\"availability\"`: a list of strings containing the names of the days of the week that the gamer is available. E.g., [\"Monday\", \"Thursday\", \"Sunday\"]\n",
    " \n",
    "**Instructions**\n",
    "\n",
    "Create a function called `add_gamer` that takes two parameters: `gamer` and `gamers_list`. The function should check that the argument passed to the `gamer` parameter has both `\"name\"` and a `\"availability\"` as keys and if so add `gamer` to `gamers_list`."
   ]
  },
  {
   "cell_type": "code",
   "execution_count": 37,
   "metadata": {},
   "outputs": [],
   "source": [
    "def add_gamer(gamer, gamers_list):\n",
    "    if (gamer.get('name',0) != 0) and (gamer.get('availability',0) != 0):\n",
    "        gamers_list.append(gamer)\n",
    "    return gamers_list"
   ]
  },
  {
   "cell_type": "markdown",
   "metadata": {},
   "source": [
    "Next we want to add our first gamer! Her name is Kimberly Warner and she's available on Mondays, Tuesdays, and Fridays.\n",
    "\n",
    "**Instructions**\n",
    "\n",
    "1. Create a dictionary called `kimberly` with the name and availability given above.\n",
    "2. Call `add_gamer` with `kimberly` as the first argument and `gamers` as the second."
   ]
  },
  {
   "cell_type": "code",
   "execution_count": 38,
   "metadata": {},
   "outputs": [
    {
     "data": {
      "text/plain": [
       "[{'name': 'Kimberly Warner', 'availability': ['Monday', 'Tuesday', 'Friday']}]"
      ]
     },
     "execution_count": 38,
     "metadata": {},
     "output_type": "execute_result"
    }
   ],
   "source": [
    "kimberly={'name': 'Kimberly Warner', 'availability':['Monday', 'Tuesday', 'Friday']}\n",
    "add_gamer(kimberly, gamers)"
   ]
  },
  {
   "cell_type": "markdown",
   "metadata": {},
   "source": [
    "Great! Let's add a couple more gamers to the list!"
   ]
  },
  {
   "cell_type": "code",
   "execution_count": 39,
   "metadata": {},
   "outputs": [
    {
     "data": {
      "text/plain": [
       "[{'name': 'Kimberly Warner', 'availability': ['Monday', 'Tuesday', 'Friday']},\n",
       " {'name': 'Thomas Nelson',\n",
       "  'availability': ['Tuesday', 'Thursday', 'Saturday']},\n",
       " {'name': 'Joyce Sellers',\n",
       "  'availability': ['Monday', 'Wednesday', 'Friday', 'Saturday']},\n",
       " {'name': 'Michelle Reyes',\n",
       "  'availability': ['Wednesday', 'Thursday', 'Sunday']},\n",
       " {'name': 'Stephen Adams', 'availability': ['Thursday', 'Saturday']},\n",
       " {'name': 'Joanne Lynn', 'availability': ['Monday', 'Thursday']},\n",
       " {'name': 'Latasha Bryan', 'availability': ['Monday', 'Sunday']},\n",
       " {'name': 'Crystal Brewer',\n",
       "  'availability': ['Thursday', 'Friday', 'Saturday']},\n",
       " {'name': 'James Barnes Jr.',\n",
       "  'availability': ['Tuesday', 'Wednesday', 'Thursday', 'Sunday']},\n",
       " {'name': 'Michel Trujillo',\n",
       "  'availability': ['Monday', 'Tuesday', 'Wednesday']}]"
      ]
     },
     "execution_count": 39,
     "metadata": {},
     "output_type": "execute_result"
    }
   ],
   "source": [
    "add_gamer({'name':'Thomas Nelson','availability': [\"Tuesday\", \"Thursday\", \"Saturday\"]}, gamers)\n",
    "add_gamer({'name':'Joyce Sellers','availability': [\"Monday\", \"Wednesday\", \"Friday\", \"Saturday\"]}, gamers)\n",
    "add_gamer({'name':'Michelle Reyes','availability': [\"Wednesday\", \"Thursday\", \"Sunday\"]}, gamers)\n",
    "add_gamer({'name':'Stephen Adams','availability': [\"Thursday\", \"Saturday\"]}, gamers)\n",
    "add_gamer({'name': 'Joanne Lynn', 'availability': [\"Monday\", \"Thursday\"]}, gamers)\n",
    "add_gamer({'name':'Latasha Bryan','availability': [\"Monday\", \"Sunday\"]}, gamers)\n",
    "add_gamer({'name':'Crystal Brewer','availability': [\"Thursday\", \"Friday\", \"Saturday\"]}, gamers)\n",
    "add_gamer({'name':'James Barnes Jr.','availability': [\"Tuesday\", \"Wednesday\", \"Thursday\", \"Sunday\"]}, gamers)\n",
    "add_gamer({'name':'Michel Trujillo','availability': [\"Monday\", \"Tuesday\", \"Wednesday\"]}, gamers)\n",
    "\n",
    "gamers"
   ]
  },
  {
   "cell_type": "markdown",
   "metadata": {},
   "source": [
    "## Finding the perfect availability\n",
    "\n",
    "Now that we have a list of all of the people interested in game night, we want to be able to calculate which nights would have the most participation. First we need to create a frequency table which correlates each day of the week with gamer availability.\n",
    "\n",
    "**Instructions**\n",
    "\n",
    "Create a function called `build_daily_frequency_table` that takes no argument returns a dictionary with the days of the week as keys and `0`s for values. We'll be using this to count the availability per night. Call `build_daily_frequency_table` and save the results to a variable called `count_availability`."
   ]
  },
  {
   "cell_type": "code",
   "execution_count": 40,
   "metadata": {},
   "outputs": [],
   "source": [
    "def build_daily_frequency_table():\n",
    "    keys = ['Monday', 'Tuesday', 'Wednesday', 'Thursday', 'Friday', 'Saturday', 'Sunday']\n",
    "    counts = [0,0,0,0,0,0,0]\n",
    "    availability = {key:count for key, count in zip(keys, counts)}\n",
    "    return availability\n",
    "counter = build_daily_frequency_table()\n"
   ]
  },
  {
   "cell_type": "markdown",
   "metadata": {},
   "source": [
    "Next we need to count the number of people every night.\n",
    "\n",
    "**Instructions**\n",
    "\n",
    "Write a function called `calculate_availability` that takes a list of gamers as an argument `gamers_list` and a frequency table `available_frequency`. The function should iterate through each gamer in `gamers_list` and iterate through each day in the gamer's availability. For each day in the gamer's availability, add one to that date on the frequency table."
   ]
  },
  {
   "cell_type": "code",
   "execution_count": 45,
   "metadata": {},
   "outputs": [],
   "source": [
    "def calculate_availability(gamers_list, availability_counter):\n",
    "    for gamer in gamers_list:\n",
    "        for day in gamer['availability']:\n",
    "            availability_counter[day] +=1\n",
    "    return availability_counter\n",
    "       "
   ]
  },
  {
   "cell_type": "markdown",
   "metadata": {},
   "source": [
    "Now let's use these tools to find the best night to run Abruptly Goblins!\n",
    "\n",
    "**Instructions**\n",
    "\n",
    "Call `calculate_availability` with `gamers` and `count_availability`. Print out `count_availability` afterwards."
   ]
  },
  {
   "cell_type": "code",
   "execution_count": 46,
   "metadata": {},
   "outputs": [
    {
     "data": {
      "text/plain": [
       "{'Monday': 5,\n",
       " 'Tuesday': 4,\n",
       " 'Wednesday': 4,\n",
       " 'Thursday': 6,\n",
       " 'Friday': 3,\n",
       " 'Saturday': 4,\n",
       " 'Sunday': 3}"
      ]
     },
     "execution_count": 46,
     "metadata": {},
     "output_type": "execute_result"
    }
   ],
   "source": [
    "count_availability = calculate_availability(gamers, counter)\n",
    "count_availability"
   ]
  },
  {
   "cell_type": "markdown",
   "metadata": {},
   "source": [
    "Lastly we need a way to pick the day with the most available people to attend so that we can schedule game night on that night.\n",
    "\n",
    "**Instructions**\n",
    "\n",
    "Write a function `find_best_night` that takes a dictionary `availability_table` and returns the key with the highest number."
   ]
  },
  {
   "cell_type": "code",
   "execution_count": 50,
   "metadata": {},
   "outputs": [],
   "source": [
    "def find_best_night(availability_table):\n",
    "    best_night = ''\n",
    "    most_people = 0\n",
    "    for key, value in availability_table.items():\n",
    "        if availability_table[key] > most_people:\n",
    "            best_night = key\n",
    "            most_people = availability_table[key]\n",
    "    return best_night, most_people\n"
   ]
  },
  {
   "cell_type": "markdown",
   "metadata": {},
   "source": [
    "Now let's find the best day to host game night.\n",
    "\n",
    "**Instructions**\n",
    "\n",
    "Call `find_best_night` with `count_availability`, store the result in a variable called `game_night`.\n",
    "Print out `game_night` to find out which day it is."
   ]
  },
  {
   "cell_type": "code",
   "execution_count": 52,
   "metadata": {},
   "outputs": [
    {
     "name": "stdout",
     "output_type": "stream",
     "text": [
      "The best night is Thursday when 6 gamers can attend\n"
     ]
    }
   ],
   "source": [
    "game_night, nr_gamers = find_best_night(count_availability)\n",
    "print(f'The best night is {game_night} when {nr_gamers} gamers can attend')"
   ]
  },
  {
   "cell_type": "markdown",
   "metadata": {},
   "source": [
    "And let's make a list of all of the people who are available that night.\n",
    "\n",
    "**Instructions**\n",
    "\n",
    "* Create a function `available_on_night` that takes two parameters: `gamers_list` and `day` and returns a list of people who are available on that particular day.\n",
    "* Call `available_on_night` with `gamers` and `game_night` and save the result into the variable `attending_game_night`.\n",
    "* Print `attending_game_night`."
   ]
  },
  {
   "cell_type": "code",
   "execution_count": 62,
   "metadata": {},
   "outputs": [
    {
     "data": {
      "text/plain": [
       "['Thomas Nelson',\n",
       " 'Michelle Reyes',\n",
       " 'Stephen Adams',\n",
       " 'Joanne Lynn',\n",
       " 'Crystal Brewer',\n",
       " 'James Barnes Jr.']"
      ]
     },
     "execution_count": 62,
     "metadata": {},
     "output_type": "execute_result"
    }
   ],
   "source": [
    "def available_on_night(gamers_list, day):\n",
    "    available = []\n",
    "    for gamer in gamers:\n",
    "        if day in gamer['availability']:\n",
    "            available.append(gamer['name'])\n",
    "    return available\n",
    "\n",
    "attending_game_night = available_on_night(gamers, 'Thursday')\n",
    "attending_game_night"
   ]
  },
  {
   "cell_type": "markdown",
   "metadata": {},
   "source": [
    "## Generating an E-mail for the Participants\n",
    "\n",
    "With the best day for Abruptly Goblins! determined with computer precision, we need to let the attendees know that the game night is on a night they can attend. Let's start by creating a form email to send to each of the participants that we'll fill out with data later.\n",
    "\n",
    "**Instructions**\n",
    "\n",
    "Define a string, called `form_email` with interpolation variables `{name}`, `{day_of_week}`, and `{game}` (in case we decide we want to use this featureset to host a different game night). Use it to tell your gaming attendees the night their Abruptly Goblins! game can be played."
   ]
  },
  {
   "cell_type": "code",
   "execution_count": 56,
   "metadata": {},
   "outputs": [],
   "source": [
    "name = ''\n",
    "game = 'Abruptly Goblins'\n",
    "day_of_week = ''\n",
    "form_email = f'Dear {name}, the {game} game night will be held on {day_of_week}. Good luck!'"
   ]
  },
  {
   "cell_type": "markdown",
   "metadata": {},
   "source": [
    "**Instructions**\n",
    "\n",
    "Create a function `send_email` with three parameters: `gamers_who_can_attend`, `day`, and `game`. Print `form_email` for each gamer in `gamers_who_can_attend` with the appropriate `day` and `game`.\n",
    "Call `send_email` with `attending_game_night`, `game_night`, and `\"Abruptly Goblins!\"`."
   ]
  },
  {
   "cell_type": "code",
   "execution_count": 63,
   "metadata": {},
   "outputs": [
    {
     "name": "stdout",
     "output_type": "stream",
     "text": [
      "Dear Thomas Nelson, the Abruptly Goblins game night will be held on Thursday. Good luck!\n",
      "Dear Michelle Reyes, the Abruptly Goblins game night will be held on Thursday. Good luck!\n",
      "Dear Stephen Adams, the Abruptly Goblins game night will be held on Thursday. Good luck!\n",
      "Dear Joanne Lynn, the Abruptly Goblins game night will be held on Thursday. Good luck!\n",
      "Dear Crystal Brewer, the Abruptly Goblins game night will be held on Thursday. Good luck!\n",
      "Dear James Barnes Jr., the Abruptly Goblins game night will be held on Thursday. Good luck!\n"
     ]
    }
   ],
   "source": [
    "def send_email(gamers_can_attend, game, day_of_week ):\n",
    "    for gamer in gamers_can_attend:\n",
    "        print(f'Dear {gamer}, the {game} game night will be held on {day_of_week}. Good luck!')\n",
    "    \n",
    "send_email(attending_game_night, game, game_night)"
   ]
  },
  {
   "cell_type": "markdown",
   "metadata": {},
   "source": [
    "### Afterward\n",
    "\n",
    "You feel bad for the folks who weren't able to attend on the decided upon game night, and try to use your currently written methods to have a second game night of the week.\n",
    "\n",
    "**Instructions**\n",
    "\n",
    "* Create a list `unable_to_attend_best_night` of everyone in `gamers` that wasn't able to attend game night on `game_night`.\n",
    "* Create `second_night_availability` frequency table by calling `build_daily_frequency_table`.\n",
    "* Call `calculate_availability` with `unable_to_attend_best_night` and `second_night_availability`.\n",
    "* Call `find_best_night` with the now filled-in `second_night_availability`, save the results in `second_night`.\n"
   ]
  },
  {
   "cell_type": "code",
   "execution_count": 70,
   "metadata": {},
   "outputs": [
    {
     "data": {
      "text/plain": [
       "['Kimberly Warner',\n",
       " 'Joyce Sellers',\n",
       " 'Joanne Lynn',\n",
       " 'Latasha Bryan',\n",
       " 'Michel Trujillo']"
      ]
     },
     "execution_count": 70,
     "metadata": {},
     "output_type": "execute_result"
    }
   ],
   "source": [
    "unable_to_attend_best_night = []\n",
    "for gamer in gamers:\n",
    "    if gamer['name'] not in attending_game_night:\n",
    "        unable_to_attend_best_night.append(gamer)\n",
    "\n",
    "second_night_counter = build_daily_frequency_table()\n",
    "second_count = calculate_availability(unable_to_attend_best_night,second_night_counter)\n",
    "second_best_night, attendies = find_best_night(second_count)\n",
    "attending_second_night = available_on_night(unable_to_attend_best_night, 'Monday')\n",
    "attending_second_night"
   ]
  },
  {
   "cell_type": "markdown",
   "metadata": {},
   "source": [
    "Let's send out an email to everyone (whether they can attend the first night or not) whose marked themselves as available on our second game night.\n",
    "\n",
    "**Instructions**\n",
    "\n",
    "* Create the list `available_second_game_night` by calling `available_on_night` with `gamers` and `second_night`\n",
    "* Let the gamers know by calling `send_email` with `available_second_game_night`, `second_night`, and \"Abruptly Goblins!\""
   ]
  },
  {
   "cell_type": "code",
   "execution_count": 71,
   "metadata": {},
   "outputs": [
    {
     "name": "stdout",
     "output_type": "stream",
     "text": [
      "Dear Kimberly Warner, the Abruptly Goblins game night will be held on Monday. Good luck!\n",
      "Dear Joyce Sellers, the Abruptly Goblins game night will be held on Monday. Good luck!\n",
      "Dear Joanne Lynn, the Abruptly Goblins game night will be held on Monday. Good luck!\n",
      "Dear Latasha Bryan, the Abruptly Goblins game night will be held on Monday. Good luck!\n",
      "Dear Michel Trujillo, the Abruptly Goblins game night will be held on Monday. Good luck!\n"
     ]
    }
   ],
   "source": [
    "send_email(attending_second_night, game, second_best_night)"
   ]
  }
 ],
 "metadata": {
  "kernelspec": {
   "display_name": "Python 3 (ipykernel)",
   "language": "python",
   "name": "python3"
  },
  "language_info": {
   "codemirror_mode": {
    "name": "ipython",
    "version": 3
   },
   "file_extension": ".py",
   "mimetype": "text/x-python",
   "name": "python",
   "nbconvert_exporter": "python",
   "pygments_lexer": "ipython3",
   "version": "3.11.5"
  }
 },
 "nbformat": 4,
 "nbformat_minor": 2
}

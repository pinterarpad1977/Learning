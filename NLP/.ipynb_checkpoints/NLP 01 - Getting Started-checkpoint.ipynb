{
 "cells": [
  {
   "cell_type": "markdown",
   "id": "5b2b9815",
   "metadata": {},
   "source": [
    "### Popular NLP Resources\n",
    "As you go through the path, we’ll suggest certain resources for you to use, like articles, videos, tutorials, and documentation. Here are some additional resources that are considered groundbreaking, significant, or classics in the industry and will help you throughout your Path:\n",
    "\n",
    "- NLTK - https://www.nltk.org/\n",
    "- re - https://docs.microsoft.com/en-us/dotnet/standard/base-types/regular-expression-language-quick-reference\n",
    "- spaCy - https://spacy.io/usage\n",
    "- gensim - https://radimrehurek.com/gensim/\n",
    "- scikit-learn: Working with Text Data - https://scikit-learn.org/stable/tutorial/text_analytics/working_with_text_data.html\n",
    "- TensorFlow - https://www.tensorflow.org/addons/tutorials/networks_seq2seq_nmt"
   ]
  },
  {
   "cell_type": "markdown",
   "id": "fbcb0a31",
   "metadata": {},
   "source": [
    "### Text Preprocessing\n",
    "\n",
    "- **Noise removal** — stripping text of formatting (e.g., HTML tags).\n",
    "- **Tokenization** — breaking text into individual words.\n",
    "- **Normalization** — cleaning text data in any other way:\n",
    "    - **Stemming** is a blunt axe to chop off word prefixes and suffixes. “booing” and “booed” become “boo”, but “computer” may become “comput” and “are” would remain “are.”\n",
    "    - **Lemmatization** is a scalpel to bring words down to their root forms. For example, NLTK’s savvy lemmatizer knows “am” and “are” are related to “be.”\n",
    "    - Other common tasks include lowercasing, stopwords removal, spelling correction"
   ]
  },
  {
   "cell_type": "markdown",
   "id": "abbced83",
   "metadata": {},
   "source": [
    "### Parsing Text\n",
    "You now have a preprocessed, clean list of words. Now what? It may be helpful to know how the words relate to each other and the underlying syntax (grammar). Parsing is an NLP process concerned with segmenting text based on syntax.\n",
    "\n",
    "You probably do not want to be doing any parsing by hand and NLTK has a few tricks up its sleeve to help you out:\n",
    "- **Part-of-speech tagging (POS tagging)** identifies parts of speech (verbs, nouns, adjectives, etc.). NLTK can do it faster (and maybe more accurately) than your grammar teacher.\n",
    "- **Named entity recognition (NER)** helps identify the proper nouns (e.g., “Natalia” or “Berlin”) in a text. This can be a clue as to the topic of the text and NLTK captures many for you.\n",
    "- **Dependency grammar trees** help you understand the relationship between the words in a sentence. It can be a tedious task for a human, so the Python library spaCy is at your service, even if it isn’t always perfect.\n",
    "- **Regex parsing**, using Python’s re library, allows for a bit more nuance. When coupled with POS tagging, you can identify specific phrase chunks. On its own, it can find you addresses, emails, and many other common patterns within large chunks of text."
   ]
  },
  {
   "cell_type": "markdown",
   "id": "8b57d3be",
   "metadata": {},
   "source": [
    "### Language Models: Bag-of-Words\n",
    "How can we help a machine make sense of a bunch of word tokens? We can help computers make predictions about language by training a language model on a corpus (a bunch of example text).\n",
    "\n",
    "Language models are probabilistic computer models of language. We build and use these models to figure out the likelihood that a given sound, letter, word, or phrase will be used. Once a model has been trained, it can be tested out on new texts.\n",
    "\n",
    "One of the most common language models is the **unigram model**, a statistical language model commonly known as **bag-of-words**. As its name suggests, bag-of-words does not have much order to its chaos! What it does have is a tally count of each instance for each word. Consider the following text example:\n",
    "\n",
    "The squids jumped out of the suitcases.\n",
    "Provided some initial preprocessing, bag-of-words would result in a mapping like:\n",
    "\n",
    "`{\"the\": 2, \"squid\": 1, \"jump\": 1, \"out\": 1, \"of\": 1, \"suitcase\": 1}`\n",
    "\n",
    "Now look at this sentence and mapping: “Why are your suitcases full of jumping squids?”\n",
    "\n",
    "`{\"why\": 1, \"be\": 1, \"your\": 1, \"suitcase\": 1, \"full\": 1, \"of\": 1, \"jump\": 1, \"squid\": 1}`\n",
    "\n",
    "You can see how even with different word order and sentence structures, “jump,” “squid,” and “suitcase” are shared topics between the two examples. Bag-of-words can be an excellent way of looking at language when you want to make predictions concerning topic or sentiment of a text. **When grammar and word order are irrelevant, this is probably a good model to use**."
   ]
  },
  {
   "cell_type": "code",
   "execution_count": null,
   "id": "e71a03a9",
   "metadata": {},
   "outputs": [],
   "source": [
    "# importing regex and nltk\n",
    "import re, nltk\n",
    "from nltk.corpus import stopwords\n",
    "from nltk.tokenize import word_tokenize\n",
    "from nltk.stem import WordNetLemmatizer\n",
    "# importing Counter to get word counts for bag of words\n",
    "from collections import Counter\n",
    "# importing a passage from Through the Looking Glass - - - This won't work of course\n",
    "from looking_glass import looking_glass_text\n",
    "# importing part-of-speech function for lemmatization\n",
    "from part_of_speech import get_part_of_speech\n",
    "\n",
    "# Change text to another string:\n",
    "text = looking_glass_text\n",
    "\n",
    "cleaned = re.sub('\\W+', ' ', text).lower()\n",
    "tokenized = word_tokenize(cleaned)\n",
    "\n",
    "stop_words = stopwords.words('english')\n",
    "filtered = [word for word in tokenized if word not in stop_words]\n",
    "\n",
    "normalizer = WordNetLemmatizer()\n",
    "normalized = [normalizer.lemmatize(token, get_part_of_speech(token)) for token in filtered]\n",
    "# Comment out the print statement below\n",
    "print(normalized)\n",
    "\n",
    "# Define bag_of_looking_glass_words & print:\n",
    "bag_of_looking_glass_words = Counter(normalized)\n",
    "print(bag_of_looking_glass_words)"
   ]
  },
  {
   "cell_type": "markdown",
   "id": "4d03df9c",
   "metadata": {},
   "source": [
    "### Language Models: N-Gram and NLM\n",
    "For parsing entire phrases or conducting language prediction, you will want to use a model that pays attention to each word’s neighbors. Unlike bag-of-words, the n-gram model considers a sequence of some number (n) units and calculates the probability of each unit in a body of language given the preceding sequence of length n. Because of this, n-gram probabilities with larger n values can be impressive at language prediction.\n",
    "\n",
    "Take a look at our revised squid example: “The squids jumped out of the suitcases. The squids were furious.”\n",
    "\n",
    "A bigram model (where n is 2) might give us the following count frequencies:\n",
    "\n",
    "```{('', 'the'): 2, ('the', 'squids'): 2, ('squids', 'jumped'): 1, ('jumped', 'out'): 1, ('out', 'of'): 1, ('of', 'the'): 1, ('the', 'suitcases'): 1, ('suitcases', ''): 1, ('squids', 'were'): 1, ('were', 'furious'): 1, ('furious', ''): 1}```\n",
    "\n",
    "There are a couple problems with the n gram model:\n",
    "\n",
    "- How can your language model make sense of the sentence “The cat fell asleep in the mailbox” if it’s never seen the word “mailbox” before? During training, your model will probably come across test words that it has never encountered before (this issue also pertains to bag of words). A tactic known as language smoothing can help adjust probabilities for unknown words, but it isn’t always ideal.\n",
    "\n",
    "- For a model that more accurately predicts human language patterns, you want n (your sequence length) to be as large as possible. That way, you will have more natural sounding language, right? Well, as the sequence length grows, the number of examples of each sequence within your training corpus shrinks. With too few examples, you won’t have enough data to make many predictions.\n",
    "\n",
    "Enter neural language models (NLMs)! Much recent work within NLP has involved developing and training neural networks to approximate the approach our human brains take towards language. This deep learning approach allows computers a much more adaptive tack to processing human language. Common NLMs include LSTMs and transformer models."
   ]
  },
  {
   "cell_type": "markdown",
   "id": "b0d1d74d",
   "metadata": {},
   "source": [
    "### Topic Models\n",
    "We’ve touched on the idea of finding topics within a body of language. But what if the text is long and the topics aren’t obvious?\n",
    "\n",
    "**Topic modeling** is an area of NLP dedicated to uncovering latent, or hidden, topics within a body of language. For example, one Codecademy curriculum developer used topic modeling to discover patterns within Taylor Swift songs related to love and heartbreak over time.\n",
    "\n",
    "A common technique is to deprioritize the most common words and prioritize less frequently used terms as topics in a process known as **term frequency-inverse document frequency (tf-idf)**. Say what?! This may sound counter-intuitive at first. Why would you want to give more priority to less-used words? Well, when you’re working with a lot of text, it makes a bit of sense if you don’t want your topics filled with words like “the” and “is.” The Python libraries gensim and sklearn have modules to handle tf-idf.\n",
    "\n",
    "Whether you use your plain bag of words (which will give you term frequency) or run it through tf-idf, the next step in your topic modeling journey is often **latent Dirichlet allocation (LDA)**. LDA is a statistical model that takes your documents and determines which words keep popping up together in the same contexts (i.e., documents). We’ll use sklearn to tackle this for us.\n",
    "\n",
    "If you have any interest in visualizing your newly minted topics, **word2vec** is a great technique to have up your sleeve. word2vec can map out your topic model results spatially as vectors so that similarly used words are closer together. In the case of a language sample consisting of “The squids jumped out of the suitcases. The squids were furious. Why are your suitcases full of jumping squids?”, we might see that “suitcase”, “jump”, and “squid” were words used within similar contexts. This word-to-vector mapping is known as a word embedding."
   ]
  },
  {
   "cell_type": "markdown",
   "id": "68457f2a",
   "metadata": {},
   "source": [
    "### Text Similarity\n",
    "Most of us have a good autocorrect story. Our phone’s messenger quietly swaps one letter for another as we type and suddenly the meaning of our message has changed (to our horror or pleasure). However, addressing **text similarity** — including spelling correction — is a major challenge within natural language processing.\n",
    "\n",
    "Addressing word similarity and misspelling for spellcheck or autocorrect often involves considering the **Levenshtein distance** or minimal edit distance between two words. The distance is calculated through the minimum number of insertions, deletions, and substitutions that would need to occur for one word to become another. For example, turning “bees” into “beans” would require one substitution (“a” for “e”) and one insertion (“n”), so the Levenshtein distance would be two.\n",
    "\n",
    "**Phonetic similarity** is also a major challenge within speech recognition. English-speaking humans can easily tell from context whether someone said “euthanasia” or “youth in Asia,” but it’s a far more challenging task for a machine! More advanced autocorrect and spelling correction technology additionally considers key distance on a keyboard and phonetic similarity (how much two words or phrases sound the same).\n",
    "\n",
    "It’s also helpful to find out if texts are the same to guard against plagiarism, which we can identify through **lexical similarity** (the degree to which texts use the same vocabulary and phrases). Meanwhile, **semantic similarity** (the degree to which documents contain similar meaning or topics) is useful when you want to find (or recommend) an article or book similar to one you recently finished."
   ]
  },
  {
   "cell_type": "code",
   "execution_count": null,
   "id": "84c77745",
   "metadata": {},
   "outputs": [],
   "source": [
    "import nltk\n",
    "# NLTK has a built-in function\n",
    "# to check Levenshtein distance:\n",
    "from nltk.metrics import edit_distance\n",
    "\n",
    "def print_levenshtein(string1, string2):\n",
    "  print(\"The Levenshtein distance from '{0}' to '{1}' is {2}!\".format(string1, string2, edit_distance(string1, string2)))\n",
    "\n",
    "# Check the distance between\n",
    "# any two words here!\n",
    "print_levenshtein(\"fart\", \"target\")\n",
    "\n",
    "# Assign passing strings here:\n",
    "three_away_from_code = \"coding\"\n",
    "\n",
    "two_away_from_chunk = \"chick\"\n",
    "\n",
    "print_levenshtein(\"code\", three_away_from_code)\n",
    "print_levenshtein(\"chunk\", two_away_from_chunk)"
   ]
  },
  {
   "cell_type": "markdown",
   "id": "b7ef3699",
   "metadata": {},
   "source": [
    "### Language Prediction & Text Generation\n",
    "How does your favorite search engine complete your search queries? How does your phone’s keyboard know what you want to type next? Language prediction is an application of NLP concerned with predicting text given preceding text. Autosuggest, autocomplete, and suggested replies are common forms of language prediction.\n",
    "\n",
    "Your first step to language prediction is picking a language model. Bag of words alone is generally not a great model for language prediction; no matter what the preceding word was, you will just get one of the most commonly used words from your training corpus.\n",
    "\n",
    "If you go the n-gram route, you will most likely rely on **Markov chains** to predict the statistical likelihood of each following word (or character) based on the training corpus. Markov chains are memory-less and make statistical predictions based entirely on the current n-gram on hand.\n",
    "\n",
    "For example, let’s take a sentence beginning, “I ate so many grilled cheese”. Using a trigram model (where n is 3), a Markov chain would predict the following word as “sandwiches” based on the number of times the sequence “grilled cheese sandwiches” has appeared in the training data out of all the times “grilled cheese” has appeared in the training data.\n",
    "\n",
    "A more advanced approach, using a neural language model, is the **Long Short Term Memory (LSTM)** model. LSTM uses deep learning with a network of artificial “cells” that manage memory, making them better suited for text prediction than traditional neural networks."
   ]
  },
  {
   "cell_type": "markdown",
   "id": "17d689ce",
   "metadata": {},
   "source": [
    "### Advanced NLP Topics\n",
    "Believe it or not, you’ve just scratched the surface of natural language processing. There are a slew of advanced topics and applications of NLP, many of which rely on deep learning and neural networks.\n",
    "\n",
    "- Naive Bayes classifiers are supervised machine learning algorithms that leverage a probabilistic theorem to make predictions and classifications. They are widely used for sentiment analysis (determining whether a given block of language expresses negative or positive feelings) and spam filtering.\n",
    "\n",
    "- We’ve made enormous gains in machine translation, but even the most advanced translation software using neural networks and LSTM still has far to go in accurately translating between languages.\n",
    "\n",
    "- Some of the most life-altering applications of NLP are focused on improving language accessibility for people with disabilities. Text-to-speech functionality and speech recognition have improved rapidly thanks to neural language models, making digital spaces far more accessible places.\n",
    "\n",
    "- NLP can also be used to detect bias in writing and speech. Feel like a political candidate, book, or news source is biased but can’t put your finger on exactly how? Natural language processing can help you identify the language at issue."
   ]
  },
  {
   "cell_type": "code",
   "execution_count": null,
   "id": "6c073563",
   "metadata": {},
   "outputs": [],
   "source": []
  }
 ],
 "metadata": {
  "kernelspec": {
   "display_name": "Python 3 (ipykernel)",
   "language": "python",
   "name": "python3"
  },
  "language_info": {
   "codemirror_mode": {
    "name": "ipython",
    "version": 3
   },
   "file_extension": ".py",
   "mimetype": "text/x-python",
   "name": "python",
   "nbconvert_exporter": "python",
   "pygments_lexer": "ipython3",
   "version": "3.11.5"
  }
 },
 "nbformat": 4,
 "nbformat_minor": 5
}

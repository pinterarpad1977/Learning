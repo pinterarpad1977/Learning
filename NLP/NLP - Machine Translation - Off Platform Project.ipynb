{
 "cells": [
  {
   "cell_type": "markdown",
   "id": "14b0654f-df78-4b82-8aec-6c63cf46d769",
   "metadata": {},
   "source": [
    "Files used:\n",
    "- hun.txt - sentence pairs (English-Hungarian)\n",
    "- preprocessing.py\n",
    "- training_mode.py\n",
    "- test_function.py"
   ]
  },
  {
   "cell_type": "code",
   "execution_count": null,
   "id": "ab2bc283-684e-4104-bb2c-be31f401c6d8",
   "metadata": {},
   "outputs": [],
   "source": [
    "import "
   ]
  },
  {
   "cell_type": "code",
   "execution_count": null,
   "id": "22c11a61-882f-4489-b623-436f729fa8f3",
   "metadata": {},
   "outputs": [],
   "source": []
  },
  {
   "cell_type": "code",
   "execution_count": null,
   "id": "434f26a9-512a-4f26-895a-c312ea4d158f",
   "metadata": {},
   "outputs": [],
   "source": []
  },
  {
   "cell_type": "code",
   "execution_count": null,
   "id": "7347349b-b0ee-4eff-a029-ffa5acda9496",
   "metadata": {},
   "outputs": [],
   "source": []
  }
 ],
 "metadata": {
  "kernelspec": {
   "display_name": "Python 3 (ipykernel)",
   "language": "python",
   "name": "python3"
  },
  "language_info": {
   "codemirror_mode": {
    "name": "ipython",
    "version": 3
   },
   "file_extension": ".py",
   "mimetype": "text/x-python",
   "name": "python",
   "nbconvert_exporter": "python",
   "pygments_lexer": "ipython3",
   "version": "3.10.13"
  }
 },
 "nbformat": 4,
 "nbformat_minor": 5
}

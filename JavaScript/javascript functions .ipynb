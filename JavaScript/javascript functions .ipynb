{
 "cells": [
  {
   "cell_type": "markdown",
   "id": "ad69abf1-7ca2-482f-8115-7d0ab4e0ecc4",
   "metadata": {},
   "source": [
    "### Define a function\n",
    "\n",
    "- There are multiple ways in JavaScript to define a function\n",
    "- the HOISTING feature of JavasCript allows to call a function before it is defined\n",
    "\n",
    "1. function identifier () { function body }\n",
    "2. function expression is usually assigned to a variable (const). the function name is omitted <- these are the anonimous functions\n",
    "    function expressions are NOT hoisted, they can be call only after definition\n",
    "3. Arrow functions: simplified syntax for function definition with the fat arrow notation ()=>\n",
    "    Actually you don't need to write down the function keyword\n",
    "   "
   ]
  },
  {
   "cell_type": "code",
   "execution_count": null,
   "id": "be1b2d7f-cd7a-4720-acae-1db543c33aee",
   "metadata": {},
   "outputs": [],
   "source": [
    "function getReminder() {\n",
    "  console.log('Water the plants.')\n",
    "}\n",
    "\n"
   ]
  },
  {
   "cell_type": "markdown",
   "id": "1454c4ec-a5ad-4d6f-973e-e66aacdebc53",
   "metadata": {},
   "source": [
    "### Paramteres and Arguments\n",
    "\n",
    "parameters are the values we declare at the time of the function definition\n",
    "They become positional arguments when we call the function\n",
    "you can set default parameters in the function definition"
   ]
  },
  {
   "cell_type": "code",
   "execution_count": null,
   "id": "6f1c97ea-b312-480b-af38-f13cd7ae0d47",
   "metadata": {},
   "outputs": [],
   "source": [
    "function greeting (name = 'stranger') {\n",
    "  console.log(`Hello, ${name}!`)\n",
    "}\n",
    "\n",
    "greeting('Nick') // Output: Hello, Nick!\n",
    "greeting() // Output: Hello, stranger!"
   ]
  },
  {
   "cell_type": "markdown",
   "id": "32b10a40-d959-414e-bda5-dff01b28c970",
   "metadata": {},
   "source": [
    "### Return\n",
    "just like in python we need to return the function's evaluation if we want to use it.\n",
    "without specifying a retunr value the function will return `undefined`\n"
   ]
  },
  {
   "cell_type": "code",
   "execution_count": null,
   "id": "bbdd5c12-c4f6-4421-8170-6959f7411a1c",
   "metadata": {},
   "outputs": [],
   "source": [
    "function monitorCount(rows, columns) {\n",
    "  return rows*columns;\n",
    "}\n",
    "// you need to define the variable!!!! - this is not python\n",
    "const numOfMonitors = monitorCount(5,4);\n",
    "console.log(numOfMonitors)"
   ]
  },
  {
   "cell_type": "markdown",
   "id": "bc02cd6e-6c70-41f7-9fd8-a62b08e28cd5",
   "metadata": {},
   "source": [
    "### Helper functions\n",
    "These are functions called within functions, nothing extra, I put here only to note the naming convention\n",
    "Writing helper functions can help take large and difficult tasks and break them into smaller and more manageable tasks."
   ]
  },
  {
   "cell_type": "code",
   "execution_count": null,
   "id": "065ef418-2246-4396-accf-fb4353811272",
   "metadata": {},
   "outputs": [],
   "source": [
    "function monitorCount(rows, columns) {\n",
    "  return rows * columns;\n",
    "}\n",
    "function costOfMonitors(rows, columns){\n",
    "  return monitorCount(rows, columns) * 200;\n",
    "}\n",
    "const totalCost = costOfMonitors(5,4);\n",
    "console.log(totalCost)\n"
   ]
  },
  {
   "cell_type": "code",
   "execution_count": null,
   "id": "4c47dde1-9d3e-4c88-81ea-4575bc21084f",
   "metadata": {},
   "outputs": [],
   "source": [
    "// an anonimous function:\n",
    "const plantNeedsWater = function(day){\n",
    "  if (day === 'Wednesday') { return true }\n",
    "  else {return false}; \n",
    "}\n",
    "\n",
    "console.log(plantNeedsWater('Tuesday'))\n",
    "\n",
    "// better solution to just return the value of the boolean expression, so you don't need to specify the conditions\n",
    "const plantNeedsWater = function(day){\n",
    "  return (day === 'Wednesday');\n",
    "}\n",
    "\n",
    "console.log(plantNeedsWater('Tuesday'))\n"
   ]
  },
  {
   "cell_type": "markdown",
   "id": "1a6aea19-3d9b-4c03-b02c-4badc28775ac",
   "metadata": {},
   "source": [
    "### Fat Arrow definition\n",
    "```\n",
    "const plantNeedsWater = (day) => {\n",
    "  return (day === 'Wednesday') \n",
    "  };\n",
    "\n",
    "```\n",
    "\n",
    "### Concise Body Arrow Functions\n",
    "\n",
    "JavaScript also provides several ways to refactor arrow function syntax. The most condensed form of the function is known as concise body. We’ll explore a few of these techniques below:\n",
    "\n",
    "- Functions that take only a single parameter do not need that parameter to be enclosed in parentheses. However, if a function takes zero or multiple parameters, parentheses are required.\n",
    "- A function body composed of a single-line block does not need curly braces. Without the curly braces, whatever that line evaluates will be automatically returned. The contents of the block should immediately follow the arrow => and the return keyword can be removed. This is referred to as implicit return.\n",
    "\n",
    "comparing single line and multiline arrow functions\n",
    "\n",
    "So if we have a function:\n",
    "```\n",
    "const squareNum = (num) => {\n",
    "  return num * num;\n",
    "};\n",
    "```\n",
    "We can refactor the function to:\n",
    "\n",
    "`const squareNum = num => num * num;`\n",
    "\n",
    "Notice the following changes:\n",
    "\n",
    "- The parentheses around num have been removed, since it has a single parameter.\n",
    "- The curly braces { } have been removed since the function consists of a single-line block.\n",
    "- The return keyword has been removed since the function consists of a single-line block.\n",
    "\n"
   ]
  },
  {
   "cell_type": "code",
   "execution_count": null,
   "id": "d4582532-0a62-4aef-89bb-40f6f6b696f7",
   "metadata": {},
   "outputs": [],
   "source": [
    "// refactoring the plantNeedsWater function to concise body:\n",
    "const plantNeedsWater = day => day === 'Wednesday' ? true : false;\n",
    "\n",
    "// or even better\n",
    "const plantNeedsWater = day => day === 'Wednesday';"
   ]
  },
  {
   "cell_type": "code",
   "execution_count": null,
   "id": "0ea30afa-9fe3-443c-b822-c671c3f75323",
   "metadata": {},
   "outputs": [],
   "source": []
  },
  {
   "cell_type": "code",
   "execution_count": null,
   "id": "2fd04e18-63a1-4f36-9fb4-672fd33c7cb4",
   "metadata": {},
   "outputs": [],
   "source": []
  },
  {
   "cell_type": "code",
   "execution_count": null,
   "id": "a8c0d645-ff33-4be2-9bf8-9db22b7e30d2",
   "metadata": {},
   "outputs": [],
   "source": []
  },
  {
   "cell_type": "code",
   "execution_count": null,
   "id": "16c8b277-9ab6-4c12-84a9-f55e074f7662",
   "metadata": {},
   "outputs": [],
   "source": []
  },
  {
   "cell_type": "code",
   "execution_count": null,
   "id": "1a14bb4d-71d8-4e69-a6bc-a0718968176a",
   "metadata": {},
   "outputs": [],
   "source": []
  }
 ],
 "metadata": {
  "kernelspec": {
   "display_name": "Python 3 (ipykernel)",
   "language": "python",
   "name": "python3"
  },
  "language_info": {
   "codemirror_mode": {
    "name": "ipython",
    "version": 3
   },
   "file_extension": ".py",
   "mimetype": "text/x-python",
   "name": "python",
   "nbconvert_exporter": "python",
   "pygments_lexer": "ipython3",
   "version": "3.11.5"
  }
 },
 "nbformat": 4,
 "nbformat_minor": 5
}

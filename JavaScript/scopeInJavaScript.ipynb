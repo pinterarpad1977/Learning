{
 "cells": [
  {
   "cell_type": "markdown",
   "id": "68f6c2a4-072f-4e26-8c52-6334d7fa1f18",
   "metadata": {},
   "source": [
    "### Blocks\n",
    "Blocks are a group of statements within  {}\n",
    "\n",
    "Variables defined outside of the blocks are accessible for the code within the blocks - this is the global scope\n",
    "variables defined inside the block are available only within the block they were defined - this is block or local scope\n",
    "if we wanted to access them from outside the block we would get a ReferenceError\n",
    "\n",
    "Scope poollution is when we define too many global variables and the global namespace fills up quickly.\n",
    "The other problem is that the value assigned to global variables can be changed on local scope (if created by let)\n",
    "which makes hard to follow the actual value\n",
    "\n",
    "Tightly scoping your variables will greatly improve your code in several ways:\n",
    "\n",
    "- It will make your code more legible since the blocks will organize your code into discrete sections.\n",
    "- It makes your code more understandable since it clarifies which variables are associated with different parts of the program rather than having to keep track of them line after line!\n",
    "- It’s easier to maintain your code, since your code will be modular.\n",
    "- It will save memory in your code because it will cease to exist after the block finishes running.\n"
   ]
  },
  {
   "cell_type": "code",
   "execution_count": null,
   "id": "a7ce1149-39cf-4380-8483-b5715c947cc8",
   "metadata": {},
   "outputs": [],
   "source": []
  },
  {
   "cell_type": "code",
   "execution_count": null,
   "id": "5393ebc4-0bcb-435c-9a9b-f3a7fb4a04ce",
   "metadata": {},
   "outputs": [],
   "source": []
  },
  {
   "cell_type": "code",
   "execution_count": null,
   "id": "d535a00d-44fa-4d71-bf3f-6fec6a3b71ce",
   "metadata": {},
   "outputs": [],
   "source": []
  },
  {
   "cell_type": "code",
   "execution_count": null,
   "id": "ac8fac2e-f5e7-418c-9d95-d0a442dba77c",
   "metadata": {},
   "outputs": [],
   "source": []
  }
 ],
 "metadata": {
  "kernelspec": {
   "display_name": "Python 3 (ipykernel)",
   "language": "python",
   "name": "python3"
  },
  "language_info": {
   "codemirror_mode": {
    "name": "ipython",
    "version": 3
   },
   "file_extension": ".py",
   "mimetype": "text/x-python",
   "name": "python",
   "nbconvert_exporter": "python",
   "pygments_lexer": "ipython3",
   "version": "3.11.5"
  }
 },
 "nbformat": 4,
 "nbformat_minor": 5
}

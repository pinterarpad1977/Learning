{
 "cells": [
  {
   "cell_type": "markdown",
   "id": "25c979b5-d8e6-4dc2-addc-47b337bafe61",
   "metadata": {},
   "source": [
    "### for loops\n",
    "\n",
    "```\n",
    "for (let counter = 0; counter < 4; counter++) {\n",
    "  console.log(counter);\n",
    "}\n",
    "```\n",
    "\n",
    "- an initialization starts the loop and can also be used to declare the iterator variable.\n",
    "- a stopping condition is the condition that the iterator variable is evaluated against— if the condition evaluates to true the code block will run, and if it evaluates to false the code will stop.\n",
    "- an iteration statement is used to update the iterator variable on each loop.\n",
    "\n",
    "\n",
    "#### With this initialization we can go backwards too :)\n",
    "```\n",
    "for (let counter = 3; counter >=0; counter--){\n",
    "  console.log(counter);\n",
    "}\n",
    "```\n",
    "\n",
    "#### looping through arrays\n",
    "```\n",
    "const vacationSpots = ['Bali', 'Paris', 'Tulum'];\n",
    "\n",
    "for (let i = 0; i < vacationSpots.length; i++) {\n",
    "  console.log(`I would love to visit ${vacationSpots[i]}`);\n",
    "}\n",
    "\n",
    "```\n"
   ]
  },
  {
   "cell_type": "code",
   "execution_count": null,
   "id": "87ac7c9f-c6d7-4376-8db3-0113177b6a7e",
   "metadata": {},
   "outputs": [],
   "source": [
    "// Nested for loops can be used to compare two arrays:\n",
    "\n",
    "const bobsFollowers = ['Greg', 'Paul', 'Ruby', 'Jane'];\n",
    "const tinasFollowers = ['Mike', 'Paul', 'Jane'];\n",
    "const mutualFollowers = [];\n",
    "\n",
    "for (let i = 0; i < bobsFollowers.length; i++) {\n",
    "  for (let j = 0; j < tinasFollowers.length; j++) {\n",
    "    if (bobsFollowers[i] === tinasFollowers[j]) {\n",
    "      mutualFollowers.push(bobsFollowers[i]);\n",
    "    }\n",
    "  }\n",
    "}"
   ]
  },
  {
   "cell_type": "markdown",
   "id": "ad6ef976-fbd5-483b-af14-51e13cfee699",
   "metadata": {},
   "source": [
    "### The WHILE loop\n",
    "\n",
    "The  variable must be declared before the loop\n",
    "The syntax of a while loop is ideal when we don’t know in advance how many times the loop should run. \n",
    "\n",
    "```\n",
    "let counterTwo = 1;\n",
    "while (counterTwo < 4) {\n",
    "  console.log(counterTwo);\n",
    "  counterTwo++;\n",
    "}\n",
    "```"
   ]
  },
  {
   "cell_type": "code",
   "execution_count": null,
   "id": "398ae1ee-35d7-4a97-b7e0-c2b00e09fa96",
   "metadata": {},
   "outputs": [],
   "source": [
    "// this while loop keeps drawing cards from the cards until it finds a 'spade':\n",
    "\n",
    "const cards = ['diamond', 'spade', 'heart', 'club'];\n",
    "\n",
    "let currentCard \n",
    "// Write your code below\n",
    "while (currentCard != 'spade'){\n",
    "  currentCard = cards[Math.floor(Math.random()*4)];\n",
    "  console.log(currentCard);\n",
    "}"
   ]
  },
  {
   "cell_type": "markdown",
   "id": "83236d51-31cf-448a-b880-9a3d91f7f981",
   "metadata": {},
   "source": [
    "### DO ... WHILE statement\n",
    "\n",
    "A do...while statement says to do a task once and then keep doing it until a specified condition is no longer met. The syntax for a do...while statement looks like this:\n",
    "```\n",
    "let countString = '';\n",
    "let i = 0;\n",
    "\n",
    "do {\n",
    "  countString = countString + i;\n",
    "  i++;\n",
    "} while (i < 5);\n",
    "\n",
    "console.log(countString);\n",
    "```\n",
    "In this example, the code block makes changes to the countString variable by appending the string form of the i variable to it. First, the code block after the do keyword is executed once. Then the condition is evaluated. If the condition evaluates to true, the block will execute again. The looping stops when the condition evaluates to false.\n",
    "\n",
    "Note that the while and do...while loop are different! Unlike the while loop, do...while will run at least once whether or not the condition evaluates to true."
   ]
  },
  {
   "cell_type": "code",
   "execution_count": null,
   "id": "6ce24fc5-02fa-4f65-ae7c-cda28a67e171",
   "metadata": {},
   "outputs": [],
   "source": [
    "// this DO - WHILE loop will add a cup of sugar even if the cupsOfSugarNeeded = 0:\n",
    "\n",
    "const cupsOfSugarNeeded = 4;\n",
    "let cupsAdded = 0;\n",
    "\n",
    "do {\n",
    "  cupsAdded ++;\n",
    "  console.log(cupsAdded);\n",
    "} while (cupsAdded < cupsOfSugarNeeded);"
   ]
  },
  {
   "cell_type": "code",
   "execution_count": null,
   "id": "b82836c9-a6d5-4f5d-b039-57119c5c75a1",
   "metadata": {},
   "outputs": [],
   "source": []
  },
  {
   "cell_type": "code",
   "execution_count": null,
   "id": "2d4c895b-c4db-4316-8b86-56ea31c4c562",
   "metadata": {},
   "outputs": [],
   "source": []
  },
  {
   "cell_type": "code",
   "execution_count": null,
   "id": "84276152-633b-400e-83ba-6219e189fdb5",
   "metadata": {},
   "outputs": [],
   "source": []
  },
  {
   "cell_type": "code",
   "execution_count": null,
   "id": "f6b88704-a475-4b02-a845-dc97e38e031a",
   "metadata": {},
   "outputs": [],
   "source": []
  },
  {
   "cell_type": "code",
   "execution_count": null,
   "id": "4b506bcf-2afa-4593-810a-d18da64cc04b",
   "metadata": {},
   "outputs": [],
   "source": []
  },
  {
   "cell_type": "code",
   "execution_count": null,
   "id": "bb2f477a-f47f-4de0-be7e-67355ad60747",
   "metadata": {},
   "outputs": [],
   "source": []
  },
  {
   "cell_type": "code",
   "execution_count": null,
   "id": "4b6479d3-bc7b-4674-9060-257935f54299",
   "metadata": {},
   "outputs": [],
   "source": []
  },
  {
   "cell_type": "code",
   "execution_count": null,
   "id": "a826dfc4-38ce-4ab7-a490-4457a88bf7d2",
   "metadata": {},
   "outputs": [],
   "source": []
  }
 ],
 "metadata": {
  "kernelspec": {
   "display_name": "Python 3 (ipykernel)",
   "language": "python",
   "name": "python3"
  },
  "language_info": {
   "codemirror_mode": {
    "name": "ipython",
    "version": 3
   },
   "file_extension": ".py",
   "mimetype": "text/x-python",
   "name": "python",
   "nbconvert_exporter": "python",
   "pygments_lexer": "ipython3",
   "version": "3.11.5"
  }
 },
 "nbformat": 4,
 "nbformat_minor": 5
}

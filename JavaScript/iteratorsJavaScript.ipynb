{
 "cells": [
  {
   "cell_type": "markdown",
   "metadata": {},
   "source": [
    "### ITERATORS\n",
    "Either we use a for loop, or we can utilize some of the built-in array methods to loop through arrays\n",
    "These built-in methods are calle **iteration methods / iterators**\n",
    "\n",
    "- .forEach()\n",
    "- .map()\n",
    "- .filter()\n",
    "\n",
    "```\n",
    "const artists = ['Picasso', 'Kahlo', 'Matisse', 'Utamaro'];\n",
    "\n",
    "artists.forEach(artist => {\n",
    "  console.log(artist + ' is one of my favorite artists.');\n",
    "});\n",
    "\n",
    "const numbers = [1, 2, 3, 4, 5];\n",
    "\n",
    "const squareNumbers = numbers.map(number => {\n",
    "  return number * number;\n",
    "});\n",
    "\n",
    "console.log(squareNumbers);\n",
    "\n",
    "const things = ['desk', 'chair', 5, 'backpack', 3.14, 100];\n",
    "\n",
    "const onlyNumbers = things.filter(thing => {\n",
    "  return typeof thing === 'number';\n",
    "});\n",
    "\n",
    "console.log(onlyNumbers);\n",
    "\n",
    "```"
   ]
  },
  {
   "cell_type": "code",
   "execution_count": null,
   "metadata": {},
   "outputs": [],
   "source": []
  },
  {
   "cell_type": "code",
   "execution_count": null,
   "metadata": {},
   "outputs": [],
   "source": []
  },
  {
   "cell_type": "code",
   "execution_count": null,
   "metadata": {},
   "outputs": [],
   "source": []
  }
 ],
 "metadata": {
  "kernelspec": {
   "display_name": "Python 3 (ipykernel)",
   "language": "python",
   "name": "python3"
  },
  "language_info": {
   "codemirror_mode": {
    "name": "ipython",
    "version": 3
   },
   "file_extension": ".py",
   "mimetype": "text/x-python",
   "name": "python",
   "nbconvert_exporter": "python",
   "pygments_lexer": "ipython3",
   "version": "3.11.5"
  }
 },
 "nbformat": 4,
 "nbformat_minor": 4
}

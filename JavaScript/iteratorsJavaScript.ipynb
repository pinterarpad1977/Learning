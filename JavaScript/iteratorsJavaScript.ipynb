{
 "cells": [
  {
   "cell_type": "markdown",
   "metadata": {},
   "source": [
    "### ITERATORS\n",
    "Either we use a for loop, or we can utilize some of the built-in array methods to loop through arrays\n",
    "These built-in methods are calle **iteration methods / iterators**\n",
    "\n",
    "- .forEach()\n",
    "- .map()\n",
    "- .filter()\n",
    "\n",
    "```\n",
    "const artists = ['Picasso', 'Kahlo', 'Matisse', 'Utamaro'];\n",
    "\n",
    "artists.forEach(artist => {\n",
    "  console.log(artist + ' is one of my favorite artists.');\n",
    "});\n",
    "\n",
    "const numbers = [1, 2, 3, 4, 5];\n",
    "\n",
    "const squareNumbers = numbers.map(number => {\n",
    "  return number * number;\n",
    "});\n",
    "\n",
    "console.log(squareNumbers);\n",
    "\n",
    "const things = ['desk', 'chair', 5, 'backpack', 3.14, 100];\n",
    "\n",
    "const onlyNumbers = things.filter(thing => {\n",
    "  return typeof thing === 'number';\n",
    "});\n",
    "\n",
    "console.log(onlyNumbers);\n",
    "\n",
    "```"
   ]
  },
  {
   "cell_type": "markdown",
   "metadata": {},
   "source": [
    "### .forEach()\n",
    "- Takes a function as argument and executes it for each item in the array\n",
    "- The function can be predefined or we can use function expression or it can be an arrow function too\n",
    "- the return value for the .forEach method is always undefined"
   ]
  },
  {
   "cell_type": "code",
   "execution_count": null,
   "metadata": {
    "scrolled": true
   },
   "outputs": [],
   "source": [
    "\n",
    "const fruits = ['mango', 'papaya', 'pineapple', 'apple'];\n",
    "\n",
    "// predefined function:\n",
    "const eat = function(fruit) {\n",
    "  console.log(`I want to eat a ${fruit}`);\n",
    "}\n",
    "fruits.forEach(eat);\n",
    "\n",
    "// function expression:\n",
    "fruits.forEach(function(fruit){\n",
    "  console.log(`I want to eat a ${fruit}`);\n",
    "})\n",
    "\n",
    "// arrow function:\n",
    "fruits.forEach( fruit => {\n",
    "  console.log(`I want to eat a ${fruit}`);\n",
    "})\n"
   ]
  },
  {
   "cell_type": "markdown",
   "metadata": {},
   "source": [
    "### .map()\n",
    "\n",
    "- it iterates through an array while ececuting a function\n",
    "- the return value for the .map() is a new array\n",
    "- the original array remains unaltered"
   ]
  },
  {
   "cell_type": "code",
   "execution_count": null,
   "metadata": {},
   "outputs": [],
   "source": [
    "const animals = ['Hen', 'elephant', 'llama', 'leopard', 'ostrich', 'Whale', 'octopus', 'rabbit', 'lion', 'dog'];\n",
    "\n",
    "// Create the secretMessage array below by taking the first letter from each item in the array\n",
    "const secretMessage = animals.map( animal => {\n",
    "  return animal[0];\n",
    "})\n",
    "\n",
    "console.log(secretMessage.join(''));\n",
    "\n",
    "const bigNumbers = [100, 200, 300, 400, 500];\n",
    "// Create the smallNumbers array below dividing them by 100:\n",
    "smallNumbers = bigNumbers.map( number => {\n",
    "  return number / 100;\n",
    "})\n",
    "console.log(smallNumbers);\n",
    "\n",
    "// -------------------------------------------------------------------------------------------------------------\n",
    "// simlified solution:\n",
    "const animals = ['Hen', 'elephant', 'llama', 'leopard', 'ostrich', 'Whale', 'octopus', 'rabbit', 'lion', 'dog'];\n",
    "\n",
    "// Create the secretMessage array below\n",
    "const secretMessage = animals.map(animal => animal[0]);\n",
    "\n",
    "console.log(secretMessage.join(''));\n",
    "\n",
    "const bigNumbers = [100, 200, 300, 400, 500];\n",
    "\n",
    "// Create the smallNumbers array below\n",
    "const smallNumbers = bigNumbers.map(num => num/100);\n",
    "\n",
    "console.log(smallNumbers)"
   ]
  },
  {
   "cell_type": "markdown",
   "metadata": {},
   "source": [
    "### .filter()\n",
    "\n",
    "- the callback function in the argument must return true or false\n",
    "- if the return value on a given item is true then the item will be added to a new array\n",
    "- the original array remains unaltered"
   ]
  },
  {
   "cell_type": "code",
   "execution_count": null,
   "metadata": {},
   "outputs": [],
   "source": [
    "const randomNumbers = [375, 200, 3.14, 7, 13, 852];\n",
    "\n",
    "// Call .filter() on randomNumbers below to filter out the ones smaller than 250\n",
    "smallNumbers = randomNumbers.filter(num => num < 250);\n",
    "console.log(smallNumbers);\n",
    "\n",
    "const favoriteWords = ['nostalgia', 'hyperbole', 'fervent', 'esoteric', 'serene'];\n",
    "\n",
    "\n",
    "// Call .filter() on favoriteWords below to get the words longer than 7 chars\n",
    "const longFavoriteWords = favoriteWords.filter( word => word.length > 7);\n",
    "console.log(longFavoriteWords);\n"
   ]
  },
  {
   "cell_type": "markdown",
   "metadata": {},
   "source": [
    "### .findIndex()\n",
    "\n",
    "- returns the index of the first element that evaluates true in the callback function\n",
    "- if there is no element in the array which satisfies the condition then .findIndex() returns -1"
   ]
  },
  {
   "cell_type": "code",
   "execution_count": null,
   "metadata": {},
   "outputs": [],
   "source": [
    "// find the index of 'elephant in the array below'\n",
    "const animals = ['hippo', 'tiger', 'lion', 'seal', 'cheetah', 'monkey', 'salamander', 'elephant'];\n",
    "\n",
    "const foundAnimal = animals.findIndex( animal => {\n",
    "  return animal === 'elephant';\n",
    "})\n",
    "\n",
    "// find the index of the item starts with 's'\n",
    "const startsWithS = animals.findIndex( animal => {\n",
    "  return animal[0] === 's';\n",
    "})\n",
    "\n",
    "console.log(foundAnimal, startsWithS)"
   ]
  },
  {
   "cell_type": "markdown",
   "metadata": {},
   "source": [
    "### .reduce()\n",
    "\n",
    "- reduces an array into a single return value based on some king of accumulation\n",
    "- it can have an optional second argument which sets the initial value for the accumulator\n",
    "- this wordks with strings too!\n",
    "\n",
    "  ```\n",
    "  const numbers = [1, 2, 4, 10];\n",
    "\n",
    "    const summedNums = numbers.reduce((accumulator, currentValue) => {\n",
    "      return accumulator + currentValue\n",
    "    })\n",
    "\n",
    "    console.log(summedNums) // Output: 17\n",
    "  ```\n",
    "  ---\n",
    "  ```\n",
    "  const numbers = [1, 2, 4, 10];\n",
    "\n",
    "    const summedNums = numbers.reduce((accumulator, currentValue) => {\n",
    "      return accumulator + currentValue\n",
    "    }, 100)  // <- Second argument for .reduce()\n",
    "\n",
    "    console.log(summedNums); // Output: 117\n",
    "  ```"
   ]
  },
  {
   "cell_type": "code",
   "execution_count": null,
   "metadata": {},
   "outputs": [],
   "source": [
    "const newNumbers = [1, 3, 5, 7];\n",
    "\n",
    "const newSum = newNumbers.reduce((accumulator, currentValue) => {\n",
    "  console.log(`The value of accumulator: `, accumulator);\n",
    "  console.log(`The value of currentValue: `, currentValue);\n",
    "  return accumulator + currentValue;\n",
    "}, 10);\n",
    "\n",
    "console.log(newSum)"
   ]
  },
  {
   "cell_type": "code",
   "execution_count": null,
   "metadata": {},
   "outputs": [],
   "source": [
    "// flatten a multi layered array with .reduce():\n",
    "\n",
    "function flattenArray(arr) {\n",
    "  return arr.reduce((result, current) => {\n",
    "    if (Array.isArray(current)) {\n",
    "      // If the current element is an array, recursively flatten it\n",
    "      return result.concat(flattenArray(current));\n",
    "    } else {\n",
    "      // Otherwise, add the current element to the result\n",
    "      return result.concat(current);\n",
    "    }\n",
    "  }, []);\n",
    "}\n",
    "\n",
    "// Example usage:\n",
    "const multiLayeredArray = [\n",
    "  [1, 2, 3],\n",
    "  [4, [5, 6], 7],\n",
    "  [8, 9],\n",
    "];\n",
    "\n",
    "const flattenedArray = flattenArray(multiLayeredArray);\n",
    "console.log(flattenedArray); // [1, 2, 3, 4, 5, 6, 7, 8, 9]\n",
    "\n"
   ]
  },
  {
   "cell_type": "markdown",
   "metadata": {},
   "source": [
    "## Iterator Documentation\n",
    "\n",
    "There are many additional built-in array methods, a complete list of which is on the MDN’s Array iteration methods page.\n",
    "\n",
    "https://developer.mozilla.org/en-US/docs/Web/JavaScript/Reference/Global_Objects/Array#Iteration_methods\n",
    "\n",
    "The documentation for each method contains several sections:\n",
    "\n",
    "    A short definition.\n",
    "    A block with the correct syntax for using the method.\n",
    "    A list of parameters the method accepts or requires.\n",
    "    The return value of the function.\n",
    "    An extended description.\n",
    "    Examples of the method’s use.\n",
    "    Other additional information.\n",
    "\n",
    "extras:\n",
    "- .some() checks if there is any element in the array which evaluates to true\n",
    "- .every() checks if every element in the array evaluates to true"
   ]
  },
  {
   "cell_type": "code",
   "execution_count": null,
   "metadata": {},
   "outputs": [],
   "source": []
  }
 ],
 "metadata": {
  "kernelspec": {
   "display_name": "Python 3 (ipykernel)",
   "language": "python",
   "name": "python3"
  },
  "language_info": {
   "codemirror_mode": {
    "name": "ipython",
    "version": 3
   },
   "file_extension": ".py",
   "mimetype": "text/x-python",
   "name": "python",
   "nbconvert_exporter": "python",
   "pygments_lexer": "ipython3",
   "version": "3.11.5"
  },
  "widgets": {
   "application/vnd.jupyter.widget-state+json": {
    "state": {},
    "version_major": 2,
    "version_minor": 0
   }
  }
 },
 "nbformat": 4,
 "nbformat_minor": 4
}

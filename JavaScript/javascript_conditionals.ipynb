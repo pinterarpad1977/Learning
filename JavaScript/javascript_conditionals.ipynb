{
 "cells": [
  {
   "cell_type": "markdown",
   "id": "29f89278-04f4-4458-a2b3-52e005fe7999",
   "metadata": {},
   "source": [
    "### IF statement\n",
    "```\n",
    "if (true) {\n",
    "  console.log('This message will print!'); \n",
    "}\n",
    "// Prints: This message will print!\n",
    "```\n",
    "\n",
    "Notice in the example above, we have an if statement. The if statement is composed of:\n",
    "\n",
    "    The if keyword followed by a set of parentheses () which is followed by a code block, or block statement, indicated by a set of curly braces {}.\n",
    "    Inside the parentheses (), a condition is provided that evaluates to true or false.\n",
    "    If the condition evaluates to true, the code inside the curly braces {} runs, or executes.\n",
    "    If the condition evaluates to false, the block won’t execute.\n"
   ]
  },
  {
   "cell_type": "code",
   "execution_count": null,
   "id": "62275f0f-acbc-4610-8cbb-15792ab60b47",
   "metadata": {},
   "outputs": [],
   "source": [
    "let sale = true;\n",
    "\n",
    "if(sale) {\n",
    "  console.log('Time to buy!')\n",
    "}"
   ]
  },
  {
   "cell_type": "markdown",
   "id": "d5c2f67b-1535-40ff-bd0b-887985f428f9",
   "metadata": {},
   "source": [
    "### IF...ELSE statement"
   ]
  },
  {
   "cell_type": "code",
   "execution_count": null,
   "id": "25d58ea6-b5b5-40dc-a1fe-5aa55b4264dc",
   "metadata": {},
   "outputs": [],
   "source": [
    "let sale = true;\n",
    "\n",
    "sale = false;\n",
    "\n",
    "if(sale) {\n",
    "  console.log('Time to buy!');\n",
    "} else {\n",
    "  console.log('Time to wait for a sale.');\n",
    "}\n"
   ]
  },
  {
   "cell_type": "markdown",
   "id": "b2250d63-6e9b-4db2-93c7-ae61379ecd37",
   "metadata": {},
   "source": [
    "### Comparison operators\n",
    "\n",
    "    Less than: <\n",
    "    Greater than: >\n",
    "    Less than or equal to: <=\n",
    "    Greater than or equal to: >=\n",
    "    Is equal to: ===\n",
    "    Is not equal to: !==\n"
   ]
  },
  {
   "cell_type": "code",
   "execution_count": null,
   "id": "29d30382-3772-400c-9e2a-76fd9e4eb953",
   "metadata": {},
   "outputs": [],
   "source": [
    "let hungerLevel = 7;\n",
    "if (hungerLevel > 7) {\n",
    "  console.log('Time to eat!')\n",
    "} else {\n",
    "  console.log('We can eat later!')\n",
    "}"
   ]
  },
  {
   "cell_type": "markdown",
   "id": "3dfab0df-fb36-47e5-92c5-94587cb476b7",
   "metadata": {},
   "source": [
    "### Logical operators\n",
    "\n",
    "\n",
    "    the and operator (&&)\n",
    "    the or operator (||)\n",
    "    the not operator, otherwise known as the bang operator (!)\n"
   ]
  },
  {
   "cell_type": "code",
   "execution_count": null,
   "id": "1d4a93f0-642a-4420-bb4e-fc00602580a9",
   "metadata": {},
   "outputs": [],
   "source": [
    "let mood = 'sleepy';\n",
    "let tirednessLevel = 6;\n",
    "if (mood === 'sleepy' && tirednessLevel > 8) {\n",
    "  console.log('time to sleep');\n",
    "} else {\n",
    "  console.log('not bed time yet');\n",
    "}"
   ]
  },
  {
   "cell_type": "markdown",
   "id": "5185d5f9-d453-4dcd-902a-b4a4c0c16846",
   "metadata": {},
   "source": [
    "### Truthy and Falsy\n",
    "\n",
    "Variable has a truthy value even if the value of the variable is not explicitly the value true, when used in a boolean or conditional context, it evaluates to true because it has been assigned a non-falsy value.\n",
    "\n",
    "So which values are falsy— or evaluate to false when checked as a condition? The list of falsy values includes:\n",
    "\n",
    "    0\n",
    "    Empty strings like \"\" or ''\n",
    "    null which represent when there is no value at all\n",
    "    undefined which represent when a declared variable lacks a value\n",
    "    NaN, or Not a Number\n"
   ]
  },
  {
   "cell_type": "code",
   "execution_count": null,
   "id": "b0e57f07-d30e-4531-8310-62e28c8fc768",
   "metadata": {},
   "outputs": [],
   "source": [
    "let wordCount = 10;\n",
    "\n",
    "if (wordCount) {\n",
    "  console.log(\"Great! You've started your work!\");\n",
    "} else {\n",
    "  console.log('Better get to work!');\n",
    "}\n",
    "\n",
    "\n",
    "let favoritePhrase = '';\n",
    "\n",
    "if (favoritePhrase) {\n",
    "  console.log(\"This string doesn't seem to be empty.\");\n",
    "} else {\n",
    "  console.log('This string is definitely empty.');\n",
    "}\n",
    "\n",
    "output:\n",
    "// Great! You've started your work!\n",
    "// This string is definitely empty."
   ]
  },
  {
   "cell_type": "markdown",
   "id": "dd8e5590-e9b6-4b78-a263-38ef1cc357e6",
   "metadata": {},
   "source": [
    "### Truthy and Falsy Assignment\n",
    "\n",
    "Assignment of values is quite cool based on the truthy / falsy evaluation.\n",
    "If we want to use the username for a personailzed greeting, but no account is needed to the visit of the page, then we can use a default value if the username is falsy\n",
    "```\n",
    "let username = '';\n",
    "let defaultName;\n",
    "\n",
    "if (username) {\n",
    "  defaultName = username;\n",
    "} else {\n",
    "  defaultName = 'Stranger';\n",
    "}\n",
    "\n",
    "console.log(defaultName); // Prints: Stranger\n",
    "```\n",
    "\n",
    "with usine a logical operator we can create a short-circuit evaluation:\n",
    "```\n",
    "let username = '';\n",
    "let defaultName = username || 'Stranger';\n",
    "```\n",
    "if we have a username that will be assigned to the defaultName, if not then the string 'Stranger'\n"
   ]
  },
  {
   "cell_type": "markdown",
   "id": "1f0b3252-e1ce-49a2-b27d-d697ad692265",
   "metadata": {},
   "source": [
    "### Ternary Operator\n",
    "\n",
    "IF...ELSE statements have a short-hand syntax too:\n",
    "boolean expression ? expression1 : expression2\n"
   ]
  },
  {
   "cell_type": "code",
   "execution_count": null,
   "id": "54aa8c81-3488-4140-be51-515a17eb9ecb",
   "metadata": {},
   "outputs": [],
   "source": [
    "let isLocked = false;\n",
    "isLocked ? console.log('You will need a key to open the door.') : console.log('You will not need a key to open the door.')\n",
    "\n",
    "let isCorrect = true;\n",
    "isCorrect ? console.log('Correct!') : console.log('Incorrect!');\n",
    "\n",
    "let favoritePhrase = 'Love That!';\n",
    "favoritePhrase === 'Love That!'? console.log('I love that!') : console.log(\"I don't love that!\");\n"
   ]
  },
  {
   "cell_type": "markdown",
   "id": "623563f3-2849-4b11-a149-c18150743b6f",
   "metadata": {},
   "source": [
    "### IF...ELSE IF...ELSE\n",
    "\n",
    "can have multiple conditions in the else if statements\n"
   ]
  },
  {
   "cell_type": "code",
   "execution_count": null,
   "id": "08865fc0-8593-4395-86cc-2221615946a0",
   "metadata": {},
   "outputs": [],
   "source": [
    "let season = 'summer';\n",
    "\n",
    "if (season === 'spring') {\n",
    "  console.log('It\\'s spring! The trees are budding!');\n",
    "} else if (season === 'winter') {\n",
    "  console.log ('It\\'s winter! Everything is covered in snow.');\n",
    "} else if (season === 'fall') {\n",
    "  console.log('It\\'s fall! Leaves are falling!');\n",
    "} else if (season === 'summer') {\n",
    "  console.log('It\\'s sunny and warm because it\\'s summer!');\n",
    "} else {\n",
    "  console.log('Invalid season.');\n",
    "}\n",
    "\n"
   ]
  },
  {
   "cell_type": "markdown",
   "id": "d24d62a7-b839-4e9c-afcc-c461e386e383",
   "metadata": {},
   "source": [
    "### SWITCH ... CASE  ... DEFAULT\n",
    "it makes the writing of multiple else if statements easier. \n",
    "it always needs break and a default statement\n",
    "without the break all the cases would be evaluated\n",
    "\n",
    "switch (boolean expression){\n",
    "    case1 value:\n",
    "    expression;\n",
    "    break;\n",
    "    case2 value:\n",
    "    expression;\n",
    "    break;\n",
    "\n",
    "    default:\n",
    "    expression;\n",
    "    break;\n",
    "    }"
   ]
  },
  {
   "cell_type": "code",
   "execution_count": null,
   "id": "48209f21-04f6-48ef-8276-fe8bfb864de9",
   "metadata": {},
   "outputs": [],
   "source": [
    "let athleteFinalPosition = 'first place';\n",
    "switch (athleteFinalPosition) {\n",
    "  case 'first place':\n",
    "  console.log('You get the gold medal!');\n",
    "  break;\n",
    "  case 'second place':\n",
    "  console.log('You get the silver medal!');\n",
    "  break;\n",
    "  case 'third place':\n",
    "  console.log('You get the bronze medal!');\n",
    "  break;\n",
    "  default:\n",
    "  console.log('No medal awarded.');\n",
    "  break;\n",
    "}"
   ]
  },
  {
   "cell_type": "code",
   "execution_count": null,
   "id": "4bec1f2b-06ff-4afc-a67b-bb55347e2a44",
   "metadata": {},
   "outputs": [],
   "source": []
  },
  {
   "cell_type": "code",
   "execution_count": null,
   "id": "a63990b8-ea03-4ae1-8282-786bfdd629f6",
   "metadata": {},
   "outputs": [],
   "source": []
  },
  {
   "cell_type": "code",
   "execution_count": null,
   "id": "48f21869-172e-4066-8a4a-e4eac3b55eb2",
   "metadata": {},
   "outputs": [],
   "source": []
  },
  {
   "cell_type": "code",
   "execution_count": null,
   "id": "47c8ea9b-7393-4288-938c-b8ba04c5ed41",
   "metadata": {},
   "outputs": [],
   "source": []
  }
 ],
 "metadata": {
  "kernelspec": {
   "display_name": "Python 3 (ipykernel)",
   "language": "python",
   "name": "python3"
  },
  "language_info": {
   "codemirror_mode": {
    "name": "ipython",
    "version": 3
   },
   "file_extension": ".py",
   "mimetype": "text/x-python",
   "name": "python",
   "nbconvert_exporter": "python",
   "pygments_lexer": "ipython3",
   "version": "3.11.5"
  }
 },
 "nbformat": 4,
 "nbformat_minor": 5
}

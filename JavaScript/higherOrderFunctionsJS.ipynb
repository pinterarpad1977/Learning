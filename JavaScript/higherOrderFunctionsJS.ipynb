{
 "cells": [
  {
   "cell_type": "markdown",
   "id": "753335d4-4703-4ad0-8248-57bf7a5c392b",
   "metadata": {},
   "source": [
    "### Higher Order Functions \n",
    "\n",
    "They accept functions as arguments and they can return functions too.\n",
    "\n",
    "JavaScript functions behave like any other data type in the language; we can assign functions to variables, and we can reassign them to new variables.\n",
    "```\n",
    "const announceThatIAmDoingImportantWork = () => {\n",
    "    console.log(\"I’m doing very important work!\");\n",
    "};\n",
    "```\n",
    "Let’s pretend this function does important work and needs to be called repeatedly. To rename this function without sacrificing the source code, we can re-assign the function to a variable with a suitably short name:\n",
    "```\n",
    "const busy = announceThatIAmDoingImportantWork;\n",
    "\n",
    "busy(); // This function call barely takes any space!\n",
    "```\n",
    "Notice how we assign announceThatIAmDoingImportantWork without parentheses as the value to the busy variable. We want to assign the value of the function itself, not the value it returns when invoked.\n",
    "\n",
    "In JavaScript, functions are first class objects. This means that, like other objects you’ve encountered, JavaScript functions can have properties and methods.\n",
    "\n",
    "Since functions are a type of object, they have properties such as .length and .name, and methods such as .toString(). You can see more about the methods and properties of functions in the documentation.\n",
    "https://developer.mozilla.org/en-US/docs/Web/JavaScript/Reference/Global_Objects/Function\n",
    "\n",
    "**REMEMBER**\n",
    "\n",
    "`.toString()` -> prints the code for the original function in console.log\n",
    "\n",
    "`.name` -> logs the original name of the function"
   ]
  },
  {
   "cell_type": "markdown",
   "id": "06f35d68-e219-4972-9239-17a43c1d362c",
   "metadata": {},
   "source": [
    "### Functions As Parameters\n",
    "\n",
    "When we invoke a higher-order function, and pass another function in as an argument, we don’t invoke the argument function. Invoking it would evaluate to passing in the return value of that function call. With callback functions, we pass in the function itself by typing the function name without the parentheses\n",
    "```\n",
    "const higherOrderFunc = param => {\n",
    "  param();\n",
    "  return `I just invoked ${param.name} as a callback function!`\n",
    "}\n",
    " \n",
    "const anotherFunc = () => {\n",
    "  return 'I\\'m being invoked by the higher-order function!';\n",
    "}\n",
    "\n",
    "higherOrderFunc(anotherFunc);\n",
    "```\n",
    "\n",
    "Anonymous functions can be parameters of a higher order funtion too\n",
    "```\n",
    "higherOrderFunc(() => {\n",
    "  for (let i = 0; i <= 10; i++){\n",
    "    console.log(i);\n",
    "  }\n",
    "});\n",
    "```\n"
   ]
  },
  {
   "cell_type": "code",
   "execution_count": null,
   "id": "624a6c62-8d11-49ac-8b0a-a04d12adc7de",
   "metadata": {},
   "outputs": [],
   "source": [
    "const addTwo = num => {\n",
    "  return num + 2;\n",
    "}\n",
    "\n",
    "const checkConsistentOutput = (func, val) => {\n",
    "  const checkA = val + 2;\n",
    "  const checkB = func(val);\n",
    "  if (checkA === checkB) {\n",
    "    return checkB;\n",
    "  } else {\n",
    "    return 'inconsistent results';\n",
    "  }\n",
    "\n",
    "}\n",
    "\n",
    "console.log(checkConsistentOutput(addTwo, 2));\n"
   ]
  },
  {
   "cell_type": "code",
   "execution_count": null,
   "id": "870900c4-cdf1-41c0-b366-b375c258f823",
   "metadata": {},
   "outputs": [],
   "source": []
  }
 ],
 "metadata": {
  "kernelspec": {
   "display_name": "Python 3 (ipykernel)",
   "language": "python",
   "name": "python3"
  },
  "language_info": {
   "codemirror_mode": {
    "name": "ipython",
    "version": 3
   },
   "file_extension": ".py",
   "mimetype": "text/x-python",
   "name": "python",
   "nbconvert_exporter": "python",
   "pygments_lexer": "ipython3",
   "version": "3.11.5"
  }
 },
 "nbformat": 4,
 "nbformat_minor": 5
}

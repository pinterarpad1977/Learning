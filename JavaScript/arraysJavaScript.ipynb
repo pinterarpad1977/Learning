{
 "cells": [
  {
   "cell_type": "markdown",
   "id": "92079977-3c54-4218-aec6-3cb2cdc5da51",
   "metadata": {},
   "source": [
    "Arrays are JavaScript’s way of making lists. Arrays can store any data types (including strings, numbers, and booleans). Like lists, arrays are ordered, meaning each item has a numbered position. \n",
    "They behave quite the same as in Python: Zero ndexes, created by [], access of the elements is with []\n",
    "\n",
    "Differences: \n",
    "- if we access an index which is beyond the length of the array we get undefined insted of IndexError\n",
    "- to update an item in the list just assign a new value to its index\n",
    "- no negative indexing?\n",
    "- \n",
    "\n",
    "### Creating Arrays\n",
    "- Array literal: `let newYearsResolutions = ['Keep a journal', 'Take a falconry class', 'Learn to juggle'];\n",
    "- Arrays created by **let** can be changed in size or reassigned with a new array\n",
    "- Arrays created by **const** cannot be changed in size???, but the items themselves can be changes in both cases\n",
    "\n",
    "<array>.length -> same as with strings. A property which gives you the number of items in the array\n"
   ]
  },
  {
   "cell_type": "code",
   "execution_count": null,
   "id": "723d4498-75ca-4d63-a903-41f278f4b0b8",
   "metadata": {},
   "outputs": [],
   "source": [
    "let groceryList = ['bread', 'tomatoes', 'milk'];\n",
    "// update an item\n",
    "groceryList[1] = 'avocados';\n",
    "\n",
    "// print the length of the groceryList:\n",
    "console.log(groceryList.length)"
   ]
  },
  {
   "cell_type": "markdown",
   "id": "46e38193-58ee-4680-aa4f-97e1ea7962db",
   "metadata": {},
   "source": [
    "### Methods\n",
    ".push() -> adds items(s) to the end of the array\n",
    ".pop() -> removes the last element from the array and returns it if we want to assign it to a variable. It can only remove the last element\n",
    ".shift() -> removes the first element from the array and returns it\n",
    ".unshift() -> puts item(s) to the beginning of an array\n",
    ".slice(0,4) - creates a copy of the sliced array, the original rtemains the same. Slicing is similar to Python, but uses comma\n",
    ".indexOf(element) -> returns the index of a given element\n",
    "\n",
    "Additional methods:\n",
    "https://www.codecademy.com/resources/docs/javascript/arrays"
   ]
  },
  {
   "cell_type": "markdown",
   "id": "1982b51a-e2b7-4a52-b61a-6d8cf89537ae",
   "metadata": {},
   "source": [
    "### Additional fiindings:\n",
    "- using + on arrays converst them to srting representations (separated by comma) and returns a concatenated string of the arrays\n",
    "- pushing an array into another one creates a nested array, same with unshift\n",
    "- \n"
   ]
  },
  {
   "cell_type": "code",
   "execution_count": null,
   "id": "7d25cb8c-26ce-410c-bc6d-b1bd93b19127",
   "metadata": {},
   "outputs": [],
   "source": []
  },
  {
   "cell_type": "code",
   "execution_count": null,
   "id": "21a9d71b-45ba-42b7-a2e6-ea36ac44eb0c",
   "metadata": {},
   "outputs": [],
   "source": []
  },
  {
   "cell_type": "code",
   "execution_count": null,
   "id": "56c1e6da-bc28-444f-86c2-15963a26b543",
   "metadata": {},
   "outputs": [],
   "source": []
  },
  {
   "cell_type": "code",
   "execution_count": null,
   "id": "937ef79b-da2f-48e0-8f6b-550463d588a2",
   "metadata": {},
   "outputs": [],
   "source": []
  },
  {
   "cell_type": "code",
   "execution_count": null,
   "id": "156da871-1739-4afe-b954-45f5b73b3ed4",
   "metadata": {},
   "outputs": [],
   "source": []
  },
  {
   "cell_type": "code",
   "execution_count": null,
   "id": "ff60962c-1eca-407d-9341-0991709aa4d0",
   "metadata": {},
   "outputs": [],
   "source": []
  }
 ],
 "metadata": {
  "kernelspec": {
   "display_name": "Python 3 (ipykernel)",
   "language": "python",
   "name": "python3"
  },
  "language_info": {
   "codemirror_mode": {
    "name": "ipython",
    "version": 3
   },
   "file_extension": ".py",
   "mimetype": "text/x-python",
   "name": "python",
   "nbconvert_exporter": "python",
   "pygments_lexer": "ipython3",
   "version": "3.11.5"
  }
 },
 "nbformat": 4,
 "nbformat_minor": 5
}

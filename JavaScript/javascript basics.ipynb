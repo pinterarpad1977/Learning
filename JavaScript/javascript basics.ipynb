{
 "cells": [
  {
   "cell_type": "markdown",
   "id": "9525b6a1-f8a6-4de7-851d-6b393df378b3",
   "metadata": {},
   "source": [
    "### NOTE!\n",
    "The code won't work in jupyter, I just use it for notetaking!\n",
    "\n",
    "**print** prints the value to the console\n",
    "console.log()\n",
    "\n",
    "**comments** - single and multiline\n",
    "// single line comment\n",
    "/*\n",
    "multiline comment\n",
    "*/\n",
    "\n",
    "**Data Types**\n",
    "\n",
    "\n",
    "- **Number**: Any number, including numbers with decimals: 4, 8, 1516, 23.42.\n",
    "- **BigInt:** Any number, greater than 253-1 or less than -(253-1), with n appended to the number: `1234567890123456n`.\n",
    "- **String:** Any grouping of characters on your keyboard (letters, numbers, spaces, symbols, etc.) surrounded by single quotes: ' ... ' or double quotes \" ... \", though we prefer single quotes. Some people like to think of string as a fancy word for text.\n",
    "- **Boolean:** This data type only has two possible values— either `true` or `false` (without quotes). It’s helpful to think of booleans as on and off switches or as the answers to a “yes” or “no” question.\n",
    "- **Null:** This data type represents the intentional absence of a value, and is represented by the keyword `null` (without quotes).\n",
    "- **Undefined:** This data type is denoted by the keyword undefined (without quotes). It also represents the absence of a value though it has a different use than null. `undefined` means that a given value does not exist.\n",
    "- **Symbol:** A newer feature to the language, symbols are unique identifiers, useful in more complex coding. No need to worry about these for now.\n",
    "- Object: Collections of related data.\n",
    "\n",
    "**Arithmetic calculations are the same as in Python**\n",
    "- except we don't have the // operator and the **\n",
    "- string concatenation with `+` operator works\n",
    "  "
   ]
  },
  {
   "cell_type": "code",
   "execution_count": null,
   "id": "98196469-b1ac-4eb0-b83c-dd214dff61d3",
   "metadata": {},
   "outputs": [],
   "source": [
    "console.log('JavaScript')\n",
    "console.log(2011)\n",
    "console.log('Woohoo! I love to code! #codecademy')\n",
    "console.log(20.49)\n",
    "\n",
    "console.log(3.5 + 47)\n",
    "console.log(2024-1969)\n",
    "console.log(65 / 240)\n",
    "console.log(0.2708 * 100)\n",
    "\n",
    "console.log('Hello'+'World')\n",
    "console.log('Hello'+' '+'World')"
   ]
  },
  {
   "cell_type": "markdown",
   "id": "283e355f-cb79-493b-82bc-e612d3a889b1",
   "metadata": {},
   "source": [
    "**Properties**\n",
    "All datatypes have access to specific properties specific to the goiven datatype.\n",
    "When we create a new piece of data the browser saves it as an instance of that datatype.\n",
    "The property information can be retrieved by the dot `.` operator\n",
    "\n",
    "The sting datatype properties: .length\n",
    "\n",
    "**Methods**\n",
    "- the properties don't need brackets but methods do!\n",
    "- string methods:\n",
    "- .toUpperCase()\n",
    "- .startsWith()\n",
    "- .trim()"
   ]
  },
  {
   "cell_type": "code",
   "execution_count": null,
   "id": "624715b2-45db-43ff-9f46-9b521ea068b6",
   "metadata": {},
   "outputs": [],
   "source": [
    "console.log('Teaching the world how to code'.length)\n",
    "\n",
    "// Use .toUpperCase() to log 'Codecademy' in all uppercase letters\n",
    "console.log('Codecademy'.toUpperCase());\n",
    "\n",
    "// Use a string method to log the following string without whitespace at the beginning and end of it.\n",
    "console.log('    Remove whitespace   '.trim());"
   ]
  },
  {
   "cell_type": "markdown",
   "id": "3b34ccba-3856-4731-aa19-512fb9682771",
   "metadata": {},
   "source": [
    "### Built-in Objects\n",
    "\n",
    "**console**\n",
    "**Math**\n",
    "- .random() -> returns a random number between 0 and 1 (exclusive), you can multiply it if you want to have bigger randoms\n",
    "- .floor() -> rounds a number down to the neasrest whole number\n",
    "- .ceil() -> always rounds up to the bigger integer\n",
    "- https://developer.mozilla.org/en-US/docs/Web/JavaScript/Reference/Global_Objects/Math\n",
    "\n",
    "**number**\n",
    "- .isInteger()"
   ]
  },
  {
   "cell_type": "markdown",
   "id": "c6190bba-ab01-4a3f-af47-9631d8570a72",
   "metadata": {},
   "source": [
    "Additional resources:\n",
    "https://www.codecademy.com/resources/docs/javascript\n",
    "https://www.codecademy.com/workspaces/new"
   ]
  },
  {
   "cell_type": "code",
   "execution_count": null,
   "id": "7c224deb-57a2-453c-afc9-4b414d7459ab",
   "metadata": {},
   "outputs": [],
   "source": [
    "console.log(Math.random() * 100);\n",
    "console.log(Math.floor(Math.random() * 100));\n",
    "console.log(Math.ceil(43.8))\n",
    "console.log(Number.isInteger(2017))"
   ]
  },
  {
   "cell_type": "markdown",
   "id": "f11d8dd5-e29a-4894-9c3f-fb149ac5d4ef",
   "metadata": {},
   "source": [
    "### Variables\n",
    "\n",
    "- prior 2015 (ES6) only `var` existed\n",
    "- Variable names cannot start with numbers.\n",
    "- Variable names are case sensitive, so myName and myname would be different variables. \n",
    "- Variable names cannot be the same as keywords.\n",
    "\n",
    "**var**\n",
    "- function scoped - they are available throughout the whole function where they were defined\n",
    "- **Hoisting** - they are usually defined at the top of the function or on global scope with the value undefined\n",
    "- in modern JavaScript it is recommended to avoid using var\n",
    "\n",
    "\n",
    "**let**\n",
    "- variables created by let can the values reassigned\n",
    "- if no walue was given at the time of the creation it automatically get's the undefined value\n",
    "- block scoped (they are accessible only within the block they were created)\n",
    "- **Hoisting**\n",
    "\n",
    "**const**\n",
    "- variables created with const cannot change their value. If tried we get a TypeError\n",
    "- const variables must be assigned a value at the creation. If not we get a SyntaxError\n",
    "- block scoped (they are accessible only within the block they were created)\n"
   ]
  },
  {
   "cell_type": "code",
   "execution_count": null,
   "id": "1c9cd4fb-dd37-4ef4-a524-715f0f6ac7eb",
   "metadata": {},
   "outputs": [],
   "source": [
    "var favouriteFood = 'pizza';\n",
    "var numOfSlices = 8;\n",
    "console.log(favouriteFood);\n",
    "console.log(numOfSlices);\n",
    "\n",
    "// ----------------------------\n",
    "\n",
    "let changeMe = true;\n",
    "changeMe = false;\n",
    "console.log(changeMe);\n",
    "\n",
    "// -----------------------------\n",
    "\n",
    "const entree ='Enchiladas';\n",
    "console.log(entree);\n"
   ]
  },
  {
   "cell_type": "markdown",
   "id": "9b285d22-fda5-4fe1-9e38-dac05238a375",
   "metadata": {},
   "source": [
    "### Math operations on variables\n",
    "\n",
    "Like in python JavaScript knows the +=, -= operators and additionally the *= and the /= too\n",
    "Increment and decrement operators: `++`, `--`\n",
    "string concatenation works with the `+`"
   ]
  },
  {
   "cell_type": "code",
   "execution_count": null,
   "id": "74a5e493-a821-43a3-9e8e-bfc33568ea05",
   "metadata": {},
   "outputs": [],
   "source": [
    "let levelUp = 10;\n",
    "let powerLevel = 9001;\n",
    "let multiplyMe = 32;\n",
    "let quarterMe = 1152;\n",
    "\n",
    "levelUp += 5;\n",
    "powerLevel -= 100;\n",
    "multiplyMe *= 11;\n",
    "quarterMe /= 4;\n",
    "\n",
    "let gainedDollar = 3;\n",
    "let lostDollar = 50;\n",
    "gainedDollar ++;\n",
    "lostDollar --;\n",
    "\n",
    "let favouriteAnimal = 'Bela'\n",
    "console.log('My favourite animal: '+ favouriteAnimal)\n",
    "\n"
   ]
  },
  {
   "cell_type": "markdown",
   "id": "7bc85679-46b3-43e0-9911-bb5def782b6d",
   "metadata": {},
   "source": [
    "### String interpolation \n",
    "(just like formatted strings in Python)\n",
    "\n",
    "The whole string goes in backticks , and the placeholder goes into ${variableName}\n"
   ]
  },
  {
   "cell_type": "code",
   "execution_count": null,
   "id": "95000bd0-a3b8-4e27-b151-6a598921d3f0",
   "metadata": {},
   "outputs": [],
   "source": [
    "let myName = 'RP';\n",
    "let myCity = 'Budaörs'\n",
    "console.log(`My name is ${myName}. My favorite city is ${myCity}`)\n"
   ]
  },
  {
   "cell_type": "markdown",
   "id": "b9f02505-c16f-427b-aec8-1d8cef0265ff",
   "metadata": {},
   "source": [
    "The **typeof** operator checks the value to its right and returns, or passes back, a string of the data type. "
   ]
  },
  {
   "cell_type": "code",
   "execution_count": null,
   "id": "493f858d-16f4-406f-b766-14fa4f547c96",
   "metadata": {},
   "outputs": [],
   "source": [
    "let newVariable = 'Playing around with typeof.';\n",
    "console.log(typeof newVariable);\n",
    "newVariable = 1;\n",
    "console.log(typeof newVariable);"
   ]
  },
  {
   "cell_type": "code",
   "execution_count": null,
   "id": "069438a6-c3fb-40ab-b6aa-d6bd2ab8e49d",
   "metadata": {},
   "outputs": [],
   "source": []
  },
  {
   "cell_type": "code",
   "execution_count": null,
   "id": "3285de7c-7409-4b70-9bf1-9ed03818abe1",
   "metadata": {},
   "outputs": [],
   "source": []
  }
 ],
 "metadata": {
  "kernelspec": {
   "display_name": "Python 3 (ipykernel)",
   "language": "python",
   "name": "python3"
  },
  "language_info": {
   "codemirror_mode": {
    "name": "ipython",
    "version": 3
   },
   "file_extension": ".py",
   "mimetype": "text/x-python",
   "name": "python",
   "nbconvert_exporter": "python",
   "pygments_lexer": "ipython3",
   "version": "3.11.5"
  }
 },
 "nbformat": 4,
 "nbformat_minor": 5
}

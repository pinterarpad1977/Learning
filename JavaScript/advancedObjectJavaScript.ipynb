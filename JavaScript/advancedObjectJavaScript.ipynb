{
 "cells": [
  {
   "cell_type": "markdown",
   "id": "9f807010-8672-47e9-ab3b-2ef4b3d427f9",
   "metadata": {},
   "source": [
    "### The THIS keyword\n",
    "\n",
    "Object methods doesn't have access within the method to the other properties of the object.\n",
    "So we cannot reference other properties when we call the method on the object directly.\n",
    "We can use the `this` keyword to solve the problem (like self in Python?)\n",
    "Avoid using arrow functions with the `this` keyword, because the arrow functiion bind an already defined `this` value to the function.\n",
    "This can be either the global object or a globally defined object"
   ]
  },
  {
   "cell_type": "code",
   "execution_count": null,
   "id": "cfb092e5-9cc9-4936-be6c-599da24cc3e9",
   "metadata": {},
   "outputs": [],
   "source": [
    "const robot = {\n",
    "  model: '1E78V2',\n",
    "  energyLevel: 100,\n",
    "  provideInfo() {\n",
    "    return  `I am ${this.model} and my current energy level is ${this.energyLevel}`;\n",
    "  }\n",
    "};\n",
    "console.log(robot.provideInfo());"
   ]
  },
  {
   "cell_type": "markdown",
   "id": "ced32156-ac02-4da0-8451-46a2db8341fb",
   "metadata": {},
   "source": [
    "### Privacy\n",
    "\n",
    "JavaScript doesn't have built-in privacy for objects, we can change any property freely.\n",
    "However there is a naming convention to indicate if a property is not to be changed: start the property key with an underscore"
   ]
  },
  {
   "cell_type": "markdown",
   "id": "81444324-d187-42a7-92e8-3e13f775bce0",
   "metadata": {},
   "source": [
    "### Getters\n",
    "\n",
    "- They are initialized with the `get` keyword and a function definition\n",
    "- They can return internal properties by using the `this` keyword.\n",
    "- Getters can perform an action on the data when getting a property.\n",
    "- Getters can return different values using conditionals.\n",
    "- In a getter, we can access the properties of the calling object using this.\n",
    "- The functionality of our code is easier for other developers to understand.\n",
    "- getter methods do not need to be called with a set of parentheses. Syntactically, it looks like we’re accessing a property.\n",
    "- getter (and setter) methods cannot share the same name as any other property.\n"
   ]
  },
  {
   "cell_type": "code",
   "execution_count": null,
   "id": "423b2859-7f44-4854-95b6-379acf346e28",
   "metadata": {},
   "outputs": [],
   "source": [
    "onst robot = {\n",
    "  _model: '1E78V2',\n",
    "  _energyLevel: 100,\n",
    "  get energyLevel(){\n",
    "    if (typeof this._energyLevel === 'number'){\n",
    "      return `My current energy level is ${this._energyLevel}`;\n",
    "    } else {\n",
    "      return 'System malfunction: cannot retrieve energy level';\n",
    "    }\n",
    "  }\n",
    "};\n",
    "\n",
    "console.log(robot.energyLevel);"
   ]
  },
  {
   "cell_type": "markdown",
   "id": "eb79dff5-107b-4a9f-bfb9-06224880a18c",
   "metadata": {},
   "source": [
    "### Setters\n",
    "\n",
    "- All the same as Getters, but these are initialized by `set`\n",
    "- "
   ]
  },
  {
   "cell_type": "code",
   "execution_count": null,
   "id": "1d4e377e-9383-4cec-8965-a5a2899e29d9",
   "metadata": {},
   "outputs": [],
   "source": [
    "const robot = {\n",
    "  _model: '1E78V2',\n",
    "  _energyLevel: 100,\n",
    "  _numOfSensors: 15,\n",
    "  get numOfSensors(){\n",
    "    if(typeof this._numOfSensors === 'number'){\n",
    "      return this._numOfSensors;\n",
    "    } else {\n",
    "      return 'Sensors are currently down.'\n",
    "    }\n",
    "  },\n",
    " set numOfSensors(num){\n",
    "  if (typeof num === 'number' && num >= 0) {\n",
    "    this._numOfSensors = num;\n",
    "  } else {\n",
    "    console.log('Pass in a number that is greater than or equal to 0');\n",
    "  }\n",
    " } \n",
    "};\n",
    "\n",
    "robot.numOfSensors = 100;\n",
    "console.log(robot.numOfSensors);\n"
   ]
  },
  {
   "cell_type": "markdown",
   "id": "beb37056-cd60-4680-a8f9-435b641b07c9",
   "metadata": {},
   "source": [
    "### Factory Functions\n",
    "\n",
    "A factory function is a function that returns an object and can be reused to make multiple object instances. Factory functions can also have parameters allowing us to customize the object that gets returned."
   ]
  },
  {
   "cell_type": "code",
   "execution_count": null,
   "id": "5f04cfce-5c46-49b4-8035-cc88a30c00ba",
   "metadata": {},
   "outputs": [],
   "source": [
    "const robotFactory = (model, mobile) => {\n",
    "  return {\n",
    "    model: model,\n",
    "    mobile: mobile,\n",
    "    beep() {\n",
    "      console.log('Beep Boop');\n",
    "    }\n",
    "  }\n",
    "}\n",
    "\n",
    "const tinCan = robotFactory('P-500', true);\n",
    "\n",
    "tinCan.beep()\n"
   ]
  },
  {
   "cell_type": "markdown",
   "id": "79ae79cd-10ec-4097-988f-1cc9b3648f71",
   "metadata": {},
   "source": [
    "### Destructuring\n",
    "\n",
    "It is a Property Value shorthand after ES6:\n",
    "you don't need to repeat the value after the key in factory functions"
   ]
  },
  {
   "cell_type": "code",
   "execution_count": null,
   "id": "3389688e-2d15-4837-82fc-c08793139d8f",
   "metadata": {},
   "outputs": [],
   "source": [
    "const robotFactory = (model, mobile) => {\n",
    "  return {\n",
    "    model,\n",
    "    mobile,\n",
    "    beep() {\n",
    "      console.log('Beep Boop');\n",
    "    }\n",
    "  }\n",
    "}\n",
    "\n",
    "// To check that the property value shorthand technique worked:\n",
    "const newRobot = robotFactory('P-501', false)\n",
    "console.log(newRobot.model)\n",
    "console.log(newRobot.mobile)"
   ]
  },
  {
   "cell_type": "markdown",
   "id": "8fb510c7-d538-4be2-87cc-43b049e60fc9",
   "metadata": {},
   "source": [
    " ### Destructured Assignment\n",
    "\n",
    "In destructured assignment we create a variable with the name of an object’s key that is wrapped in curly braces { } and assign to it the object. We can even get nested properties this way!"
   ]
  },
  {
   "cell_type": "code",
   "execution_count": null,
   "id": "079dd3f6-058b-4414-9aac-ff01e29cd92f",
   "metadata": {},
   "outputs": [],
   "source": [
    "const robot = {\n",
    "  model: '1E78V2',\n",
    "  energyLevel: 100,\n",
    "  functionality: {\n",
    "    beep() {\n",
    "      console.log('Beep Boop');\n",
    "    },\n",
    "    fireLaser() {\n",
    "      console.log('Pew Pew');\n",
    "    },\n",
    "  }\n",
    "};\n",
    "\n",
    "// we can assign the functionality properties to a new variable and call them short-handed:\n",
    "const {functionality} = robot;\n",
    "functionality.beep();\n",
    "functionality.fireLaser();"
   ]
  },
  {
   "cell_type": "markdown",
   "id": "6c2a2774-857b-4815-ac32-52cb918158c6",
   "metadata": {},
   "source": [
    "### Built-in Object Methods\n",
    "\n",
    "https://developer.mozilla.org/en-US/docs/Web/JavaScript/Reference/Global_Objects/Object#Methods_of_the_Object_constructor\n"
   ]
  },
  {
   "cell_type": "code",
   "execution_count": null,
   "id": "4b42be5c-0236-467e-8b19-d992e376fa0e",
   "metadata": {},
   "outputs": [],
   "source": [
    "const robot = {\n",
    "\tmodel: 'SAL-1000',\n",
    "  mobile: true,\n",
    "  sentient: false,\n",
    "  armor: 'Steel-plated',\n",
    "  energyLevel: 75\n",
    "};\n",
    "\n",
    "// Object.keys() returns an array with all the properties of the object\n",
    "const robotKeys = Object.keys(robot);\n",
    "console.log(robotKeys);\n",
    "\n",
    "// robotEntries returns a nested array with all the key-value pairs in the object\n",
    "const robotEntries = Object.entries(robot);\n",
    "console.log(robotEntries);\n",
    "\n",
    "// Object.assign(target object, source object) creates a new object based on the source object, adding the target properties to it. \n",
    "const newRobot = Object.assign({laserBlaster: true, voiceRecognition: true}, robot)\n",
    "\n",
    "console.log(newRobot);"
   ]
  }
 ],
 "metadata": {
  "kernelspec": {
   "display_name": "Python 3 (ipykernel)",
   "language": "python",
   "name": "python3"
  },
  "language_info": {
   "codemirror_mode": {
    "name": "ipython",
    "version": 3
   },
   "file_extension": ".py",
   "mimetype": "text/x-python",
   "name": "python",
   "nbconvert_exporter": "python",
   "pygments_lexer": "ipython3",
   "version": "3.11.5"
  },
  "widgets": {
   "application/vnd.jupyter.widget-state+json": {
    "state": {},
    "version_major": 2,
    "version_minor": 0
   }
  }
 },
 "nbformat": 4,
 "nbformat_minor": 5
}

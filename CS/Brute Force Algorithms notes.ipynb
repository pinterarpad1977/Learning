{
 "cells": [
  {
   "cell_type": "markdown",
   "id": "7c54adee-f539-48ba-8f7f-32451f214658",
   "metadata": {},
   "source": [
    "### Pros and Cons\n",
    "\n",
    "A “smart” algorithm is fast and often complex; on the other hand, a “brute force“ algorithm is slow but much easier to implement. \n",
    "\n",
    "A brute force algorithm is a straightforward method that solves a problem by going through every possible choice one by one until a solution is found. Instead of utilizing clever techniques, brute force algorithms rely on sheer computing power to solve problems.\n",
    "\n",
    "In programming, brute force algorithms are rarely the most efficient. However, we still learn about them because they are easy to implement and serve as good segways to more complex algorithms. In fact, you should have already come across some brute force algorithms in this course. The bubble sort and selection sort algorithms, for example, fall under the brute force category because they are less efficient compared to more optimized algorithms like merge sort and quicksort. \n",
    "\n",
    "The main disadvantage of brute force algorithms is that they are slow. They should not be used in real-world problems, which often deal with large and unorganized data. The cost of a brute force algorithm can also grow very quickly as the size of the problem increases.\n",
    "\n",
    "With that said, brute force algorithms do come with some upsides. For one, they are much easier for programmers to implement. It allows you to quickly make progress and come up with something that works. The simplicity of brute force algorithms also means that they are less likely to contain inconsistencies and bugs. Lastly, if you are more concerned about memory resources than time, some brute force algorithms require less overhead than their optimized counterparts."
   ]
  },
  {
   "cell_type": "markdown",
   "id": "222b74ad-7ad3-4e99-b448-25f727a93bfd",
   "metadata": {},
   "source": [
    "### Linear Search\n",
    "\n",
    "Linear search is not considered the most efficient search algorithm, especially for lists of large magnitudes. However, linear search is a great choice if you expect to find the target value at the beginning of the list, or if you have a small list.\n",
    "Best case runtime is big O(1) worst case big O(N)\n",
    "The average runtie is big O(N/2), which also siplifies to big O(N)\n",
    "The time complexity is also big O(N) because klinear search runs in linear time.\n",
    "\n",
    "\n",
    "#### Python Implementation\n",
    "\n",
    "we loop through the list till the element at the index equals to the target value.\n",
    "If we don't find the target value we raise a ValueError\n",
    "\n",
    "We call the function in a try...except block"
   ]
  },
  {
   "cell_type": "code",
   "execution_count": null,
   "id": "3bbfbf6f-305e-45aa-ac91-dd7010cbfd31",
   "metadata": {},
   "outputs": [],
   "source": [
    "number_list = [ 10, 14, 19, 26, 27, 31, 33, 35, 42, 44]\n",
    "target_number = 33\n",
    "\n",
    "def linear_search(search_list, target_value):\n",
    "  for idx in range(len(search_list)):\n",
    "    if search_list[idx] == target_value:\n",
    "      return idx\n",
    "  raise ValueError(\"{0} not in list\".format(target_value))\n",
    "\n",
    "\n",
    "try:\n",
    "  # Call the function below...\n",
    "  result = linear_search(number_list, 100)\n",
    "  print(result)\n",
    "except ValueError as error_message:\n",
    "  print(\"{0}\".format(error_message))"
   ]
  },
  {
   "cell_type": "markdown",
   "id": "3ed89a7f-83e8-4d5b-9925-842121745540",
   "metadata": {},
   "source": [
    "But what if we wanted to find every occurrence of the target value in a list? \n",
    "```\n",
    "# For each element in the searchList\n",
    "  # if element equal target value then\n",
    "    # Add its index to a list of occurrences\n",
    "# if the list of occurrences is empty\n",
    "  # raise ValueError\n",
    "# otherwise\n",
    "  # return the list occurrences"
   ]
  },
  {
   "cell_type": "code",
   "execution_count": null,
   "id": "bbbd299c-c26a-462e-a44c-f7921517047f",
   "metadata": {},
   "outputs": [],
   "source": [
    "# Search list and target value\n",
    "tour_locations = [ \"New York City\", \"Los Angeles\", \"Bangkok\", \"Istanbul\", \"London\", \"New York City\", \"Toronto\"]\n",
    "target_city = \"New York City\"\n",
    "\n",
    "#Linear Search Algorithm\n",
    "def linear_search(search_list, target_value):\n",
    "  matches = []\n",
    "  for idx in range(len(search_list)):\n",
    "    if search_list[idx] == target_value:\n",
    "      matches.append(idx)\n",
    "  return matches\n",
    "  raise ValueError(\"{0} not in list\".format(target_value))\n",
    "\n",
    "#Function call\n",
    "tour_stops = linear_search(tour_locations, target_city)\n",
    "print(tour_stops)\n"
   ]
  },
  {
   "cell_type": "markdown",
   "id": "52daa925-66c8-422d-b455-10af67809000",
   "metadata": {},
   "source": [
    "find the max / min value in an unsorted list:\n",
    "\n",
    "```\n",
    "# Create a variable called max_value_index  \n",
    "# Set max_value_index to the index of the first element of the search list\n",
    "     # For each element in the search list\n",
    "          # if element is greater than the element at max_value_index\n",
    "               # Set max_value_index equal to the index of the element\n",
    "# return max_value_index"
   ]
  },
  {
   "cell_type": "code",
   "execution_count": null,
   "id": "e0a36fcf-2142-42ff-92a5-9bbdde346130",
   "metadata": {},
   "outputs": [],
   "source": [
    "# Search list\n",
    "test_scores = [88, 93, 75, 100, 80, 67, 71, 92, 90, 83]\n",
    "\n",
    "#Linear Search Algorithm\n",
    "def linear_search(search_list):\n",
    "  maximum_score_index = None\n",
    "  for idx in range(len(search_list)):\n",
    "    print(search_list[idx])\n",
    "    if (maximum_score_index is None) or (search_list[idx] > search_list[maximum_score_index]):\n",
    "      maximum_score_index = idx\n",
    "  return maximum_score_index\n",
    " \n",
    "# Function call\n",
    "highest_score = linear_search(test_scores)\n",
    "\n",
    "#Prints out the highest score in the list\n",
    "print(highest_score)\n"
   ]
  },
  {
   "cell_type": "markdown",
   "id": "2e2eff82-e305-47f4-81d5-39aeb05f4926",
   "metadata": {},
   "source": []
  },
  {
   "cell_type": "markdown",
   "id": "1edd05d5-353b-4968-988a-f821da9a60ef",
   "metadata": {},
   "source": []
  },
  {
   "cell_type": "markdown",
   "id": "78f8c28e-4d32-437d-a2cf-ddf8f8e977bd",
   "metadata": {},
   "source": []
  },
  {
   "cell_type": "markdown",
   "id": "009fd1d3-df9d-4b19-853d-7ef132de2a79",
   "metadata": {},
   "source": []
  },
  {
   "cell_type": "markdown",
   "id": "cf5e6e53-8997-4df8-b558-84c91522f5fb",
   "metadata": {},
   "source": []
  },
  {
   "cell_type": "markdown",
   "id": "aa1bc528-3f43-48d0-a8e5-dd07add4340d",
   "metadata": {},
   "source": []
  },
  {
   "cell_type": "markdown",
   "id": "77201597-9a8b-4ed2-b0c7-636335d55a34",
   "metadata": {},
   "source": []
  }
 ],
 "metadata": {
  "kernelspec": {
   "display_name": "Python 3 (ipykernel)",
   "language": "python",
   "name": "python3"
  },
  "language_info": {
   "codemirror_mode": {
    "name": "ipython",
    "version": 3
   },
   "file_extension": ".py",
   "mimetype": "text/x-python",
   "name": "python",
   "nbconvert_exporter": "python",
   "pygments_lexer": "ipython3",
   "version": "3.11.5"
  },
  "widgets": {
   "application/vnd.jupyter.widget-state+json": {
    "state": {},
    "version_major": 2,
    "version_minor": 0
   }
  }
 },
 "nbformat": 4,
 "nbformat_minor": 5
}

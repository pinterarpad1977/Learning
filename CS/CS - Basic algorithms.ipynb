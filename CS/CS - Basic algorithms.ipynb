{
 "cells": [
  {
   "cell_type": "markdown",
   "id": "85ea6008-b351-4bca-b1f8-4d45cfbe1980",
   "metadata": {},
   "source": [
    "### Asymptotic Notation\n",
    "\n",
    "when scaling programs to deal with massive amounts of data, writing efficient code becomes the difference between success and failure. In computer science, we define how efficient a program is by its **runtime**.\n",
    "\n",
    "With asymptotic notation, we calculate a program’s runtime by looking at how many instructions the computer has to perform based on the size of the program’s input. \n",
    "\n",
    "In asymptotic notation, we define the size of the input as N. I may be looking through a collection of 10 elements, or 100 elements, but we only need to know how many steps are performed relative to the input so N is used in place of a specific number.\n",
    "\n",
    "Typically programmers will focus on the worst case scenario so there is an upper bound of runtime to communicate. It’s a way of saying “things may get this bad, or slow, but they won’t get worse!”\n",
    "\n",
    "For determining the notation we get rid of the constants and if N is on some power we get rid of the N too. So if the computer performs N^2 + 3N + 4 instructions we consider this N^2.\n",
    "\n",
    "There are three different ways we could describe the runtime of this program: big Theta or Θ(N2), big O or O(N2), big Omega or Ω(N2). The difference between the three and when to use which one will be detailed in the next exercises.\n",
    "\n",
    "#### Big Theta (Θ)\n",
    "We use big Theta when a program has only one case in terms of runtime.\n",
    "\n",
    "Below is a list of common runtimes that run from fastest to slowest.\n",
    "\n",
    "    Θ(1). This is constant runtime. This is the runtime when a program will always do the same thing regardless of the input. For instance, a program that only prints “hello, world” runs in Θ(1) because the program will always just print “hello, world”.\n",
    "    Θ(log N). This is logarithmic runtime. You will see this runtime in search algorithms.\n",
    "    Θ(N). This is linear runtime. You will often see this when you have to iterate through an entire dataset.\n",
    "    Θ(N*logN). You will see this runtime in sorting algorithms.\n",
    "    Θ(N2). This is an example of a polynomial runtime. When N is raised to the 2nd power, it’s known as a quadratic runtime. You will see this runtime when you have to search through a two-dimensional dataset (like a matrix) or nested loops.\n",
    "    Θ(2N). This is exponential runtime. You will often see this runtime in recursive algorithms (Don’t worry if you don’t know what that is yet!).\n",
    "    Θ(N!). This is factorial runtime. You will often see this runtime when you have to generate all of the different permutations of something. For instance, a program that generates all the different ways to order the letters “abcd” would run in this runtime.\n",
    "\n",
    "#### Big Omega (Ω) and Big O (O)\n",
    "\n",
    "Sometimes, a program may have a different runtime for the best case and worst case. For instance, a program could have a best case runtime of Θ(1) and a worst case of Θ(N). We use a different notation when this is the case. We use big Omega or Ω to describe the best case and big O or O to describe the worst case. \n",
    "\n",
    "In fact, when describing runtime, people typically discuss the worst case because you should always prepare for the worst case scenario! Often times, in technical interviews, they will only ask you for the big O of a program.\n",
    "\n",
    "If a program runs multiple runtimes we could add up the different runtimes, but usually we just take the slowest one to describe the asymptotic notation:\n",
    "Rather than look at this program all at once, let’s divide into two chunks: the first loop and the second loop.\n",
    "\n",
    "    In the first loop, we iterate until we reach N. Thus the runtime of the first loop is Θ(N).\n",
    "    However, the second loop, as demonstrated in a previous exercise, runs in Θ(log N).\n",
    "\n",
    "Now, we can add the runtimes together, so the runtime is Θ(N) + Θ(log N).\n",
    "\n",
    "However, when analyzing the runtime of a program, we only care about the slowest part of the program, and because Θ(N) is slower than Θ(log N), we would actually just say the runtime of this program is Θ(N). It is also appropriate to say the runtime is O(N) because if it runs in Θ(N) for every case, then it also runs in Θ(N) for the worst case. Most of the time people will just use big O notation."
   ]
  },
  {
   "cell_type": "markdown",
   "id": "79d1ea1a-deba-4001-9004-182aa43d25f6",
   "metadata": {},
   "source": [
    "### Space Complexity\n",
    "\n"
   ]
  },
  {
   "cell_type": "markdown",
   "id": "77e9bdbe-ba8c-4de0-b877-94dd5e7511e3",
   "metadata": {},
   "source": []
  },
  {
   "cell_type": "markdown",
   "id": "ab611d53-be5f-4172-8a73-836d693e71cb",
   "metadata": {},
   "source": []
  },
  {
   "cell_type": "markdown",
   "id": "f7e4d48d-d976-439b-992a-dfe7048cf5e5",
   "metadata": {},
   "source": []
  },
  {
   "cell_type": "markdown",
   "id": "ed21bfc8-8bb0-4531-9d48-9166c729b19a",
   "metadata": {},
   "source": []
  },
  {
   "cell_type": "markdown",
   "id": "0eae5003-c8ee-430f-add7-0a8ef9a4016a",
   "metadata": {},
   "source": []
  },
  {
   "cell_type": "markdown",
   "id": "f3edf616-8cdb-4b3b-91d2-e67ce10014e7",
   "metadata": {},
   "source": []
  },
  {
   "cell_type": "markdown",
   "id": "0ffa1916-c022-493d-ba72-1277cfe972d1",
   "metadata": {},
   "source": []
  },
  {
   "cell_type": "markdown",
   "id": "2ed2111d-b61f-4e72-bb33-7d503d36a012",
   "metadata": {},
   "source": []
  },
  {
   "cell_type": "markdown",
   "id": "37095cd4-7214-4925-9ada-e1f84d950a5f",
   "metadata": {},
   "source": []
  },
  {
   "cell_type": "markdown",
   "id": "8aeb3f6f-e917-4d32-bed9-fa7983a9f5a2",
   "metadata": {},
   "source": []
  }
 ],
 "metadata": {
  "kernelspec": {
   "display_name": "Python 3 (ipykernel)",
   "language": "python",
   "name": "python3"
  },
  "language_info": {
   "codemirror_mode": {
    "name": "ipython",
    "version": 3
   },
   "file_extension": ".py",
   "mimetype": "text/x-python",
   "name": "python",
   "nbconvert_exporter": "python",
   "pygments_lexer": "ipython3",
   "version": "3.11.5"
  }
 },
 "nbformat": 4,
 "nbformat_minor": 5
}

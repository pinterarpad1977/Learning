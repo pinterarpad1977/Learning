{
 "cells": [
  {
   "cell_type": "markdown",
   "id": "40b07e33",
   "metadata": {},
   "source": [
    "Just an incomprehensive collection of snippets I want to able to look for"
   ]
  },
  {
   "cell_type": "code",
   "execution_count": null,
   "id": "09bfb86e",
   "metadata": {},
   "outputs": [],
   "source": [
    "#list comprehension which takes the condition from another list\n",
    "hairstyles = [\"bouffant\", \"pixie\", \"dreadlocks\", \"crew\", \"bowl\", \"bob\", \"mohawk\", \"flattop\"]\n",
    "prices = [30, 25, 40, 20, 20, 35, 50, 35]\n",
    "new_prices=[p-5 for p in prices]\n",
    "cuts_under_30 = [hairstyles[i] for i in range(0, len(new_prices)) if new_prices[i] < 30]\n",
    "\n",
    "\n",
    "\n"
   ]
  }
 ],
 "metadata": {
  "kernelspec": {
   "display_name": "Python 3 (ipykernel)",
   "language": "python",
   "name": "python3"
  },
  "language_info": {
   "codemirror_mode": {
    "name": "ipython",
    "version": 3
   },
   "file_extension": ".py",
   "mimetype": "text/x-python",
   "name": "python",
   "nbconvert_exporter": "python",
   "pygments_lexer": "ipython3",
   "version": "3.11.5"
  }
 },
 "nbformat": 4,
 "nbformat_minor": 5
}

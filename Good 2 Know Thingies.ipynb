{
 "cells": [
  {
   "cell_type": "markdown",
   "id": "40b07e33",
   "metadata": {},
   "source": [
    "Just an incomprehensive collection of snippets I want to able to look for"
   ]
  },
  {
   "cell_type": "markdown",
   "id": "3b50e43b",
   "metadata": {},
   "source": [
    "Frequently used modules and their import syntax:\n",
    "\n",
    "- **import datetime from datetime** \n",
    "    - strptime() - parse time from a string with formatting\n",
    "    - strftime() creates a string from a datetime\n",
    "- **import random** - randint(), choice(), sample()\n",
    "- **from matplotlib import pyplot as plt**\n",
    "- **from decimal import Decimal** -> syntax: x = Decimal('0.15')\n"
   ]
  },
  {
   "cell_type": "code",
   "execution_count": null,
   "id": "09bfb86e",
   "metadata": {},
   "outputs": [],
   "source": [
    "#list comprehension which takes the condition from another list\n",
    "hairstyles = [\"bouffant\", \"pixie\", \"dreadlocks\", \"crew\", \"bowl\", \"bob\", \"mohawk\", \"flattop\"]\n",
    "prices = [30, 25, 40, 20, 20, 35, 50, 35]\n",
    "new_prices=[p-5 for p in prices]\n",
    "cuts_under_30 = [hairstyles[i] for i in range(0, len(new_prices)) if new_prices[i] < 30]"
   ]
  },
  {
   "cell_type": "code",
   "execution_count": null,
   "id": "83f9dca2",
   "metadata": {},
   "outputs": [],
   "source": [
    "# iterating on 2 different list idecies. One from the beginning, one from the end (lists are the same dimension)\n",
    "\n",
    "def reversed_list(lst1, lst2):\n",
    "  for index in range(len(lst1)):\n",
    "    if lst1[index] != lst2[len(lst2) - 1 - index]:\n",
    "      return False\n",
    "  return True\n"
   ]
  },
  {
   "cell_type": "code",
   "execution_count": 4,
   "id": "c79927fa",
   "metadata": {},
   "outputs": [
    {
     "name": "stdout",
     "output_type": "stream",
     "text": [
      "Creating circle with diameter 12\n",
      "Creating circle with diameter 36\n",
      "Creating circle with diameter 11460\n",
      "37.68\n",
      "113.04\n",
      "35984.4\n"
     ]
    },
    {
     "data": {
      "text/plain": [
       "Circle with radius 6.0"
      ]
     },
     "execution_count": 4,
     "metadata": {},
     "output_type": "execute_result"
    }
   ],
   "source": [
    "# class definition\n",
    "# class can have class variables and instances can have differet instance variables\n",
    "# hasattr(object, Attribute)\n",
    "# getattr(object, attribute, default)\n",
    "\n",
    "class Circle:\n",
    "    pi = 3.14      # Class variable\n",
    "    def __init__(self, diameter): #instantiation requires a parameter, which becomes an instance variable\n",
    "        print(\"Creating circle with diameter {d}\".format(d=diameter)) # this will be printed upon instantiation\n",
    "        # Add assignment for self.radius here:\n",
    "        self.radius = diameter/2       # radius is now another instance variable\n",
    "        \n",
    "    def circumference(self):         # circumference() is a class method using the instance variables \n",
    "        return 2 * self.pi * self.radius\n",
    "    \n",
    "    def __repr__(self):              # this is the representation of the class instance when it gets printed\n",
    "        return f'Circle with radius {self.radius}'\n",
    "    \n",
    "\n",
    "  \n",
    "\n",
    "\n",
    "# instantiating 3 different instances of the Circle class\n",
    "medium_pizza = Circle(12)  \n",
    "teaching_table = Circle(36)\n",
    "round_room = Circle(11460)\n",
    "\n",
    "# calling the class method on them\n",
    "print(medium_pizza.circumference())\n",
    "print(teaching_table.circumference())\n",
    "print(round_room.circumference())\n",
    "\n",
    "# calling dir() on any object will return all of its attributes and methods\n",
    "dir(Circle)\n",
    "dir(medium_pizza)\n",
    "medium_pizza"
   ]
  },
  {
   "cell_type": "code",
   "execution_count": 6,
   "id": "86848721",
   "metadata": {},
   "outputs": [
    {
     "name": "stdout",
     "output_type": "stream",
     "text": [
      "[100, 78]\n",
      "89.0\n"
     ]
    }
   ],
   "source": [
    "class Student:\n",
    "  def __init__(self, name, year):\n",
    "    self.name = name\n",
    "    self.year = year\n",
    "    self.grades = []\n",
    "\n",
    "  def add_grade(self, grade):\n",
    "    self.grade = grade\n",
    "    if type(self.grade) is Grade:\n",
    "      self.grades.append(self.grade)\n",
    "\n",
    "  def get_average(self):\n",
    "    self.grade_list = [grade.score for grade in self.grades]\n",
    "    self.average = 0\n",
    "    for grade in self.grade_list:\n",
    "      self.average += grade\n",
    "    return self.average / len(self.grades)\n",
    "\n",
    "class Grade:\n",
    "  minimum_passing = 65\n",
    "  def __init__(self, score):\n",
    "    self.score = score\n",
    "\n",
    "roger = Student('Roger van der Weyden', 10)\n",
    "sandro = Student('Sandro Botticelli', 12)\n",
    "pieter = Student('Pieter Bruegel the Elder', 8)\n",
    "\n",
    "# instantiate a grade for pieter and add it to his class\n",
    "p_math = Grade(100)\n",
    "p_pe = Grade(78)\n",
    "pieter.add_grade(p_math)\n",
    "pieter.add_grade(p_pe)\n",
    "\n",
    "#As we added a Grade object to the list we need to write a list comprehension to get the actual score back\n",
    "pieter_grades = [grade.score for grade in pieter.grades]\n",
    "print(pieter_grades)\n",
    "print(pieter.get_average())"
   ]
  },
  {
   "cell_type": "code",
   "execution_count": null,
   "id": "894d2cef",
   "metadata": {},
   "outputs": [],
   "source": [
    "# structure of classes\n",
    "# https://www.youtube.com/watch?v=Dk-ePlxdmBU\n",
    "\n",
    "class Menu:\n",
    "  def __init__(self, name, items, start_time, end_time):\n",
    "    self.name = name\n",
    "    self.items = items\n",
    "    self.start = start_time\n",
    "    self.end = end_time\n",
    "\n",
    "  def __repr__(self):\n",
    "    return f'{self.name} menu available from {self.start} to {self.end}'\n",
    "\n",
    "  def calculate_bill(self, purchased_items):\n",
    "    total = 0\n",
    "    for item in purchased_items:\n",
    "      total += self.items[item]\n",
    "    return total\n",
    "\n",
    "class Franchise:\n",
    "  def __init__(self, address, menus):\n",
    "    self.address = address\n",
    "    self.menus = menus\n",
    "\n",
    "  def __repr__(self):\n",
    "    return self.address\n",
    "\n",
    "  def available_menus(self,time):\n",
    "    available_menus = [menu for menu in self.menus if menu.start <= time <= menu.end]\n",
    "    return available_menus\n",
    "\n",
    "class Business:\n",
    "  def __init__(self, name, franchise):\n",
    "    self.name = name\n",
    "    self.franchise = franchise\n",
    "\n",
    "  def __repr__(self):\n",
    "    return f'{self.name}- locations: {self.franchise}'\n",
    "\n",
    "#Menus\n",
    "brunch = Menu('Brunch', {'pancakes': 7.50, 'waffles': 9.00, 'burger': 11.00, 'home fries': 4.50, 'coffee': 1.50, 'espresso': 3.00, 'tea': 1.00, 'mimosa': 10.50, 'orange juice': 3.50}, 11, 16)\n",
    "early_bird = Menu('Early-bird', {'salumeria plate': 8.00, 'salad and breadsticks (serves 2, no refills)': 14.00, 'pizza with quattro formaggi': 9.00, 'duck ragu': 17.50, 'mushroom ravioli (vegan)': 13.50, 'coffee': 1.50, 'espresso': 3.00}, 15, 18)\n",
    "dinner = Menu('Dinner', {'crostini with eggplant caponata': 13.00, 'caesar salad': 16.00, 'pizza with quattro formaggi': 11.00, 'duck ragu': 19.50, 'mushroom ravioli (vegan)': 13.50, 'coffee': 2.00, 'espresso': 3.00}, 17, 23)\n",
    "kids = Menu('Kids', {'chicken nuggets': 6.50, 'fusilli with wild mushrooms': 12.00, 'apple juice': 3.00}, 11, 21)\n",
    "arepas_menu = Menu(\"Take a' Arepa\", {'arepa pabellon': 7.00, 'pernil arepa': 8.50, 'guayanes arepa': 8.00, 'jamon arepa': 7.50}, 10, 20)\n",
    "\n",
    "brunch_bill = brunch.calculate_bill(['pancakes', 'home fries', 'coffee'])\n",
    "early_bill = early_bird.calculate_bill(['salumeria plate', 'mushroom ravioli (vegan)'])\n",
    "\n",
    "#Franchises\n",
    "flagship_store = Franchise(\"1232 West End Road\", [brunch, early_bird, dinner, kids])\n",
    "new_installment = Franchise(\"12 East Mulberry Street\", [brunch, early_bird, dinner, kids])\n",
    "arepas_place = Franchise(\"189 Fitzgerald Avenue\", [arepas_menu])\n",
    "\n",
    "#Businesses\n",
    "first_business = Business(\"Basta Fazoolin' with my Heart\", [flagship_store, new_installment])\n",
    "new_business = Business(\"Take a' Arepa\", [arepas_place])\n"
   ]
  },
  {
   "cell_type": "markdown",
   "id": "b6f3a323",
   "metadata": {},
   "source": [
    "We use a class variable to keep track of the total number of robots. This information is shared across all robot objects we create from the class. Every time a robot object is created, the constructor is called and the count is incremented. Each robot has an instance variable for id which is local to that robot object. This is assigned at the time of construction and stores what the count was at that time."
   ]
  },
  {
   "cell_type": "code",
   "execution_count": null,
   "id": "e7cdd3c9",
   "metadata": {},
   "outputs": [],
   "source": [
    "class DriveBot:\n",
    "    # With these class variables we can control all instances of robots at once by changing the class variable\n",
    "    all_disabled = False\n",
    "    latitude = -999999\n",
    "    longitude = -999999\n",
    "    robot_count = 0\n",
    "    \n",
    "    # we use default values for the attributes if there is non specified in the constructor\n",
    "    def __init__(self, motor_speed = 0, direction = 180, sensor_range = 10):\n",
    "        self.motor_speed = motor_speed\n",
    "        self.direction = direction\n",
    "        self.sensor_range = sensor_range\n",
    "        DriveBot.robot_count += 1\n",
    "        self.id = DriveBot.robot_count\n",
    "    \n",
    "    def control_bot(self, new_speed, new_direction):\n",
    "        self.motor_speed = new_speed\n",
    "        self.direction = new_direction\n",
    "\n",
    "    def adjust_sensor(self, new_sensor_range):\n",
    "        self.sensor_range = new_sensor_range"
   ]
  }
 ],
 "metadata": {
  "kernelspec": {
   "display_name": "Python 3 (ipykernel)",
   "language": "python",
   "name": "python3"
  },
  "language_info": {
   "codemirror_mode": {
    "name": "ipython",
    "version": 3
   },
   "file_extension": ".py",
   "mimetype": "text/x-python",
   "name": "python",
   "nbconvert_exporter": "python",
   "pygments_lexer": "ipython3",
   "version": "3.11.5"
  }
 },
 "nbformat": 4,
 "nbformat_minor": 5
}

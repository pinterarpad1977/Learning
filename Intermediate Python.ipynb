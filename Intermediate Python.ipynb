{
 "cells": [
  {
   "cell_type": "markdown",
   "id": "bb2b5e4a",
   "metadata": {},
   "source": [
    "## Python Functions\n",
    "\n",
    "### 1. Mutable default arguments Python  - GOTCHA\n",
    "\n",
    "If you use a mutable object in a function definition it will be created only once.\n",
    "So anytime you change it, the one and same object will be changed.\n"
   ]
  },
  {
   "cell_type": "code",
   "execution_count": null,
   "id": "81cb71e4",
   "metadata": {},
   "outputs": [],
   "source": [
    "def createStudent(name, age, grades=[]):\n",
    "    return {\n",
    "        'name': name,\n",
    "        'age': age,\n",
    "        'grades': grades\n",
    "    }\n",
    "# Every time you append a grade to the list, the whole list of grades will be updated for the next student\n",
    "# There is only 1 instance of the grades list and it is used in every change.\n",
    "def addGrade(student, grade):\n",
    "    student['grades'].append(grade)\n",
    "    \n"
   ]
  },
  {
   "cell_type": "markdown",
   "id": "0c35cd07",
   "metadata": {},
   "source": [
    "### The \"None\" workaround"
   ]
  },
  {
   "cell_type": "code",
   "execution_count": 10,
   "id": "1a444331",
   "metadata": {},
   "outputs": [
    {
     "data": {
      "text/plain": [
       "{'name': 'chris', 'age': 18, 'grades': [99]}"
      ]
     },
     "execution_count": 10,
     "metadata": {},
     "output_type": "execute_result"
    }
   ],
   "source": [
    "def createStudent(name, age, grades=None):\n",
    "  if grades is None:\n",
    "    grades = []\n",
    "  return {\n",
    "    'name': name,\n",
    "    'age': age,\n",
    "    'grades': grades\n",
    "  }\n",
    "\n",
    "def addGrade(student, grade):\n",
    "    student['grades'].append(grade)\n",
    "    \n",
    "chris = createStudent('chris', 18)\n",
    "addGrade(chris, 99)\n",
    "\n",
    "joe = createStudent('joe', 18)\n",
    "addGrade(joe, 89)\n",
    "addGrade(joe, 94)\n",
    "joe\n",
    "chris"
   ]
  },
  {
   "cell_type": "markdown",
   "id": "7f93cdd3",
   "metadata": {},
   "source": [
    "### 2. Function Arguments: A Recap\n",
    "In Python, there are three common types of function arguments:\n",
    "- Positional arguments: arguments that are called by their position in the function definition.\n",
    "- Keyword arguments: arguments that are called by their name.\n",
    "- Default arguments: arguments that are given default values.\n",
    "\n",
    "### 3. Variable number of arguments: *args\n",
    "In Python, there is an additional operator called the **unpacking operator (*)**. The unpacking operator allows us to give our functions a variable number of arguments by performing what’s known as **positional argument packing**.\n",
    "\n",
    "NOTE:\n",
    "Whatever name follows the unpacking operator (*) will store the arguments passed into the function in the form of a tuple. This allows our functions to accept any number of arguments just like the print() function we examined earlier."
   ]
  },
  {
   "cell_type": "code",
   "execution_count": 11,
   "id": "55648fde",
   "metadata": {},
   "outputs": [
    {
     "name": "stdout",
     "output_type": "stream",
     "text": [
      "('args', 'could', 'be', 'named', 'anything', 'it is just the name of the variable storing all arguments as a tuple')\n"
     ]
    }
   ],
   "source": [
    "def args_example(*args):\n",
    "    print(args)\n",
    "\n",
    "end = 'it is just the name of the variable storing all arguments as a tuple'\n",
    "\n",
    "args_example('args', 'could', 'be', 'named', 'anything', end)\n"
   ]
  },
  {
   "cell_type": "markdown",
   "id": "735aa42f",
   "metadata": {},
   "source": [
    "### 4. Variable number of arguments: ****kwargs**\n",
    "Python gives us the power to define functions with unlimited keyword arguments. The syntax is very similar but uses two asterisks ** instead of one. We typically call these kwargs as a shorthand for keyword arguments. Python requires that all **positional arguments come first** in our function definition.\n",
    "\n",
    "****kwargs** takes the form of a dictionary with all the keyword argument values passed to arbitrary_keyword_args. Since ****kwargs** is a dictionary, we can use standard dictionary functions like **.get()** to retrieve values."
   ]
  },
  {
   "cell_type": "code",
   "execution_count": 15,
   "id": "88650459",
   "metadata": {},
   "outputs": [
    {
     "data": {
      "text/plain": [
       "{1: {'name': 'Chioma',\n",
       "  'vip_status': False,\n",
       "  'order': {'drinks': 'Orange Juice, Apple Juice', 'food_items': 'Pancakes'}},\n",
       " 2: {'name': 'Douglas',\n",
       "  'vip_status': True,\n",
       "  'order': {'food_items': 'Seabass, Gnocchi, Pizza',\n",
       "   'drinks': 'Margarita, Water'}},\n",
       " 3: {},\n",
       " 4: {},\n",
       " 5: {},\n",
       " 6: {},\n",
       " 7: {}}"
      ]
     },
     "execution_count": 15,
     "metadata": {},
     "output_type": "execute_result"
    }
   ],
   "source": [
    "tables = {\n",
    "  1: {\n",
    "    'name': 'Chioma',\n",
    "    'vip_status': False,\n",
    "    'order': {\n",
    "      'drinks': 'Orange Juice, Apple Juice',\n",
    "      'food_items': 'Pancakes'\n",
    "    }\n",
    "  },\n",
    "  2: {},\n",
    "  3: {},\n",
    "  4: {},\n",
    "  5: {},\n",
    "  6: {},\n",
    "  7: {},\n",
    "}\n",
    "\n",
    "def assign_table(table_number, name, vip_status=False): \n",
    "  tables[table_number]['name'] = name\n",
    "  tables[table_number]['vip_status'] = vip_status\n",
    "  tables[table_number]['order'] = {}\n",
    "\n",
    "def assign_food_items(table_number,**order_items):\n",
    "  food = order_items.get('food')\n",
    "  drinks = order_items.get('drinks')\n",
    "  tables[table_number]['order']['food_items'] = food\n",
    "  tables[table_number]['order']['drinks'] = drinks\n",
    "\n",
    "assign_table(2, 'Douglas', True)\n",
    "assign_food_items(2, food= 'Seabass, Gnocchi, Pizza', drinks = 'Margarita, Water')\n",
    "tables"
   ]
  },
  {
   "cell_type": "markdown",
   "id": "b483fcb9",
   "metadata": {},
   "source": [
    "### All together now!\n",
    "In some cases, we may want to use all three types together! Thankfully Python allows us to do so as long as we follow the correct order in our function definition. The order is as follows:\n",
    "1. Standard positional arguments\n",
    "2. *args\n",
    "3. Standard keyword arguments\n",
    "4. **kwargs"
   ]
  },
  {
   "cell_type": "code",
   "execution_count": 16,
   "id": "f4d3d141",
   "metadata": {},
   "outputs": [
    {
     "name": "stdout",
     "output_type": "stream",
     "text": [
      "Baby Beets\n",
      "('Salmon', 'Scallops')\n",
      "Mashed Potatoes\n",
      "{'ice_cream_scoop1': 'Vanilla', 'ice_cream_scoop2': 'Cookies and Cream'}\n"
     ]
    }
   ],
   "source": [
    "def single_prix_fixe_order(appetizer, *entrees, sides, **dessert_scoops):\n",
    "    print(appetizer)\n",
    "    print(entrees)\n",
    "    print(sides)\n",
    "    print(dessert_scoops)\n",
    "\n",
    "# the keywords for the kw arguments are necessary\n",
    "single_prix_fixe_order('Baby Beets', 'Salmon', 'Scallops', sides='Mashed Potatoes', \\\n",
    "                       ice_cream_scoop1='Vanilla', ice_cream_scoop2='Cookies and Cream' )"
   ]
  },
  {
   "cell_type": "markdown",
   "id": "d012f630",
   "metadata": {},
   "source": [
    "### The Nile exercise\n",
    "A practice with functions and arguments"
   ]
  },
  {
   "cell_type": "code",
   "execution_count": 17,
   "id": "ff4cea51",
   "metadata": {},
   "outputs": [],
   "source": [
    "# PREDEFINED Parameters ________________________\n",
    "from math import sin, cos, atan2, sqrt\n",
    "\n",
    "def get_distance(from_lat, from_long, to_lat, to_long):\n",
    "  dlon = to_long - from_long\n",
    "  dlat = from_lat - to_lat\n",
    "  a = (sin(dlat/2)) ** 2 + cos(from_lat) * cos(to_lat) * (sin(dlon/2)) ** 2\n",
    "  c = 2 * atan2(sqrt(a), sqrt(1-a))\n",
    "  distance = a * c\n",
    "  return distance\n",
    "\n",
    "SHIPPING_PRICES = {\n",
    "  'Ground': 1,\n",
    "  'Priority': 1.6,\n",
    "  'Overnight': 2.3,\n",
    "}\n",
    "\n",
    "def format_price(price):\n",
    "  return \"${0:.2f}\".format(price)\n",
    "# ______________________________________________\n",
    "\n",
    "\n",
    "# Define calculate_shipping_cost() here:\n",
    "def calculate_shipping_cost(from_coords, to_coords, shipping_type = 'Overnight'):\n",
    "  from_lat, from_long = from_coords\n",
    "  to_lat, to_long = to_coords\n",
    "  distance = get_distance(from_lat, from_long, to_lat, to_long)\n",
    "  shipping_rate = SHIPPING_PRICES[shipping_type]\n",
    "  price = distance * shipping_rate\n",
    "  return format_price(price)\n",
    "\n",
    "# Define calculate_driver_cost() here\n",
    "def calculate_driver_cost(distance, *drivers):\n",
    "  cheapest_driver = None\n",
    "  cheapest_driver_price = None\n",
    "  for driver in drivers:\n",
    "    driver_time = distance / driver.speed\n",
    "    price_for_driver = driver.salary * driver_time\n",
    "    if cheapest_driver is None:\n",
    "      cheapest_driver = driver\n",
    "      cheapest_driver_price = price_for_driver\n",
    "    elif price_for_driver < cheapest_driver_price:\n",
    "      cheapest_driver = driver\n",
    "      cheapest_driver_price = price_for_driver\n",
    "  return (cheapest_driver_price, cheapest_driver)\n",
    "\n",
    "# Define calculate_money_made() here\n",
    "def calculate_money_made(**trips):\n",
    "  total_money_made = 0\n",
    "  for trip_id, trip in trips.items():\n",
    "    trip_revenue = trip.cost - trip.driver.cost\n",
    "    total_money_made += trip_revenue\n",
    "  return total_money_made\n",
    "\n",
    "\n"
   ]
  },
  {
   "cell_type": "markdown",
   "id": "cc5bf63e",
   "metadata": {},
   "source": [
    "## 5. Python Namespaces\n",
    "\n",
    "Python creates dictionaries for every namespace and stores the object names in them as keys. The values can be the actual values assigned to the variable name, or the memory address of a function, etc\n",
    "\n",
    "The four distinct types of namespaces that Python generates:\n",
    "- **Built-In:** Whenever we run a Python application, we are provided a built-in namespace that is created when the interpreter is started and has a lifetime until the interpreter terminates (usually when our program is finished running). Since Python provides the namespace, these objects are accessible without the need to import a separate module.\n",
    "- **Global:** The global namespace exists one level below the built-in namespace. Generally, it includes all non-nested names in the module (file) we are choosing to run the Python interpreter on. Anytime we use the **import** statement to bring in a new module into our program, instead of adding every name from that module (such as all the names in the random module) to our current global namespace, **Python will create a new namespace for it**. This means there might be potentially multiple global namespaces in a single program\n",
    "- **Local:** In Python, whenever the interpreter executes a function, it will generate a local namespace for that specific function. This namespace only exists inside of the function and remains in existence until the function terminates. The **locals()** function can show the local namespace within a function. If we use it outside of a function it behaves like the global().\n",
    "- **Enclosing:** Enclosing namespaces are created specifically when we work with nested functions and just like with the local namespace, will only exist until the function is done executing."
   ]
  },
  {
   "cell_type": "code",
   "execution_count": 18,
   "id": "bbb3495b",
   "metadata": {},
   "outputs": [
    {
     "name": "stdout",
     "output_type": "stream",
     "text": [
      "\n",
      "----------------The built-in namspace:-----------------\n",
      "\n",
      "['ArithmeticError', 'AssertionError', 'AttributeError', 'BaseException', 'BaseExceptionGroup', 'BlockingIOError', 'BrokenPipeError', 'BufferError', 'BytesWarning', 'ChildProcessError', 'ConnectionAbortedError', 'ConnectionError', 'ConnectionRefusedError', 'ConnectionResetError', 'DeprecationWarning', 'EOFError', 'Ellipsis', 'EncodingWarning', 'EnvironmentError', 'Exception', 'ExceptionGroup', 'False', 'FileExistsError', 'FileNotFoundError', 'FloatingPointError', 'FutureWarning', 'GeneratorExit', 'IOError', 'ImportError', 'ImportWarning', 'IndentationError', 'IndexError', 'InterruptedError', 'IsADirectoryError', 'KeyError', 'KeyboardInterrupt', 'LookupError', 'MemoryError', 'ModuleNotFoundError', 'NameError', 'None', 'NotADirectoryError', 'NotImplemented', 'NotImplementedError', 'OSError', 'OverflowError', 'PendingDeprecationWarning', 'PermissionError', 'ProcessLookupError', 'RecursionError', 'ReferenceError', 'ResourceWarning', 'RuntimeError', 'RuntimeWarning', 'StopAsyncIteration', 'StopIteration', 'SyntaxError', 'SyntaxWarning', 'SystemError', 'SystemExit', 'TabError', 'TimeoutError', 'True', 'TypeError', 'UnboundLocalError', 'UnicodeDecodeError', 'UnicodeEncodeError', 'UnicodeError', 'UnicodeTranslateError', 'UnicodeWarning', 'UserWarning', 'ValueError', 'Warning', 'WindowsError', 'ZeroDivisionError', '__IPYTHON__', '__build_class__', '__debug__', '__doc__', '__import__', '__loader__', '__name__', '__package__', '__spec__', 'abs', 'aiter', 'all', 'anext', 'any', 'ascii', 'bin', 'bool', 'breakpoint', 'bytearray', 'bytes', 'callable', 'chr', 'classmethod', 'compile', 'complex', 'copyright', 'credits', 'delattr', 'dict', 'dir', 'display', 'divmod', 'enumerate', 'eval', 'exec', 'execfile', 'filter', 'float', 'format', 'frozenset', 'get_ipython', 'getattr', 'globals', 'hasattr', 'hash', 'help', 'hex', 'id', 'input', 'int', 'isinstance', 'issubclass', 'iter', 'len', 'license', 'list', 'locals', 'map', 'max', 'memoryview', 'min', 'next', 'object', 'oct', 'open', 'ord', 'pow', 'print', 'property', 'range', 'repr', 'reversed', 'round', 'runfile', 'set', 'setattr', 'slice', 'sorted', 'staticmethod', 'str', 'sum', 'super', 'tuple', 'type', 'vars', 'zip']\n",
      "\n",
      "----------------The global namspace:-----------------\n",
      "\n",
      "{'__name__': '__main__', '__doc__': 'Automatically created module for IPython interactive environment', '__package__': None, '__loader__': None, '__spec__': None, '__builtin__': <module 'builtins' (built-in)>, '__builtins__': <module 'builtins' (built-in)>, '_ih': ['', \"def createStudent(name, age, grades=None):\\n  if grades is None:\\n    grades = []\\n  return {\\n    'name': name,\\n    'age': age,\\n    'grades': grades\\n  }\\n\\ndef addGrade(student, grade):\\n    student['grades'].append(grade)\\n    \\nchris = createStudent('chris', 18)\\nchris\", \"def createStudent(name, age, grades=None):\\n  if grades is None:\\n    grades = []\\n  return {\\n    'name': name,\\n    'age': age,\\n    'grades': grades\\n  }\\n\\ndef addGrade(student, grade):\\n    student['grades'].append(grade)\\n    \\nchris = createStudent('chris', 18)\\nchris = addGrade('chris', 99)\\nchris\", \"def createStudent(name, age, grades=None):\\n  if grades is None:\\n    grades = []\\n  return {\\n    'name': name,\\n    'age': age,\\n    'grades': grades\\n  }\\n\\ndef addGrade(student, grade):\\n    student['grades'].append(grade)\\n    \\nchris = createStudent('chris', 18)\\nchris = addGrade(chris, 99)\\nchris\", \"def createStudent(name, age, grades=None):\\n  if grades is None:\\n    grades = []\\n  return {\\n    'name': name,\\n    'age': age,\\n    'grades': grades\\n  }\\n\\ndef addGrade(student, grade):\\n    student['grades'].append(grade)\\n    \\nchris = createStudent('chris', 18)\\nchris = addGrade(chris, 99)\\nchris\", \"def createStudent(name, age, grades=None):\\n  if grades is None:\\n    grades = []\\n  return {\\n    'name': name,\\n    'age': age,\\n    'grades': grades\\n  }\\n\\ndef addGrade(student, grade):\\n    student['grades'].append(grade)\\n    \\nchris = createStudent('chris', 18)\\nchris = addGrade(chris, 99)\\nprint(chris)\", \"def createStudent(name, age, grades=None):\\n  if grades is None:\\n    grades = []\\n  return {\\n    'name': name,\\n    'age': age,\\n    'grades': grades\\n  }\\n\\ndef addGrade(student, grade):\\n    student['grades'].append(grade)\\n    \\nchris = createStudent('chris', 18)\\naddGrade(chris, 99)\\nprint(chris)\", \"def createStudent(name, age, grades=None):\\n  if grades is None:\\n    grades = []\\n  return {\\n    'name': name,\\n    'age': age,\\n    'grades': grades\\n  }\\n\\ndef addGrade(student, grade):\\n    student['grades'].append(grade)\\n    \\nchris = createStudent('chris', 18)\\naddGrade(chris, 99)\\n\\njoe = createStudent('joe', 18)\\naddGrade(joe, 89)\\n\\nchris\", \"def createStudent(name, age, grades=None):\\n  if grades is None:\\n    grades = []\\n  return {\\n    'name': name,\\n    'age': age,\\n    'grades': grades\\n  }\\n\\ndef addGrade(student, grade):\\n    student['grades'].append(grade)\\n    \\nchris = createStudent('chris', 18)\\naddGrade(chris, 99)\\n\\njoe = createStudent('joe', 18)\\naddGrade(joe, 89)\\njoe\", \"def createStudent(name, age, grades=None):\\n  if grades is None:\\n    grades = []\\n  return {\\n    'name': name,\\n    'age': age,\\n    'grades': grades\\n  }\\n\\ndef addGrade(student, grade):\\n    student['grades'].append(grade)\\n    \\nchris = createStudent('chris', 18)\\naddGrade(chris, 99)\\n\\njoe = createStudent('joe', 18)\\naddGrade(joe, 89)\\naddGrade(joe, 94)\\njoe\", \"def createStudent(name, age, grades=None):\\n  if grades is None:\\n    grades = []\\n  return {\\n    'name': name,\\n    'age': age,\\n    'grades': grades\\n  }\\n\\ndef addGrade(student, grade):\\n    student['grades'].append(grade)\\n    \\nchris = createStudent('chris', 18)\\naddGrade(chris, 99)\\n\\njoe = createStudent('joe', 18)\\naddGrade(joe, 89)\\naddGrade(joe, 94)\\njoe\\nchris\", \"def args_example(*args):\\n    print(args)\\n\\nend = 'it is just the name of the variable storing all arguments as a tuple'\\n\\nargs_example('args', 'could', 'be', 'named', 'anything', end)\", \"tables = {\\n  1: {\\n    'name': 'Chioma',\\n    'vip_status': False,\\n    'order': {\\n      'drinks': 'Orange Juice, Apple Juice',\\n      'food_items': 'Pancakes'\\n    }\\n  },\\n  2: {},\\n  3: {},\\n  4: {},\\n  5: {},\\n  6: {},\\n  7: {},\\n}\\n\\ndef assign_food_items(**order_items):\\n  food = order_items.get('food')\\n  drinks = order_items.get('drinks')\\n  print(food)\\n  print(drinks)\\n    \\nassign_food_items(food='Pancakes, Poached Egg', drinks='Water')\", \"tables = {\\n  1: {\\n    'name': 'Chioma',\\n    'vip_status': False,\\n    'order': {\\n      'drinks': 'Orange Juice, Apple Juice',\\n      'food_items': 'Pancakes'\\n    }\\n  },\\n  2: {},\\n  3: {},\\n  4: {},\\n  5: {},\\n  6: {},\\n  7: {},\\n}\\n\\ndef assign_food_items(table_number,**order_items):\\n  food = order_items.get('food')\\n  drinks = order_items.get('drinks')\\n  tables[table_number]['order']['food_items'] = food\\n  tables[table_number]['order']['drinks'] = drinks\\n\\n\\nassign_food_items(2, food= 'Seabass, Gnocchi, Pizza', drinks = 'Margarita, Water')\\ntables\", \"tables = {\\n  1: {\\n    'name': 'Chioma',\\n    'vip_status': False,\\n    'order': {\\n      'drinks': 'Orange Juice, Apple Juice',\\n      'food_items': 'Pancakes'\\n    }\\n  },\\n  2: {},\\n  3: {},\\n  4: {},\\n  5: {},\\n  6: {},\\n  7: {},\\n}\\n\\ndef assign_table(table_number, name, vip_status=False): \\n  tables[table_number]['name'] = name\\n  tables[table_number]['vip_status'] = vip_status\\n  tables[table_number]['order'] = {}\\n\\ndef assign_food_items(table_number,**order_items):\\n  food = order_items.get('food')\\n  drinks = order_items.get('drinks')\\n  tables[table_number]['order']['food_items'] = food\\n  tables[table_number]['order']['drinks'] = drinks\\n\\n\\nassign_food_items(2, food= 'Seabass, Gnocchi, Pizza', drinks = 'Margarita, Water')\\ntables\", \"tables = {\\n  1: {\\n    'name': 'Chioma',\\n    'vip_status': False,\\n    'order': {\\n      'drinks': 'Orange Juice, Apple Juice',\\n      'food_items': 'Pancakes'\\n    }\\n  },\\n  2: {},\\n  3: {},\\n  4: {},\\n  5: {},\\n  6: {},\\n  7: {},\\n}\\n\\ndef assign_table(table_number, name, vip_status=False): \\n  tables[table_number]['name'] = name\\n  tables[table_number]['vip_status'] = vip_status\\n  tables[table_number]['order'] = {}\\n\\ndef assign_food_items(table_number,**order_items):\\n  food = order_items.get('food')\\n  drinks = order_items.get('drinks')\\n  tables[table_number]['order']['food_items'] = food\\n  tables[table_number]['order']['drinks'] = drinks\\n\\nassign_table(2, 'Douglas', True)\\nassign_food_items(2, food= 'Seabass, Gnocchi, Pizza', drinks = 'Margarita, Water')\\ntables\", \"def single_prix_fixe_order(appetizer, *entrees, sides, **dessert_scoops):\\n    print(appetizer)\\n    print(entrees)\\n    print(sides)\\n    print(dessert_scoops)\\n\\n# the keywords for the kw arguments are necessary\\nsingle_prix_fixe_order('Baby Beets', 'Salmon', 'Scallops', sides='Mashed Potatoes', \\\\\\n                       ice_cream_scoop1='Vanilla', ice_cream_scoop2='Cookies and Cream' )\", '# PREDEFINED Parameters ________________________\\nfrom math import sin, cos, atan2, sqrt\\n\\ndef get_distance(from_lat, from_long, to_lat, to_long):\\n  dlon = to_long - from_long\\n  dlat = from_lat - to_lat\\n  a = (sin(dlat/2)) ** 2 + cos(from_lat) * cos(to_lat) * (sin(dlon/2)) ** 2\\n  c = 2 * atan2(sqrt(a), sqrt(1-a))\\n  distance = a * c\\n  return distance\\n\\nSHIPPING_PRICES = {\\n  \\'Ground\\': 1,\\n  \\'Priority\\': 1.6,\\n  \\'Overnight\\': 2.3,\\n}\\n\\ndef format_price(price):\\n  return \"${0:.2f}\".format(price)\\n# ______________________________________________\\n\\n\\n# Define calculate_shipping_cost() here:\\ndef calculate_shipping_cost(from_coords, to_coords, shipping_type = \\'Overnight\\'):\\n  from_lat, from_long = from_coords\\n  to_lat, to_long = to_coords\\n  distance = get_distance(from_lat, from_long, to_lat, to_long)\\n  shipping_rate = SHIPPING_PRICES[shipping_type]\\n  price = distance * shipping_rate\\n  return format_price(price)\\n\\n# Define calculate_driver_cost() here\\ndef calculate_driver_cost(distance, *drivers):\\n  cheapest_driver = None\\n  cheapest_driver_price = None\\n  for driver in drivers:\\n    driver_time = distance / driver.speed\\n    price_for_driver = driver.salary * driver_time\\n    if cheapest_driver is None:\\n      cheapest_driver = driver\\n      cheapest_driver_price = price_for_driver\\n    elif price_for_driver < cheapest_driver_price:\\n      cheapest_driver = driver\\n      cheapest_driver_price = price_for_driver\\n  return (cheapest_driver_price, cheapest_driver)\\n\\n# Define calculate_money_made() here\\ndef calculate_money_made(**trips):\\n  total_money_made = 0\\n  for trip_id, trip in trips.items():\\n    trip_revenue = trip.cost - trip.driver.cost\\n    total_money_made += trip_revenue\\n  return total_money_made', \"# show the built-in namspace:\\nprint('\\\\n----------------The built-in namspace:-----------------\\\\n')\\nprint(dir(__builtins__))\\n\\nprint('\\\\n----------------The global namspace:-----------------\\\\n')\\n# show the global namespace:\\nprint(globals())\\n\\ndef divide(num1, num2):\\n  result = num1 / num2\\n  print(locals())\\n  return result\\n\\nprint(' \\\\n -- Local Namespace for divide -- \\\\n')\\ndivide(3,4)\"], '_oh': {1: {'name': 'chris', 'age': 18, 'grades': []}, 7: {'name': 'chris', 'age': 18, 'grades': [99]}, 8: {'name': 'joe', 'age': 18, 'grades': [89]}, 9: {'name': 'joe', 'age': 18, 'grades': [89, 94]}, 10: {'name': 'chris', 'age': 18, 'grades': [99]}, 15: {1: {'name': 'Chioma', 'vip_status': False, 'order': {'drinks': 'Orange Juice, Apple Juice', 'food_items': 'Pancakes'}}, 2: {'name': 'Douglas', 'vip_status': True, 'order': {'food_items': 'Seabass, Gnocchi, Pizza', 'drinks': 'Margarita, Water'}}, 3: {}, 4: {}, 5: {}, 6: {}, 7: {}}}, '_dh': [WindowsPath('C:/Users/User/GitHub/Learning')], 'In': ['', \"def createStudent(name, age, grades=None):\\n  if grades is None:\\n    grades = []\\n  return {\\n    'name': name,\\n    'age': age,\\n    'grades': grades\\n  }\\n\\ndef addGrade(student, grade):\\n    student['grades'].append(grade)\\n    \\nchris = createStudent('chris', 18)\\nchris\", \"def createStudent(name, age, grades=None):\\n  if grades is None:\\n    grades = []\\n  return {\\n    'name': name,\\n    'age': age,\\n    'grades': grades\\n  }\\n\\ndef addGrade(student, grade):\\n    student['grades'].append(grade)\\n    \\nchris = createStudent('chris', 18)\\nchris = addGrade('chris', 99)\\nchris\", \"def createStudent(name, age, grades=None):\\n  if grades is None:\\n    grades = []\\n  return {\\n    'name': name,\\n    'age': age,\\n    'grades': grades\\n  }\\n\\ndef addGrade(student, grade):\\n    student['grades'].append(grade)\\n    \\nchris = createStudent('chris', 18)\\nchris = addGrade(chris, 99)\\nchris\", \"def createStudent(name, age, grades=None):\\n  if grades is None:\\n    grades = []\\n  return {\\n    'name': name,\\n    'age': age,\\n    'grades': grades\\n  }\\n\\ndef addGrade(student, grade):\\n    student['grades'].append(grade)\\n    \\nchris = createStudent('chris', 18)\\nchris = addGrade(chris, 99)\\nchris\", \"def createStudent(name, age, grades=None):\\n  if grades is None:\\n    grades = []\\n  return {\\n    'name': name,\\n    'age': age,\\n    'grades': grades\\n  }\\n\\ndef addGrade(student, grade):\\n    student['grades'].append(grade)\\n    \\nchris = createStudent('chris', 18)\\nchris = addGrade(chris, 99)\\nprint(chris)\", \"def createStudent(name, age, grades=None):\\n  if grades is None:\\n    grades = []\\n  return {\\n    'name': name,\\n    'age': age,\\n    'grades': grades\\n  }\\n\\ndef addGrade(student, grade):\\n    student['grades'].append(grade)\\n    \\nchris = createStudent('chris', 18)\\naddGrade(chris, 99)\\nprint(chris)\", \"def createStudent(name, age, grades=None):\\n  if grades is None:\\n    grades = []\\n  return {\\n    'name': name,\\n    'age': age,\\n    'grades': grades\\n  }\\n\\ndef addGrade(student, grade):\\n    student['grades'].append(grade)\\n    \\nchris = createStudent('chris', 18)\\naddGrade(chris, 99)\\n\\njoe = createStudent('joe', 18)\\naddGrade(joe, 89)\\n\\nchris\", \"def createStudent(name, age, grades=None):\\n  if grades is None:\\n    grades = []\\n  return {\\n    'name': name,\\n    'age': age,\\n    'grades': grades\\n  }\\n\\ndef addGrade(student, grade):\\n    student['grades'].append(grade)\\n    \\nchris = createStudent('chris', 18)\\naddGrade(chris, 99)\\n\\njoe = createStudent('joe', 18)\\naddGrade(joe, 89)\\njoe\", \"def createStudent(name, age, grades=None):\\n  if grades is None:\\n    grades = []\\n  return {\\n    'name': name,\\n    'age': age,\\n    'grades': grades\\n  }\\n\\ndef addGrade(student, grade):\\n    student['grades'].append(grade)\\n    \\nchris = createStudent('chris', 18)\\naddGrade(chris, 99)\\n\\njoe = createStudent('joe', 18)\\naddGrade(joe, 89)\\naddGrade(joe, 94)\\njoe\", \"def createStudent(name, age, grades=None):\\n  if grades is None:\\n    grades = []\\n  return {\\n    'name': name,\\n    'age': age,\\n    'grades': grades\\n  }\\n\\ndef addGrade(student, grade):\\n    student['grades'].append(grade)\\n    \\nchris = createStudent('chris', 18)\\naddGrade(chris, 99)\\n\\njoe = createStudent('joe', 18)\\naddGrade(joe, 89)\\naddGrade(joe, 94)\\njoe\\nchris\", \"def args_example(*args):\\n    print(args)\\n\\nend = 'it is just the name of the variable storing all arguments as a tuple'\\n\\nargs_example('args', 'could', 'be', 'named', 'anything', end)\", \"tables = {\\n  1: {\\n    'name': 'Chioma',\\n    'vip_status': False,\\n    'order': {\\n      'drinks': 'Orange Juice, Apple Juice',\\n      'food_items': 'Pancakes'\\n    }\\n  },\\n  2: {},\\n  3: {},\\n  4: {},\\n  5: {},\\n  6: {},\\n  7: {},\\n}\\n\\ndef assign_food_items(**order_items):\\n  food = order_items.get('food')\\n  drinks = order_items.get('drinks')\\n  print(food)\\n  print(drinks)\\n    \\nassign_food_items(food='Pancakes, Poached Egg', drinks='Water')\", \"tables = {\\n  1: {\\n    'name': 'Chioma',\\n    'vip_status': False,\\n    'order': {\\n      'drinks': 'Orange Juice, Apple Juice',\\n      'food_items': 'Pancakes'\\n    }\\n  },\\n  2: {},\\n  3: {},\\n  4: {},\\n  5: {},\\n  6: {},\\n  7: {},\\n}\\n\\ndef assign_food_items(table_number,**order_items):\\n  food = order_items.get('food')\\n  drinks = order_items.get('drinks')\\n  tables[table_number]['order']['food_items'] = food\\n  tables[table_number]['order']['drinks'] = drinks\\n\\n\\nassign_food_items(2, food= 'Seabass, Gnocchi, Pizza', drinks = 'Margarita, Water')\\ntables\", \"tables = {\\n  1: {\\n    'name': 'Chioma',\\n    'vip_status': False,\\n    'order': {\\n      'drinks': 'Orange Juice, Apple Juice',\\n      'food_items': 'Pancakes'\\n    }\\n  },\\n  2: {},\\n  3: {},\\n  4: {},\\n  5: {},\\n  6: {},\\n  7: {},\\n}\\n\\ndef assign_table(table_number, name, vip_status=False): \\n  tables[table_number]['name'] = name\\n  tables[table_number]['vip_status'] = vip_status\\n  tables[table_number]['order'] = {}\\n\\ndef assign_food_items(table_number,**order_items):\\n  food = order_items.get('food')\\n  drinks = order_items.get('drinks')\\n  tables[table_number]['order']['food_items'] = food\\n  tables[table_number]['order']['drinks'] = drinks\\n\\n\\nassign_food_items(2, food= 'Seabass, Gnocchi, Pizza', drinks = 'Margarita, Water')\\ntables\", \"tables = {\\n  1: {\\n    'name': 'Chioma',\\n    'vip_status': False,\\n    'order': {\\n      'drinks': 'Orange Juice, Apple Juice',\\n      'food_items': 'Pancakes'\\n    }\\n  },\\n  2: {},\\n  3: {},\\n  4: {},\\n  5: {},\\n  6: {},\\n  7: {},\\n}\\n\\ndef assign_table(table_number, name, vip_status=False): \\n  tables[table_number]['name'] = name\\n  tables[table_number]['vip_status'] = vip_status\\n  tables[table_number]['order'] = {}\\n\\ndef assign_food_items(table_number,**order_items):\\n  food = order_items.get('food')\\n  drinks = order_items.get('drinks')\\n  tables[table_number]['order']['food_items'] = food\\n  tables[table_number]['order']['drinks'] = drinks\\n\\nassign_table(2, 'Douglas', True)\\nassign_food_items(2, food= 'Seabass, Gnocchi, Pizza', drinks = 'Margarita, Water')\\ntables\", \"def single_prix_fixe_order(appetizer, *entrees, sides, **dessert_scoops):\\n    print(appetizer)\\n    print(entrees)\\n    print(sides)\\n    print(dessert_scoops)\\n\\n# the keywords for the kw arguments are necessary\\nsingle_prix_fixe_order('Baby Beets', 'Salmon', 'Scallops', sides='Mashed Potatoes', \\\\\\n                       ice_cream_scoop1='Vanilla', ice_cream_scoop2='Cookies and Cream' )\", '# PREDEFINED Parameters ________________________\\nfrom math import sin, cos, atan2, sqrt\\n\\ndef get_distance(from_lat, from_long, to_lat, to_long):\\n  dlon = to_long - from_long\\n  dlat = from_lat - to_lat\\n  a = (sin(dlat/2)) ** 2 + cos(from_lat) * cos(to_lat) * (sin(dlon/2)) ** 2\\n  c = 2 * atan2(sqrt(a), sqrt(1-a))\\n  distance = a * c\\n  return distance\\n\\nSHIPPING_PRICES = {\\n  \\'Ground\\': 1,\\n  \\'Priority\\': 1.6,\\n  \\'Overnight\\': 2.3,\\n}\\n\\ndef format_price(price):\\n  return \"${0:.2f}\".format(price)\\n# ______________________________________________\\n\\n\\n# Define calculate_shipping_cost() here:\\ndef calculate_shipping_cost(from_coords, to_coords, shipping_type = \\'Overnight\\'):\\n  from_lat, from_long = from_coords\\n  to_lat, to_long = to_coords\\n  distance = get_distance(from_lat, from_long, to_lat, to_long)\\n  shipping_rate = SHIPPING_PRICES[shipping_type]\\n  price = distance * shipping_rate\\n  return format_price(price)\\n\\n# Define calculate_driver_cost() here\\ndef calculate_driver_cost(distance, *drivers):\\n  cheapest_driver = None\\n  cheapest_driver_price = None\\n  for driver in drivers:\\n    driver_time = distance / driver.speed\\n    price_for_driver = driver.salary * driver_time\\n    if cheapest_driver is None:\\n      cheapest_driver = driver\\n      cheapest_driver_price = price_for_driver\\n    elif price_for_driver < cheapest_driver_price:\\n      cheapest_driver = driver\\n      cheapest_driver_price = price_for_driver\\n  return (cheapest_driver_price, cheapest_driver)\\n\\n# Define calculate_money_made() here\\ndef calculate_money_made(**trips):\\n  total_money_made = 0\\n  for trip_id, trip in trips.items():\\n    trip_revenue = trip.cost - trip.driver.cost\\n    total_money_made += trip_revenue\\n  return total_money_made', \"# show the built-in namspace:\\nprint('\\\\n----------------The built-in namspace:-----------------\\\\n')\\nprint(dir(__builtins__))\\n\\nprint('\\\\n----------------The global namspace:-----------------\\\\n')\\n# show the global namespace:\\nprint(globals())\\n\\ndef divide(num1, num2):\\n  result = num1 / num2\\n  print(locals())\\n  return result\\n\\nprint(' \\\\n -- Local Namespace for divide -- \\\\n')\\ndivide(3,4)\"], 'Out': {1: {'name': 'chris', 'age': 18, 'grades': []}, 7: {'name': 'chris', 'age': 18, 'grades': [99]}, 8: {'name': 'joe', 'age': 18, 'grades': [89]}, 9: {'name': 'joe', 'age': 18, 'grades': [89, 94]}, 10: {'name': 'chris', 'age': 18, 'grades': [99]}, 15: {1: {'name': 'Chioma', 'vip_status': False, 'order': {'drinks': 'Orange Juice, Apple Juice', 'food_items': 'Pancakes'}}, 2: {'name': 'Douglas', 'vip_status': True, 'order': {'food_items': 'Seabass, Gnocchi, Pizza', 'drinks': 'Margarita, Water'}}, 3: {}, 4: {}, 5: {}, 6: {}, 7: {}}}, 'get_ipython': <bound method InteractiveShell.get_ipython of <ipykernel.zmqshell.ZMQInteractiveShell object at 0x00000207FC00B910>>, 'exit': <IPython.core.autocall.ZMQExitAutocall object at 0x00000207FC01F9D0>, 'quit': <IPython.core.autocall.ZMQExitAutocall object at 0x00000207FC01F9D0>, 'open': <function open at 0x00000207F9FAF100>, '_': {1: {'name': 'Chioma', 'vip_status': False, 'order': {'drinks': 'Orange Juice, Apple Juice', 'food_items': 'Pancakes'}}, 2: {'name': 'Douglas', 'vip_status': True, 'order': {'food_items': 'Seabass, Gnocchi, Pizza', 'drinks': 'Margarita, Water'}}, 3: {}, 4: {}, 5: {}, 6: {}, 7: {}}, '__': {'name': 'chris', 'age': 18, 'grades': [99]}, '___': {'name': 'joe', 'age': 18, 'grades': [89, 94]}, '_i': '# PREDEFINED Parameters ________________________\\nfrom math import sin, cos, atan2, sqrt\\n\\ndef get_distance(from_lat, from_long, to_lat, to_long):\\n  dlon = to_long - from_long\\n  dlat = from_lat - to_lat\\n  a = (sin(dlat/2)) ** 2 + cos(from_lat) * cos(to_lat) * (sin(dlon/2)) ** 2\\n  c = 2 * atan2(sqrt(a), sqrt(1-a))\\n  distance = a * c\\n  return distance\\n\\nSHIPPING_PRICES = {\\n  \\'Ground\\': 1,\\n  \\'Priority\\': 1.6,\\n  \\'Overnight\\': 2.3,\\n}\\n\\ndef format_price(price):\\n  return \"${0:.2f}\".format(price)\\n# ______________________________________________\\n\\n\\n# Define calculate_shipping_cost() here:\\ndef calculate_shipping_cost(from_coords, to_coords, shipping_type = \\'Overnight\\'):\\n  from_lat, from_long = from_coords\\n  to_lat, to_long = to_coords\\n  distance = get_distance(from_lat, from_long, to_lat, to_long)\\n  shipping_rate = SHIPPING_PRICES[shipping_type]\\n  price = distance * shipping_rate\\n  return format_price(price)\\n\\n# Define calculate_driver_cost() here\\ndef calculate_driver_cost(distance, *drivers):\\n  cheapest_driver = None\\n  cheapest_driver_price = None\\n  for driver in drivers:\\n    driver_time = distance / driver.speed\\n    price_for_driver = driver.salary * driver_time\\n    if cheapest_driver is None:\\n      cheapest_driver = driver\\n      cheapest_driver_price = price_for_driver\\n    elif price_for_driver < cheapest_driver_price:\\n      cheapest_driver = driver\\n      cheapest_driver_price = price_for_driver\\n  return (cheapest_driver_price, cheapest_driver)\\n\\n# Define calculate_money_made() here\\ndef calculate_money_made(**trips):\\n  total_money_made = 0\\n  for trip_id, trip in trips.items():\\n    trip_revenue = trip.cost - trip.driver.cost\\n    total_money_made += trip_revenue\\n  return total_money_made', '_ii': \"def single_prix_fixe_order(appetizer, *entrees, sides, **dessert_scoops):\\n    print(appetizer)\\n    print(entrees)\\n    print(sides)\\n    print(dessert_scoops)\\n\\n# the keywords for the kw arguments are necessary\\nsingle_prix_fixe_order('Baby Beets', 'Salmon', 'Scallops', sides='Mashed Potatoes', \\\\\\n                       ice_cream_scoop1='Vanilla', ice_cream_scoop2='Cookies and Cream' )\", '_iii': \"tables = {\\n  1: {\\n    'name': 'Chioma',\\n    'vip_status': False,\\n    'order': {\\n      'drinks': 'Orange Juice, Apple Juice',\\n      'food_items': 'Pancakes'\\n    }\\n  },\\n  2: {},\\n  3: {},\\n  4: {},\\n  5: {},\\n  6: {},\\n  7: {},\\n}\\n\\ndef assign_table(table_number, name, vip_status=False): \\n  tables[table_number]['name'] = name\\n  tables[table_number]['vip_status'] = vip_status\\n  tables[table_number]['order'] = {}\\n\\ndef assign_food_items(table_number,**order_items):\\n  food = order_items.get('food')\\n  drinks = order_items.get('drinks')\\n  tables[table_number]['order']['food_items'] = food\\n  tables[table_number]['order']['drinks'] = drinks\\n\\nassign_table(2, 'Douglas', True)\\nassign_food_items(2, food= 'Seabass, Gnocchi, Pizza', drinks = 'Margarita, Water')\\ntables\", '_i1': \"def createStudent(name, age, grades=None):\\n  if grades is None:\\n    grades = []\\n  return {\\n    'name': name,\\n    'age': age,\\n    'grades': grades\\n  }\\n\\ndef addGrade(student, grade):\\n    student['grades'].append(grade)\\n    \\nchris = createStudent('chris', 18)\\nchris\", 'createStudent': <function createStudent at 0x00000207FC122480>, 'addGrade': <function addGrade at 0x00000207FC122C00>, 'chris': {'name': 'chris', 'age': 18, 'grades': [99]}, '_1': {'name': 'chris', 'age': 18, 'grades': []}, '_i2': \"def createStudent(name, age, grades=None):\\n  if grades is None:\\n    grades = []\\n  return {\\n    'name': name,\\n    'age': age,\\n    'grades': grades\\n  }\\n\\ndef addGrade(student, grade):\\n    student['grades'].append(grade)\\n    \\nchris = createStudent('chris', 18)\\nchris = addGrade('chris', 99)\\nchris\", '_i3': \"def createStudent(name, age, grades=None):\\n  if grades is None:\\n    grades = []\\n  return {\\n    'name': name,\\n    'age': age,\\n    'grades': grades\\n  }\\n\\ndef addGrade(student, grade):\\n    student['grades'].append(grade)\\n    \\nchris = createStudent('chris', 18)\\nchris = addGrade(chris, 99)\\nchris\", '_i4': \"def createStudent(name, age, grades=None):\\n  if grades is None:\\n    grades = []\\n  return {\\n    'name': name,\\n    'age': age,\\n    'grades': grades\\n  }\\n\\ndef addGrade(student, grade):\\n    student['grades'].append(grade)\\n    \\nchris = createStudent('chris', 18)\\nchris = addGrade(chris, 99)\\nchris\", '_i5': \"def createStudent(name, age, grades=None):\\n  if grades is None:\\n    grades = []\\n  return {\\n    'name': name,\\n    'age': age,\\n    'grades': grades\\n  }\\n\\ndef addGrade(student, grade):\\n    student['grades'].append(grade)\\n    \\nchris = createStudent('chris', 18)\\nchris = addGrade(chris, 99)\\nprint(chris)\", '_i6': \"def createStudent(name, age, grades=None):\\n  if grades is None:\\n    grades = []\\n  return {\\n    'name': name,\\n    'age': age,\\n    'grades': grades\\n  }\\n\\ndef addGrade(student, grade):\\n    student['grades'].append(grade)\\n    \\nchris = createStudent('chris', 18)\\naddGrade(chris, 99)\\nprint(chris)\", '_i7': \"def createStudent(name, age, grades=None):\\n  if grades is None:\\n    grades = []\\n  return {\\n    'name': name,\\n    'age': age,\\n    'grades': grades\\n  }\\n\\ndef addGrade(student, grade):\\n    student['grades'].append(grade)\\n    \\nchris = createStudent('chris', 18)\\naddGrade(chris, 99)\\n\\njoe = createStudent('joe', 18)\\naddGrade(joe, 89)\\n\\nchris\", 'joe': {'name': 'joe', 'age': 18, 'grades': [89, 94]}, '_7': {'name': 'chris', 'age': 18, 'grades': [99]}, '_i8': \"def createStudent(name, age, grades=None):\\n  if grades is None:\\n    grades = []\\n  return {\\n    'name': name,\\n    'age': age,\\n    'grades': grades\\n  }\\n\\ndef addGrade(student, grade):\\n    student['grades'].append(grade)\\n    \\nchris = createStudent('chris', 18)\\naddGrade(chris, 99)\\n\\njoe = createStudent('joe', 18)\\naddGrade(joe, 89)\\njoe\", '_8': {'name': 'joe', 'age': 18, 'grades': [89]}, '_i9': \"def createStudent(name, age, grades=None):\\n  if grades is None:\\n    grades = []\\n  return {\\n    'name': name,\\n    'age': age,\\n    'grades': grades\\n  }\\n\\ndef addGrade(student, grade):\\n    student['grades'].append(grade)\\n    \\nchris = createStudent('chris', 18)\\naddGrade(chris, 99)\\n\\njoe = createStudent('joe', 18)\\naddGrade(joe, 89)\\naddGrade(joe, 94)\\njoe\", '_9': {'name': 'joe', 'age': 18, 'grades': [89, 94]}, '_i10': \"def createStudent(name, age, grades=None):\\n  if grades is None:\\n    grades = []\\n  return {\\n    'name': name,\\n    'age': age,\\n    'grades': grades\\n  }\\n\\ndef addGrade(student, grade):\\n    student['grades'].append(grade)\\n    \\nchris = createStudent('chris', 18)\\naddGrade(chris, 99)\\n\\njoe = createStudent('joe', 18)\\naddGrade(joe, 89)\\naddGrade(joe, 94)\\njoe\\nchris\", '_10': {'name': 'chris', 'age': 18, 'grades': [99]}, '_i11': \"def args_example(*args):\\n    print(args)\\n\\nend = 'it is just the name of the variable storing all arguments as a tuple'\\n\\nargs_example('args', 'could', 'be', 'named', 'anything', end)\", 'args_example': <function args_example at 0x00000207FC029EE0>, 'end': 'it is just the name of the variable storing all arguments as a tuple', '_i12': \"tables = {\\n  1: {\\n    'name': 'Chioma',\\n    'vip_status': False,\\n    'order': {\\n      'drinks': 'Orange Juice, Apple Juice',\\n      'food_items': 'Pancakes'\\n    }\\n  },\\n  2: {},\\n  3: {},\\n  4: {},\\n  5: {},\\n  6: {},\\n  7: {},\\n}\\n\\ndef assign_food_items(**order_items):\\n  food = order_items.get('food')\\n  drinks = order_items.get('drinks')\\n  print(food)\\n  print(drinks)\\n    \\nassign_food_items(food='Pancakes, Poached Egg', drinks='Water')\", 'tables': {1: {'name': 'Chioma', 'vip_status': False, 'order': {'drinks': 'Orange Juice, Apple Juice', 'food_items': 'Pancakes'}}, 2: {'name': 'Douglas', 'vip_status': True, 'order': {'food_items': 'Seabass, Gnocchi, Pizza', 'drinks': 'Margarita, Water'}}, 3: {}, 4: {}, 5: {}, 6: {}, 7: {}}, 'assign_food_items': <function assign_food_items at 0x00000207FC122E80>, '_i13': \"tables = {\\n  1: {\\n    'name': 'Chioma',\\n    'vip_status': False,\\n    'order': {\\n      'drinks': 'Orange Juice, Apple Juice',\\n      'food_items': 'Pancakes'\\n    }\\n  },\\n  2: {},\\n  3: {},\\n  4: {},\\n  5: {},\\n  6: {},\\n  7: {},\\n}\\n\\ndef assign_food_items(table_number,**order_items):\\n  food = order_items.get('food')\\n  drinks = order_items.get('drinks')\\n  tables[table_number]['order']['food_items'] = food\\n  tables[table_number]['order']['drinks'] = drinks\\n\\n\\nassign_food_items(2, food= 'Seabass, Gnocchi, Pizza', drinks = 'Margarita, Water')\\ntables\", '_i14': \"tables = {\\n  1: {\\n    'name': 'Chioma',\\n    'vip_status': False,\\n    'order': {\\n      'drinks': 'Orange Juice, Apple Juice',\\n      'food_items': 'Pancakes'\\n    }\\n  },\\n  2: {},\\n  3: {},\\n  4: {},\\n  5: {},\\n  6: {},\\n  7: {},\\n}\\n\\ndef assign_table(table_number, name, vip_status=False): \\n  tables[table_number]['name'] = name\\n  tables[table_number]['vip_status'] = vip_status\\n  tables[table_number]['order'] = {}\\n\\ndef assign_food_items(table_number,**order_items):\\n  food = order_items.get('food')\\n  drinks = order_items.get('drinks')\\n  tables[table_number]['order']['food_items'] = food\\n  tables[table_number]['order']['drinks'] = drinks\\n\\n\\nassign_food_items(2, food= 'Seabass, Gnocchi, Pizza', drinks = 'Margarita, Water')\\ntables\", 'assign_table': <function assign_table at 0x00000207FC029E40>, '_i15': \"tables = {\\n  1: {\\n    'name': 'Chioma',\\n    'vip_status': False,\\n    'order': {\\n      'drinks': 'Orange Juice, Apple Juice',\\n      'food_items': 'Pancakes'\\n    }\\n  },\\n  2: {},\\n  3: {},\\n  4: {},\\n  5: {},\\n  6: {},\\n  7: {},\\n}\\n\\ndef assign_table(table_number, name, vip_status=False): \\n  tables[table_number]['name'] = name\\n  tables[table_number]['vip_status'] = vip_status\\n  tables[table_number]['order'] = {}\\n\\ndef assign_food_items(table_number,**order_items):\\n  food = order_items.get('food')\\n  drinks = order_items.get('drinks')\\n  tables[table_number]['order']['food_items'] = food\\n  tables[table_number]['order']['drinks'] = drinks\\n\\nassign_table(2, 'Douglas', True)\\nassign_food_items(2, food= 'Seabass, Gnocchi, Pizza', drinks = 'Margarita, Water')\\ntables\", '_15': {1: {'name': 'Chioma', 'vip_status': False, 'order': {'drinks': 'Orange Juice, Apple Juice', 'food_items': 'Pancakes'}}, 2: {'name': 'Douglas', 'vip_status': True, 'order': {'food_items': 'Seabass, Gnocchi, Pizza', 'drinks': 'Margarita, Water'}}, 3: {}, 4: {}, 5: {}, 6: {}, 7: {}}, '_i16': \"def single_prix_fixe_order(appetizer, *entrees, sides, **dessert_scoops):\\n    print(appetizer)\\n    print(entrees)\\n    print(sides)\\n    print(dessert_scoops)\\n\\n# the keywords for the kw arguments are necessary\\nsingle_prix_fixe_order('Baby Beets', 'Salmon', 'Scallops', sides='Mashed Potatoes', \\\\\\n                       ice_cream_scoop1='Vanilla', ice_cream_scoop2='Cookies and Cream' )\", 'single_prix_fixe_order': <function single_prix_fixe_order at 0x00000207FCD6A660>, '_i17': '# PREDEFINED Parameters ________________________\\nfrom math import sin, cos, atan2, sqrt\\n\\ndef get_distance(from_lat, from_long, to_lat, to_long):\\n  dlon = to_long - from_long\\n  dlat = from_lat - to_lat\\n  a = (sin(dlat/2)) ** 2 + cos(from_lat) * cos(to_lat) * (sin(dlon/2)) ** 2\\n  c = 2 * atan2(sqrt(a), sqrt(1-a))\\n  distance = a * c\\n  return distance\\n\\nSHIPPING_PRICES = {\\n  \\'Ground\\': 1,\\n  \\'Priority\\': 1.6,\\n  \\'Overnight\\': 2.3,\\n}\\n\\ndef format_price(price):\\n  return \"${0:.2f}\".format(price)\\n# ______________________________________________\\n\\n\\n# Define calculate_shipping_cost() here:\\ndef calculate_shipping_cost(from_coords, to_coords, shipping_type = \\'Overnight\\'):\\n  from_lat, from_long = from_coords\\n  to_lat, to_long = to_coords\\n  distance = get_distance(from_lat, from_long, to_lat, to_long)\\n  shipping_rate = SHIPPING_PRICES[shipping_type]\\n  price = distance * shipping_rate\\n  return format_price(price)\\n\\n# Define calculate_driver_cost() here\\ndef calculate_driver_cost(distance, *drivers):\\n  cheapest_driver = None\\n  cheapest_driver_price = None\\n  for driver in drivers:\\n    driver_time = distance / driver.speed\\n    price_for_driver = driver.salary * driver_time\\n    if cheapest_driver is None:\\n      cheapest_driver = driver\\n      cheapest_driver_price = price_for_driver\\n    elif price_for_driver < cheapest_driver_price:\\n      cheapest_driver = driver\\n      cheapest_driver_price = price_for_driver\\n  return (cheapest_driver_price, cheapest_driver)\\n\\n# Define calculate_money_made() here\\ndef calculate_money_made(**trips):\\n  total_money_made = 0\\n  for trip_id, trip in trips.items():\\n    trip_revenue = trip.cost - trip.driver.cost\\n    total_money_made += trip_revenue\\n  return total_money_made', 'sin': <built-in function sin>, 'cos': <built-in function cos>, 'atan2': <built-in function atan2>, 'sqrt': <built-in function sqrt>, 'get_distance': <function get_distance at 0x00000207FCD68EA0>, 'SHIPPING_PRICES': {'Ground': 1, 'Priority': 1.6, 'Overnight': 2.3}, 'format_price': <function format_price at 0x00000207FCD69DA0>, 'calculate_shipping_cost': <function calculate_shipping_cost at 0x00000207FCD68B80>, 'calculate_driver_cost': <function calculate_driver_cost at 0x00000207FCD6A020>, 'calculate_money_made': <function calculate_money_made at 0x00000207FCD6A520>, '_i18': \"# show the built-in namspace:\\nprint('\\\\n----------------The built-in namspace:-----------------\\\\n')\\nprint(dir(__builtins__))\\n\\nprint('\\\\n----------------The global namspace:-----------------\\\\n')\\n# show the global namespace:\\nprint(globals())\\n\\ndef divide(num1, num2):\\n  result = num1 / num2\\n  print(locals())\\n  return result\\n\\nprint(' \\\\n -- Local Namespace for divide -- \\\\n')\\ndivide(3,4)\"}\n",
      " \n",
      " -- Local Namespace for divide -- \n",
      "\n",
      "{'num1': 3, 'num2': 4, 'result': 0.75}\n"
     ]
    },
    {
     "data": {
      "text/plain": [
       "0.75"
      ]
     },
     "execution_count": 18,
     "metadata": {},
     "output_type": "execute_result"
    }
   ],
   "source": [
    "# show the built-in namspace:\n",
    "print('\\n----------------The built-in namspace:-----------------\\n')\n",
    "print(dir(__builtins__))\n",
    "\n",
    "print('\\n----------------The global namspace:-----------------\\n')\n",
    "# show the global namespace:\n",
    "print(globals())\n",
    "\n",
    "def divide(num1, num2):\n",
    "  result = num1 / num2\n",
    "  print(locals())\n",
    "  return result\n",
    "\n",
    "print(' \\n -- Local Namespace for divide -- \\n')\n",
    "divide(3,4)"
   ]
  },
  {
   "cell_type": "markdown",
   "id": "d6323201",
   "metadata": {},
   "source": [
    "## 6. Python Scopes\n",
    "\n",
    "Scope defines which namespaces our program will look into (to check names) and in what order. While multiple namespaces usually exist at once, this does not mean we can access all of them in different parts of our program! \n",
    "\n",
    "The four distinct scopes in Python:\n",
    "- **Built-In:** \n",
    "- **Global:** Names defined in the global namespace will automatically be globally scoped and can be accessed anywhere in our program. However, similar to local scope, values can only be accessed but not modified. Similar to the nonlocal statement, Python provides the **global statement** to allow the modification of global names from a local scope. In addition, the global statement can be used even if the name has not been defined in the global namespace. Using the global statement would create the new variable in the global namespace.\n",
    "- **Local:** Whenever we decide to call a function, a new local scope will be generated. Each subsequent function call will generate a new local scope. Since the local scope is the deepest level of the four scopes, names in a local scope cannot be accessed or modified by any code called in outer scopes. As a rule of thumb, any names created in a local namespace are usually also locally scoped.\n",
    "- **Enclosing:** The flow of scope access only flows upwards. This means that the deepest level has access to every enclosing namespace above it, but not the other way around. Immutable objects, such as strings or numbers, can be accessed in nested functions, but cannot be modified. **Modifying Scope Behavior: nonlocal Statement**\n",
    "\n",
    "### Scope Resolution: The LEGB Rule\n",
    "Scope resolution is a term used to describe a search procedure for a name in the various namespaces. A set of rules dictates the order that the search needs to follow.\n",
    "\n",
    "LEGB stands for **Local, Enclosing, Global, and Built-in**. These four letters represent the order of namespaces Python will check to see if a name exists."
   ]
  },
  {
   "cell_type": "code",
   "execution_count": 19,
   "id": "2136709b",
   "metadata": {},
   "outputs": [
    {
     "name": "stdout",
     "output_type": "stream",
     "text": [
      "Number of paint gallons needed: \n",
      "2.025\n"
     ]
    }
   ],
   "source": [
    "walls = [(20, 9), (25, 9), (20, 9), (25, 9)]\n",
    "\n",
    "\n",
    "def calc_paint_amount(wall_measurements):\n",
    "\n",
    "  square_feet = 0\n",
    "\n",
    "  def calc_square_feet(): # this function can see the square_feet variable but cannot modify it\n",
    "    nonlocal square_feet # the nonlocal statement brings the variable in scope\n",
    "    for width, height in wall_measurements:\n",
    "      square_feet += width * height\n",
    "\n",
    "  def calc_gallons():\n",
    "    return square_feet / 400\n",
    "\n",
    "  calc_square_feet()\n",
    "\n",
    "  return calc_gallons()\n",
    "\n",
    "\n",
    "print('Number of paint gallons needed: ')\n",
    "print(str(calc_paint_amount(walls)))"
   ]
  },
  {
   "cell_type": "markdown",
   "id": "fa13fa25",
   "metadata": {},
   "source": [
    "## 7. Lambda functions\n",
    "**simpe lambda function:**\n",
    "\n",
    "add_two = lambda my_input: my_input + 2\n",
    "\n",
    "1. The function is stored in a variable called add_two.\n",
    "2. The lambda keyword declares that this is a lambda function (similar to how we use def to declare a normal function).\n",
    "3. my_input is a parameter used to hold the value passed to add_two.\n",
    "4. In the lambda function version, we are returning my_input + 2 without the use of a return keyword (the normal Python function explicitly uses the keyword return).\n",
    "\n",
    "**conditional lambda funcion:**\n",
    "\n",
    "check_if_A_grade = lambda grade: 'Got an A!' if grade >= 90 else 'Did not get an A.'\n"
   ]
  },
  {
   "cell_type": "markdown",
   "id": "576682c7",
   "metadata": {},
   "source": [
    "## 8. Higher order functions\n",
    "\n",
    "In Python, all functions, including the ones we’ve written, are classified as **first-class objects** (sometimes also called first-class citizens or first-class functions). This means they have four important characteristics:\n",
    "\n",
    "1. First-class objects can be stored as variables.\n",
    "2. First-class objects can be passed as arguments to a function.\n",
    "3. First-class objects can be returned by a function.\n",
    "4. First-class objects can be stored in data structures (e.g., lists, dictionaries, etc.)\n",
    "\n",
    "**Higher-order functions** operate on other functions via arguments or via return values. \n",
    "This means higher-order functions do one or both of the following:\n",
    "\n",
    "1. Accept a function as an argument\n",
    "2. Have a return value that is a function\n",
    "\n",
    "### 8.1 Functions as arguments\n",
    "\n",
    "Now say we have a list of bills instead of just one, and we want to add tax or tip to each bill, depending on the type of sale it is.\n",
    "\n",
    "One way to accomplish this could be to write out separate loops: one for sales that need to have tax added and one for sales that should have a tip added.\n",
    "\n",
    "A much more powerful solution would be to use a higher-order function to apply **add_tax()** or add_tip() to each balance in our list. Lets first define a higher-order function, **total_bills()**, that takes a function and a list as arguments, applies the function to each element in the list, standardizes the format of the result and adds a friendly message, appends the output to a new list, and finally returns the updated new list:"
   ]
  },
  {
   "cell_type": "code",
   "execution_count": 20,
   "id": "91e0a0f0",
   "metadata": {},
   "outputs": [
    {
     "name": "stdout",
     "output_type": "stream",
     "text": [
      "['Total amount owed is $121.90. Thank you! :)', 'Total amount owed is $127.20. Thank you! :)', 'Total amount owed is $44.52. Thank you! :)']\n"
     ]
    }
   ],
   "source": [
    "def add_tax(total):\n",
    "  tax = total * 0.06\n",
    "  new_total = total + tax\n",
    "  return new_total\n",
    "\n",
    "def total_bills(func, list):\n",
    "  # This list will store all the new bill values\n",
    "  new_bills = []\n",
    "  # This loop will iterate through our bills\n",
    "  for i in range(len(list)):\n",
    "    # Here we apply the function to each element of the list!\n",
    "    total = func(list[i])\n",
    "    new_bills.append(\"Total amount owed is $\" + \"{:.2f}\".format(total) + \". Thank you! :)\")\n",
    "  return new_bills\n",
    "\n",
    "bills = [115, 120, 42]\n",
    "\n",
    "bills_w_tax = total_bills(add_tax, bills)\n",
    "print(bills_w_tax)"
   ]
  },
  {
   "cell_type": "markdown",
   "id": "7dd6d1f0",
   "metadata": {},
   "source": [
    "### 8.2 Functions as Return Values"
   ]
  },
  {
   "cell_type": "code",
   "execution_count": 27,
   "id": "3083ba42",
   "metadata": {},
   "outputs": [
    {
     "name": "stdout",
     "output_type": "stream",
     "text": [
      "3\n"
     ]
    }
   ],
   "source": [
    "# Let's create a function which will return different functions based on the parameter we give it\n",
    "\n",
    "def get_math_function(operator): # expects '+' or '-'\n",
    "    def add(n1, n2):\n",
    "        return n1+n2\n",
    "    def sub(n1, n2):\n",
    "        return n1-n2\n",
    "    \n",
    "    if operator == '+':\n",
    "        return add\n",
    "    elif operator == '-':\n",
    "        return sub\n",
    "    \n",
    "add_function = get_math_function('+')\n",
    "sub_function = get_math_function('-')\n",
    "\n",
    "print(add_function(1,2))\n"
   ]
  },
  {
   "cell_type": "markdown",
   "id": "3960e495",
   "metadata": {},
   "source": [
    "### 8.3 Built-In Higher-Order Functions\n",
    "\n",
    "#### 1. map()\n",
    "**returned_map_object = map(function, iterable)** - usually we convert the map object to a list\n",
    "\n",
    "Higher-order functions like map() work especially well with lambda functions. Because lambda functions are anonymous, we don’t need to define a new named function for map() if that function won’t be used again elsewhere."
   ]
  },
  {
   "cell_type": "code",
   "execution_count": 23,
   "id": "0cbc5077",
   "metadata": {
    "scrolled": true
   },
   "outputs": [
    {
     "name": "stdout",
     "output_type": "stream",
     "text": [
      "<map object at 0x00000207FC20FEE0>\n",
      "[6, 12, 18]\n",
      "<map object at 0x00000207FC20F7C0>\n",
      "[6, 12, 18]\n"
     ]
    }
   ],
   "source": [
    "def double(x):\n",
    " return x*2\n",
    " \n",
    "int_list = [3, 6, 9]\n",
    " \n",
    "doubled = map(double, int_list)\n",
    " \n",
    "print(doubled)\n",
    "print(list(doubled))\n",
    "\n",
    "# refactor double() as a lambda function:\n",
    "doubled_lambda = map(lambda x: x*2, int_list)\n",
    "print(doubled_lambda)\n",
    "print(list(doubled_lambda))"
   ]
  },
  {
   "cell_type": "code",
   "execution_count": 24,
   "id": "9e7a27d3",
   "metadata": {},
   "outputs": [
    {
     "name": "stdout",
     "output_type": "stream",
     "text": [
      "[87.5, 92.5, 65.0, 95, 87]\n"
     ]
    }
   ],
   "source": [
    "'''Say we stored our course grades in a list, but \n",
    "some of the grades were on a four-point scale (where students score between 0.0 and 4.0) \n",
    "and others were on a 100-point scale (where students score between a 0 and 100).\n",
    "\n",
    "To get all the grades on the same scale, \n",
    "try using a lambda function inside of the map() function. \n",
    "Multiply the grades on the four-point scale by 25 to convert the grades to a 100-point-scale.'''\n",
    "\n",
    "grade_list = [3.5, 3.7, 2.6, 95, 87]\n",
    "\n",
    "mapping = map(lambda grade: grade*25 if grade <=4 else grade, grade_list)\n",
    "updated_grade_list = list(mapping)\n",
    "\n",
    "# print updated_grade_list\n",
    "print(updated_grade_list)"
   ]
  },
  {
   "cell_type": "markdown",
   "id": "1c7417fe",
   "metadata": {},
   "source": [
    "#### 2. filter()\n",
    "Similar to map(), the filter() function takes a function and an iterable as arguments. Just as the name suggests, the goal of the filter() function is to “filter” values out of an iterable.\n",
    "\n",
    "The filter() function accomplishes this goal by applying a passed filtering function to each element in the passed iterable. The filtering function should be a function that returns a boolean value: True or False. \n",
    "\n",
    "The returned filter object will hold only those elements of the passed iterable for which the filtering function returned True."
   ]
  },
  {
   "cell_type": "code",
   "execution_count": null,
   "id": "4cf64ed2",
   "metadata": {},
   "outputs": [],
   "source": [
    "# Use the filter() function to keep only the names starting with m or M:\n",
    "names = [\"margarita\", \"Linda\", \"Masako\", \"Maki\", \"Angela\"]\n",
    " \n",
    "M_names = filter(lambda name: name[0] == \"M\" or name[0] == \"m\", names) \n",
    " \n",
    "#print(list(M_names))\n",
    "\n",
    "# Use the filter() function to deduplicate the list and keep only the sublists that have the book title stored as a string:\n",
    "books = [[\"Burgess\", 1985],\n",
    " [\"Orwell\", \"Nineteen Eighty-four\"],\n",
    "  [\"Murakami\", \"1Q85\"],\n",
    "   [\"Orwell\", 1984],\n",
    "    [\"Burgess\", \"Nineteen Eighty-five\"],\n",
    "     [\"Murakami\", 1985]]\n",
    "\n",
    "# assign the result of your filter function to the variable  string_titles\n",
    "string_titles = filter(lambda book: type(book[1]) == str, books)\n",
    "\n",
    "# convert your filter object to a list stored in the variable string_titles_list\n",
    "string_title_list = list(string_titles)\n",
    "\n",
    "# print the list string_titles_list\n",
    "print(string_title_list)"
   ]
  },
  {
   "cell_type": "markdown",
   "id": "0198fdf5",
   "metadata": {},
   "source": [
    "#### 3. reduce()\n",
    "\n",
    "1. In contrast to the map() and filter() functions that are always available, the reduce() function must be imported from the functools module to use it.\n",
    "2. Rather than returning a reduce object as might be expected after learning about map() and filter(), reduce() returns a single value. To get to this single value, reduce() cumulatively applies a passed function to each sequential pair of elements in an iterable."
   ]
  },
  {
   "cell_type": "code",
   "execution_count": 25,
   "id": "cb67b9e7",
   "metadata": {},
   "outputs": [
    {
     "name": "stdout",
     "output_type": "stream",
     "text": [
      "1944\n"
     ]
    }
   ],
   "source": [
    "from functools import reduce\n",
    " \n",
    "int_list = [3, 6, 9, 12]\n",
    " \n",
    "reduced_int_list = reduce(lambda x,y: x*y, int_list)\n",
    " \n",
    "print(reduced_int_list)"
   ]
  },
  {
   "cell_type": "markdown",
   "id": "c93e0395",
   "metadata": {},
   "source": [
    "In this example:\n",
    "\n",
    "1. The reduce() function takes 2 arguments: a lambda function and a list of integers.\n",
    "2. The lambda function takes 2 numbers, x and y and multiplies them together.\n",
    "3. The reduce() function applies the lambda function to the first two elements in the list, 3 and 6, to get a product of 18.\n",
    "4. Next, 18 was multiplied by the following element in the list, 9, to get 162.\n",
    "5. Continuing on, 162 was multiplied by the next element, 12, to get 1944.\n",
    "6. This last, final value—1944—is what was returned by reduce().\n",
    "\n",
    "**This process was essentially the same as multiplying 3 * 6 * 9 * 12.**"
   ]
  },
  {
   "cell_type": "code",
   "execution_count": 26,
   "id": "c1e92378",
   "metadata": {},
   "outputs": [
    {
     "name": "stdout",
     "output_type": "stream",
     "text": [
      "reduce\n"
     ]
    }
   ],
   "source": [
    "# Given a list of letters, \n",
    "# use the reduce() higher-order function with a lambda function to combine the letters into a single word:\n",
    "\n",
    "letters = ['r', 'e', 'd', 'u', 'c', 'e']\n",
    "\n",
    "# remember to import the reduce function\n",
    "from functools import reduce\n",
    "\n",
    "# store the result of your reduce function in the variable word\n",
    "word = reduce(lambda letter1, letter2: letter1 + letter2, letters)\n",
    "\n",
    "# print word\n",
    "print(word)"
   ]
  },
  {
   "cell_type": "markdown",
   "id": "1a9e6df6",
   "metadata": {},
   "source": [
    "### 9. Decorators\n",
    "\n",
    "A decorator takes an existing function and adds some functionality to it, then wraps it and returns a function which can be called to execute both functions at once:\n"
   ]
  },
  {
   "cell_type": "code",
   "execution_count": 31,
   "id": "1a6cdecb",
   "metadata": {},
   "outputs": [
    {
     "name": "stdout",
     "output_type": "stream",
     "text": [
      "Professor\n",
      "RP\n"
     ]
    }
   ],
   "source": [
    "# original function\n",
    "def print_my_name():\n",
    "    print('RP')\n",
    "    \n",
    "# the decorator\n",
    "def title_decorator(print_name_function): # the argument of the decorator function is any function\n",
    "    def wrapper():              # define the wrapper, which will be returned \n",
    "        print('Professor')      # execute the decoration\n",
    "        print_name_function()   # invoke the original function -> it needs the () to invoke it\n",
    "    return wrapper              #return the whole package as a new function\n",
    "\n",
    "# assign the decorated function to a variable:\n",
    "decorated_function = title_decorator(print_my_name) \n",
    "\n",
    "decorated_function()\n"
   ]
  },
  {
   "cell_type": "markdown",
   "id": "1193fd05",
   "metadata": {},
   "source": [
    "We can get rid of the whole assignment part by using the code below.\n",
    "Additionally to pass any arguments he original function might need we have to add some syntax (*args, ** kwargs)"
   ]
  },
  {
   "cell_type": "code",
   "execution_count": 33,
   "id": "5f040086",
   "metadata": {},
   "outputs": [
    {
     "name": "stdout",
     "output_type": "stream",
     "text": [
      "Professor\n",
      "bogyó\n"
     ]
    }
   ],
   "source": [
    "def title_decorator(print_name_function): # the argument of the decorator function is any function\n",
    "    def wrapper(*args, **kwargs):              # define the wrapper, which will be returned \n",
    "        print('Professor')                     # execute the decoration\n",
    "        print_name_function(*args, **kwargs)   # invoke the original function -> it needs the () to invoke it\n",
    "    return wrapper                             #return the whole package as a new function\n",
    "\n",
    "@title_decorator\n",
    "def print_name(name):\n",
    "    print(name)\n",
    "    \n",
    "print_name('bogyó')\n"
   ]
  },
  {
   "cell_type": "markdown",
   "id": "2eb9440f",
   "metadata": {},
   "source": [
    "# Object Oriented Programming\n",
    "\n",
    "The four core pillars of OOP:\n",
    "1. Inheritance\n",
    "2. Polymorphism\n",
    "3. Abstraction\n",
    "4. Encapsulation"
   ]
  },
  {
   "cell_type": "markdown",
   "id": "bf02798b",
   "metadata": {},
   "source": [
    "## 1. Inheritance\n",
    "  \n",
    "Let's say we have a Cat class and a Dog class. These two classes define two distinct animals with their own methods of communication. Now, what if we wanted to give both of these classes the ability to eat by calling a method called eat(). We could write the method twice in both classes but then we would be repeating code! We also may need to write it inside every specific animal class we ever create. Instead, we can utilize the power of inheritance.\n",
    "\n",
    "Since both Cat and Dog fall under the classification of Animal we can create a parent class to represent properties and methods they can both share!"
   ]
  },
  {
   "cell_type": "code",
   "execution_count": 1,
   "id": "0dce677f",
   "metadata": {},
   "outputs": [
    {
     "name": "stdout",
     "output_type": "stream",
     "text": [
      "My id is 3.\n"
     ]
    }
   ],
   "source": [
    "class Employee():\n",
    "  new_id = 1\n",
    "  def __init__(self):\n",
    "    self.id = Employee.new_id\n",
    "    Employee.new_id += 1\n",
    "\n",
    "  def say_id(self):\n",
    "    print(\"My id is {}.\".format(self.id))\n",
    "    \n",
    "# class Admin will inherit from calss Employee.\n",
    "# without defining the id within the Admin class instantiation uses it.\n",
    "\n",
    "class Admin(Employee): # in brackets we indicate the parent class\n",
    "  pass\n",
    "\n",
    "e1 = Employee()\n",
    "e2 = Employee()\n",
    "e3 = Admin()\n",
    "\n",
    "e3.say_id()"
   ]
  },
  {
   "cell_type": "code",
   "execution_count": null,
   "id": "e874c136",
   "metadata": {},
   "outputs": [],
   "source": [
    "# you can overwrite parent class methods by defining them again within the child class differently with the same name:\n",
    "class Employee():\n",
    "  new_id = 1\n",
    "  def __init__(self):\n",
    "    self.id = Employee.new_id\n",
    "    Employee.new_id += 1\n",
    "\n",
    "  def say_id(self):\n",
    "    print(\"My id is {}.\".format(self.id))\n",
    "\n",
    "class Admin(Employee):\n",
    "  # Write your code below\n",
    "  def say_id(self):\n",
    "    print(\"I am an Admin.\")         # say_id() will return something else for the Admin than for the Employee\n",
    "\n",
    "e1 = Employee()\n",
    "e2 = Employee()\n",
    "e3 = Admin()\n",
    "e3.say_id()"
   ]
  },
  {
   "cell_type": "code",
   "execution_count": 2,
   "id": "1bede2a3",
   "metadata": {},
   "outputs": [
    {
     "name": "stdout",
     "output_type": "stream",
     "text": [
      "My id is 3.\n",
      "I am an admin.\n"
     ]
    }
   ],
   "source": [
    "# to not completely overwrite the parent class method but to use or modify it in the child class\n",
    "# you can use the super() function:\n",
    "\n",
    "class Employee():\n",
    "  new_id = 1\n",
    "  def __init__(self):\n",
    "    self.id = Employee.new_id\n",
    "    Employee.new_id += 1\n",
    "\n",
    "  def say_id(self):\n",
    "    print(\"My id is {}.\".format(self.id))\n",
    "\n",
    "class Admin(Employee):\n",
    "  def say_id(self):\n",
    "    # we defined a new behaviour but we will still use the parent's behaviour too:\n",
    "    super().say_id()\n",
    "    print(\"I am an admin.\")\n",
    "\n",
    "e1 = Employee()\n",
    "e2 = Employee()\n",
    "e3 = Admin()\n",
    "e3.say_id()\n",
    "\n"
   ]
  },
  {
   "cell_type": "markdown",
   "id": "58d8a71a",
   "metadata": {},
   "source": [
    "### Multiple Inheritance\n",
    "Let’s now look at a feature allowed by Python called multiple inheritance. As you may have guessed from the name, this is when a subclass inherits from more than one superclass"
   ]
  },
  {
   "cell_type": "code",
   "execution_count": null,
   "id": "196fef61",
   "metadata": {},
   "outputs": [],
   "source": [
    "class Employee():\n",
    "  new_id = 1\n",
    "  def __init__(self):\n",
    "    self.id = Employee.new_id\n",
    "    Employee.new_id += 1\n",
    "\n",
    "  def say_id(self):\n",
    "    print(\"My id is {}.\".format(self.id))\n",
    "\n",
    "class Admin(Employee):\n",
    "  def say_id(self):\n",
    "    super().say_id()\n",
    "    print(\"I am an admin.\")\n",
    "\n",
    "# Write your code below\n",
    "class Manager(Admin):\n",
    "  def say_id(self):\n",
    "    super().say_id()\n",
    "    print('I am in charge')\n",
    "\n",
    "\n",
    "e1 = Employee()\n",
    "e2 = Employee()\n",
    "e3 = Admin()\n",
    "e4 = Manager()\n",
    "e4.say_id()"
   ]
  },
  {
   "cell_type": "markdown",
   "id": "ce7bba70",
   "metadata": {},
   "source": [
    "**Another form of multiple inhertance involves a subclass that inherits directly from two classes and can use the attributes and methods of both.**\n",
    "\n",
    "Admins in the company need access to the consumer-facing website. \n",
    "This means that admins must also be users of the site.\n",
    "\n",
    "The **class User** has been added and has the attributes **username and role and the .say_user_info() method.**\n",
    "\n",
    "To get the admins the user access they need:\n",
    "Have the Admin class inherit from the User class alongside the Employee class. \n",
    "Be sure to have the Employee class listed first in the Admin class definition.\n",
    "\n",
    "Now let’s make sure the admins get their user data set up.\n",
    "\n",
    "Inside the .__init__() method of the Admin class:\n",
    "\n",
    "Call the .__init__() method of the User class\n",
    "Pass the Admin class instance, id and the string \"Admin\" as arguments to the .__init__() method call\n",
    "\n",
    "Confirm the user data is set up correctly.\n",
    "Call the .say_user_info() method using the Admin instance in e3"
   ]
  },
  {
   "cell_type": "code",
   "execution_count": 3,
   "id": "d1540041",
   "metadata": {},
   "outputs": [
    {
     "name": "stdout",
     "output_type": "stream",
     "text": [
      "My username is 3\n",
      "My role is Admin\n"
     ]
    }
   ],
   "source": [
    "class Employee():\n",
    "  new_id = 1\n",
    "  def __init__(self):\n",
    "    self.id = Employee.new_id\n",
    "    Employee.new_id += 1\n",
    "\n",
    "  def say_id(self):\n",
    "    print(\"My id is {}.\".format(self.id))\n",
    "\n",
    "class User:\n",
    "  def __init__(self, username, role=\"Customer\"):\n",
    "    self.username = username\n",
    "    self.role = role\n",
    "\n",
    "  def say_user_info(self):\n",
    "    print(\"My username is {}\".format(self.username))\n",
    "    print(\"My role is {}\".format(self.role))\n",
    "\n",
    "# Write your code below\n",
    "class Admin(Employee, User):\n",
    "  def __init__(self):\n",
    "    super().__init__()\n",
    "    User.__init__(self, self.id, \"Admin\")\n",
    "\n",
    "  def say_id(self):\n",
    "    super().say_id()\n",
    "    print(\"I am an admin.\")\n",
    "\n",
    "e1 = Employee()\n",
    "e2 = Employee()\n",
    "e3 = Admin()\n",
    "e3.say_user_info()"
   ]
  },
  {
   "cell_type": "markdown",
   "id": "866f81e7",
   "metadata": {},
   "source": [
    "## 2. Polymorphism\n",
    "In computer programming, polymorphism is the ability to apply an identical operation onto different types of objects. This can be useful when an object type may not be known at the program runtime. Polymorphism can be applied using Python in multiple ways. \n",
    "\n",
    "The identical method name with different behaviors is a form of polymorphism:"
   ]
  },
  {
   "cell_type": "code",
   "execution_count": null,
   "id": "a89d944b",
   "metadata": {},
   "outputs": [],
   "source": [
    "class Employee():\n",
    "  new_id = 1\n",
    "  def __init__(self):\n",
    "    self.id = Employee.new_id\n",
    "    Employee.new_id += 1\n",
    "\n",
    "  def say_id(self):\n",
    "    print(\"My id is {}.\".format(self.id))\n",
    "\n",
    "class Admin(Employee):\n",
    "  def say_id(self):\n",
    "    super().say_id()\n",
    "    print(\"I am an admin.\")\n",
    "\n",
    "class Manager(Admin):\n",
    "  def say_id(self):\n",
    "    super().say_id()\n",
    "    print(\"I am in charge!\")\n",
    "\n",
    "# Write your code below\n",
    "e1 = Employee()\n",
    "a1 = Admin()\n",
    "m1 = Manager()\n",
    "\n",
    "meeting = [e1, a1, m1]\n",
    "for employee in meeting:\n",
    "  employee.say_id()"
   ]
  },
  {
   "cell_type": "markdown",
   "id": "9b1814cb",
   "metadata": {},
   "source": [
    "#### Dunder Methods\n",
    "\n",
    "When working with different object types like, int, str or list, the **+** operator performs different functions. This is known as **operator overloading** and is another form of polymorphism.\n",
    "\n",
    "Every defined class in Python has access to a group of these special methods: \n",
    "- constructor **\\__init\\__()** and \n",
    "- string representation method **\\__repr\\__()**\n",
    "- **\\__add\\__()** defines the **+** operator behavior when used on objects of a class\n",
    "- **\\__len\\__()** overloads the original len() function behaviour:"
   ]
  },
  {
   "cell_type": "code",
   "execution_count": 4,
   "id": "828e8153",
   "metadata": {},
   "outputs": [
    {
     "name": "stdout",
     "output_type": "stream",
     "text": [
      "ID 1 added.\n",
      "ID 2 added.\n",
      "ID 3 added.\n",
      "3\n"
     ]
    }
   ],
   "source": [
    "class Employee():\n",
    "  new_id = 1\n",
    "  def __init__(self):\n",
    "    self.id = Employee.new_id\n",
    "    Employee.new_id += 1\n",
    "\n",
    "class Meeting:\n",
    "  def __init__(self):\n",
    "    self.attendees = []\n",
    "  \n",
    "  # overload the + operator\n",
    "  def __add__(self, employee):\n",
    "    print(\"ID {} added.\".format(employee.id))\n",
    "    self.attendees.append(employee)\n",
    "\n",
    "  # overload the len() function\n",
    "  def __len__(self):\n",
    "    return len(self.attendees)\n",
    "\n",
    "e1 = Employee()\n",
    "e2 = Employee()\n",
    "e3 = Employee()\n",
    "m1 = Meeting()\n",
    "\n",
    "m1+e1\n",
    "m1+e2\n",
    "m1+e3\n",
    "print(len(m1))"
   ]
  },
  {
   "cell_type": "markdown",
   "id": "f5583ba0",
   "metadata": {},
   "source": [
    "## 3. Abstraction\n",
    "Abstraction helps with the design of code by defining necessary behaviors to be implemented within a class structure. By doing so, abstraction also helps avoid leaving out or overlapping class functionality as class hierarchies get larger.\n"
   ]
  },
  {
   "cell_type": "code",
   "execution_count": null,
   "id": "2a8a5338",
   "metadata": {},
   "outputs": [],
   "source": [
    "from abc import ABC, abstractmethod\n",
    "\n",
    "class Animal(ABC):\n",
    "  def __init__(self, name):\n",
    "    self.name = name\n",
    "\n",
    "  @abstractmethod\n",
    "  def make_noise(self):\n",
    "    pass\n",
    "\n",
    "class Cat(Animal):\n",
    "  def make_noise(self):\n",
    "    print(\"{} says, Meow!\".format(self.name))\n",
    "\n",
    "class Dog(Animal):\n",
    "  def make_noise(self):\n",
    "    print(\"{} says, Woof!\".format(self.name))\n",
    "\n",
    "kitty = Cat(\"Maisy\")\n",
    "doggy = Dog(\"Amber\")\n",
    "kitty.make_noise() # \"Maisy says, Meow!\"\n",
    "doggy.make_noise() # \"Amber says, Woof!\""
   ]
  },
  {
   "cell_type": "markdown",
   "id": "04544b06",
   "metadata": {},
   "source": [
    "Above we have Cat and Dog classes that inherit from Animal. The Animal class now inherits from an imported class **ABC (Abstract Base Class).**\n",
    "\n",
    "This is the first step to making Animal an abstract class that cannot be instantiated. The second step is using the imported decorator **@abstractmethod** on the empty method .make_noise().\n",
    "\n",
    "\n",
    "The abstraction process defines what an Animal is but does not allow the creation of one. The .\\__init\\__() method still requires a name, since we feel all animals deserve a name.\n",
    "\n",
    "The .make_noise() method exists since all animals make some form of noise, but the method is not implemented since each animal makes a different noise. Each subclass of Animal is now required to define their own .make_noise() method or an error will occur.\n",
    "\n",
    "These are some of the ways abstraction supports the design of an organized class structure."
   ]
  },
  {
   "cell_type": "markdown",
   "id": "38526c72",
   "metadata": {},
   "source": [
    "## 4. Encapsulation\n",
    "\n",
    "Encapsulation is the process of making methods and data hidden inside the object they relate to. Languages accomplish this with what are called access modifiers like:\n",
    "\n",
    "- Public\n",
    "- Protected\n",
    "- Private\n",
    "\n",
    "In general, public members can be accessed from anywhere, protected members can only be accessed from code within the same module and private members can only be accessed from code within the class that these members are defined.\n",
    "\n",
    "Python doesn’t have any inbuilt mechanism to prevent access from any member (i.e. all members are public in Python). However, there is a common convention amongst developers to use a single underscore self._x to indicate that a member is protected. Accessing a protected member outside of the module will not cause an error, it is added by developers to inform other developers that they should be careful when accessing this member in such a manner.\n",
    "\n",
    "Similarly, we can declare a member as private with two leading underscores self.\\__x. This is more than just a convention in Python because of a mechanism called name mangling. Members that are preceded with two underscores have their names modified in the background to obj._Classname__x. While they can still be publicly accessed, the purpose of this mechanism is to prevent clashing member names of any inheriting classes that might define a member of the same name.\n",
    "\n",
    "Note that this is different from the dunder methods we discussed earlier. A dunder method has two leading and two trailing underscores and is treated differently than a private member. One important difference is that dunder method names are not mangled.\n",
    "\n",
    "#### Getters, Setters and Deleters\n",
    "Using getter, setter, and deleter functions are one way to implement encapsulation within Python where the state of class attributes can be handled within the class. These functions are useful in making sure that the data being handled is appropriate for the defined class functionality."
   ]
  },
  {
   "cell_type": "code",
   "execution_count": null,
   "id": "1bbe4af1",
   "metadata": {},
   "outputs": [],
   "source": [
    "class Animal:\n",
    "  def __init__(self, name):\n",
    "    self._name = name\n",
    "    self._age = None\n",
    "\n",
    "  def get_age(self):\n",
    "    return self._age\n",
    "\n",
    "  def set_age(self, new_age):\n",
    "    if isinstance(new_age, int):\n",
    "      self._age = new_age\n",
    "    else:\n",
    "      raise TypeError\n",
    "\n",
    "  def delete_age(self):\n",
    "    print(\"_age Deleted\")\n",
    "    del self._age\n"
   ]
  },
  {
   "cell_type": "markdown",
   "id": "60d826eb",
   "metadata": {},
   "source": [
    "Looking at the Animal class above there is an _age attribute with a single underscore. This notates it is intended to be used only within the module. There are then 3 methods related to age each with a different purpose. These define the getter, setter, and deleter of the specific property.\n",
    "\n",
    "The first method related to age is a getter and returns self._age. The setter is implemented below that. It includes logic that ensures that the value passed to new_age is an integer. If so, self._age = new_age. If not, raise an error. This is useful and shows the power of using these functions for encapsulation.\n",
    "\n",
    "The deleter is implemented below the setter. It outputs a confirmation message and uses the del keyword to delete the self._age attribute."
   ]
  },
  {
   "cell_type": "markdown",
   "id": "1af14961",
   "metadata": {},
   "source": [
    "## The @property Decorator\n",
    "Let’s start by looking at an example class called Box with one attribute called weight. In this case, weight will be a private attribute with a getter and a setter (getWeight() and setWeight())."
   ]
  },
  {
   "cell_type": "code",
   "execution_count": null,
   "id": "d8a6ff44",
   "metadata": {},
   "outputs": [],
   "source": [
    "class Box:\n",
    "  def __init__(self, weight):\n",
    "    self.__weight = weight\n",
    "\n",
    "  def getWeight(self):\n",
    "    return self.__weight\n",
    " \n",
    "  def setWeight(self, weight):\n",
    "    if weight >= 0:\n",
    "      self.__weight = weight"
   ]
  },
  {
   "cell_type": "markdown",
   "id": "89a6f34c",
   "metadata": {},
   "source": [
    "Notice two things:\n",
    "\n",
    "- We want to follow best practices by denoting weight as a private attribute using __ (dunder) notation. This, however, does not make an attribute private, and we can still manipulate it directly.\n",
    "\n",
    "- We are also posing some restrictions on our setter so that the weight of an instance of the Box class can only be set to values greater than zero. We can see this if we try to manipulate an instance:\n",
    "\n",
    "The Python built-in **property() function** accepts four optional arguments: fget, fset, fdel, and doc. The first three represent getter, setter, and deleter methods, respectively, and the last one is a docstring for the attribute.\n",
    "\n",
    "Let’s take a look at the advantages by refactoring our Box class:"
   ]
  },
  {
   "cell_type": "code",
   "execution_count": null,
   "id": "6ec03117",
   "metadata": {},
   "outputs": [],
   "source": [
    "class Box:\n",
    "  def __init__(self, weight):\n",
    "    self.__weight = weight\n",
    "\n",
    "  def getWeight(self):\n",
    "    return self.__weight\n",
    " \n",
    "  def setWeight(self, weight):\n",
    "    if weight >= 0:\n",
    "      self.__weight = weight\n",
    "\n",
    "  def delWeight(self):\n",
    "    del self.__weight\n",
    "\n",
    "  weight = property(getWeight, setWeight, delWeight, \"Docstring for the 'weight' property\")\n",
    "\n",
    "#This will immediately allow us to use the following syntax for our class:\n",
    "\n",
    "box = Box(10)\n",
    "\n",
    "print(box.weight)  #this calls .getWeight()\n",
    "\n",
    "box.weight = 5     #this called .setWeight()\n",
    "\n",
    "del box.weight     #this calls .delWeight()\n",
    "\n",
    "box.weight = -5    #box.__weight is unchanged "
   ]
  },
  {
   "cell_type": "markdown",
   "id": "d070c8a0",
   "metadata": {},
   "source": [
    "The most pythonic way to define getters, setters, and deleters is by using the **@property decorator**. This decorator is syntactic sugar for using the property() function and helps our code look much cleaner. Let’s take a look:"
   ]
  },
  {
   "cell_type": "code",
   "execution_count": null,
   "id": "1a97ff46",
   "metadata": {},
   "outputs": [],
   "source": [
    "class Box:\n",
    " def __init__(self, weight):\n",
    "   self.__weight = weight\n",
    "\n",
    " @property\n",
    " def weight(self):\n",
    "   \"\"\"Docstring for the 'weight' property\"\"\"\n",
    "   return self.__weight\n",
    "\n",
    "\n",
    " @weight.setter\n",
    " def weight(self, weight):\n",
    "   if weight >= 0:\n",
    "     self.__weight = weight\n",
    "\n",
    " @weight.deleter\n",
    " def weight(self):\n",
    "   del self.__weight\n"
   ]
  },
  {
   "cell_type": "markdown",
   "id": "5337719b",
   "metadata": {},
   "source": [
    "Let’s break this down:\n",
    "\n",
    "- First, we have renamed all of our methods to simply be weight().\n",
    "- Then we denoted our getter with a @property. This marks the property to be used as a prefix for decorating the setter and deleter methods.\n",
    "- Lastly, we use @weight.setter and @weight.deleter to define our setter and deleter methods, respectively.\n",
    "\n",
    "**When using the decorator, remember three rules:**\n",
    "\n",
    "- All three methods must use the same member name (ex. weight).\n",
    "- The first method must be the getter and is identified using @property.\n",
    "- The decorators for the setter and deleter are defined by the name of the method @property is used with."
   ]
  },
  {
   "cell_type": "code",
   "execution_count": null,
   "id": "c8f42091",
   "metadata": {},
   "outputs": [],
   "source": []
  }
 ],
 "metadata": {
  "kernelspec": {
   "display_name": "Python 3 (ipykernel)",
   "language": "python",
   "name": "python3"
  },
  "language_info": {
   "codemirror_mode": {
    "name": "ipython",
    "version": 3
   },
   "file_extension": ".py",
   "mimetype": "text/x-python",
   "name": "python",
   "nbconvert_exporter": "python",
   "pygments_lexer": "ipython3",
   "version": "3.11.5"
  }
 },
 "nbformat": 4,
 "nbformat_minor": 5
}

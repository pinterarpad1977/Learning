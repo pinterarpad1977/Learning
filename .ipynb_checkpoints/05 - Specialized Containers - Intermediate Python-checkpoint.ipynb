{
 "cells": [
  {
   "cell_type": "markdown",
   "id": "469695ec",
   "metadata": {},
   "source": [
    "### Introduction to Specialized Containers\n",
    "\n",
    "The classes from the `collections` module are very similar to the built-in containers we’ve been already using, but they contain new methods and utilities. Each of these specialized containers focuses on a certain improvement to its built-in counterpart such as optimizing performance, better organization, fewer steps for performing tasks, and more!\n",
    "\n",
    "In order to use classes from the collections module, we will first need to import the module into our code."
   ]
  },
  {
   "cell_type": "markdown",
   "id": "0df3b848",
   "metadata": {},
   "source": [
    "### Deque\n",
    "In Python, lists are one of the most common containers we use to work with data. Unfortunately, there are certain situations where they perform poorly.\n",
    "\n",
    "Let’s imagine a situation where we are processing a large document containing bug reports for an application. In order to prioritize the most important bugs, we want any normal bug reports to be appended to the end of the list and higher priority bugs to be at the front of the list (kind of like a priority list). As we fix the bugs, they can be removed from the front of the list.\n",
    "\n",
    "The program below is an example of what our implementation might look like using lists. Take some time to understand what the code is doing.\n",
    "```\n",
    "bug_data = []\n",
    "\n",
    "loaded_bug_reports = get_all_bug_reports()\n",
    "\n",
    "for bug in loaded_bug_reports:\n",
    "    if bug['priority'] == 'high':\n",
    "        # A list uses the insert method to append to the front\n",
    "        bug_data.insert(0, bug)\n",
    "    else:\n",
    "        bug_data.append(bug)\n",
    "\n",
    "next_bug_to_fix = bug_data.pop(0)\n",
    "```\n",
    "The problem with this implementation is that lists are not optimized for appending and popping large amounts of data, although they are great at accessing data at any index which you provide.\n",
    "\n",
    "To solve this problem, we can use deque containers. These are similar to lists, but they are optimized for appending and popping to the front and back, rather than having optimized accessing. Because of this, they are great for working with data where you don’t need to access elements in the middle very often or at all.\n",
    "\n",
    "Let’s observe our same program but implemented with a deque:\n",
    "```\n",
    "from collections import deque\n",
    "\n",
    "bug_data = deque()\n",
    "\n",
    "loaded_bug_reports = get_all_bug_reports()\n",
    "\n",
    "for bug in loaded_bug_reports:\n",
    "    if bug['priority'] == 'high':\n",
    "        # With a deque, we can append to the front directly\n",
    "        bug_data.appendleft(bug)\n",
    "    else:\n",
    "        bug_data.append(bug)\n",
    "\n",
    "# With a deque, we can pop from the front directly\n",
    "next_bug_to_fix = bug_data.popleft()\n",
    "```"
   ]
  },
  {
   "cell_type": "code",
   "execution_count": null,
   "id": "c7f09365",
   "metadata": {},
   "outputs": [],
   "source": []
  },
  {
   "cell_type": "code",
   "execution_count": null,
   "id": "81d41ef6",
   "metadata": {},
   "outputs": [],
   "source": []
  },
  {
   "cell_type": "code",
   "execution_count": null,
   "id": "37a96127",
   "metadata": {},
   "outputs": [],
   "source": []
  },
  {
   "cell_type": "code",
   "execution_count": null,
   "id": "2046e724",
   "metadata": {},
   "outputs": [],
   "source": []
  },
  {
   "cell_type": "code",
   "execution_count": null,
   "id": "689703c5",
   "metadata": {},
   "outputs": [],
   "source": []
  },
  {
   "cell_type": "code",
   "execution_count": null,
   "id": "270ee73a",
   "metadata": {},
   "outputs": [],
   "source": []
  },
  {
   "cell_type": "code",
   "execution_count": null,
   "id": "a13dd387",
   "metadata": {},
   "outputs": [],
   "source": []
  }
 ],
 "metadata": {
  "kernelspec": {
   "display_name": "Python 3 (ipykernel)",
   "language": "python",
   "name": "python3"
  },
  "language_info": {
   "codemirror_mode": {
    "name": "ipython",
    "version": 3
   },
   "file_extension": ".py",
   "mimetype": "text/x-python",
   "name": "python",
   "nbconvert_exporter": "python",
   "pygments_lexer": "ipython3",
   "version": "3.11.5"
  }
 },
 "nbformat": 4,
 "nbformat_minor": 5
}

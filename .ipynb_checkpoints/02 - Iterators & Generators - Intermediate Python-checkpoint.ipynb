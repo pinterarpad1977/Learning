{
 "cells": [
  {
   "cell_type": "markdown",
   "id": "307ee1fc",
   "metadata": {},
   "source": [
    "## Intro\n",
    "\n",
    "In Python, an iterable is an object that is capable of being looped through one element at a time. We commonly use iterables to perform the process of iteration and it is the backbone for how we perform consistent operations on sets of data.\n",
    "\n",
    "Dictionaries, lists, tuples, and sets are all classified as iterables!\n",
    "\n",
    "### Iterator Objects: `__iter__()` and `iter()`\n",
    "\n",
    "Under the hood, the first step that the for loop has to do is to convert our dictionary (the iterable) to an iterator object. An iterator object is a special object that represents a stream of data that we can operate on. To accomplish this, it uses a built-in function called `iter()`\n",
    "\n",
    "To go behind the scenes even further, `iter()` is actually calling a method defined within the iterable called `__iter__()`. All iterables have this `__iter__()` method defined. We can even use the Python built-in function `dir()` to show that a dictionary has a defined method called `__iter__()`"
   ]
  },
  {
   "cell_type": "code",
   "execution_count": null,
   "id": "81e5bedb",
   "metadata": {},
   "outputs": [],
   "source": [
    "sku_list = [7046538, 8289407, 9056375, 2308597]\n",
    "print(dir(sku_list))\n",
    "\n",
    "sku_iterator_object_one = sku_list.__iter__()\n",
    "print(sku_iterator_object_one)\n",
    "\n",
    "sku_iterator_object_two = iter(sku_list)\n",
    "print(sku_iterator_object_two)"
   ]
  },
  {
   "cell_type": "markdown",
   "id": "2852a22e",
   "metadata": {},
   "source": [
    "### Iterator Objects:`__next__()` and `next()`\n",
    "\n",
    "Similarly to `__iter__()` and `iter()`, there is a Python built-in function called `next()` that we can use in place of calling the `__next__()` method. Calling `next()` simply calls the iterator object’s `__next__()` method.\n",
    "The `__next__()` method will raise an exception called `StopIteration` when all items have been iterated through."
   ]
  },
  {
   "cell_type": "code",
   "execution_count": null,
   "id": "7a984bd4",
   "metadata": {},
   "outputs": [],
   "source": [
    "dog_foods = {\n",
    "  \"Great Dane Foods\": 4,\n",
    "  \"Min Pip Pup Foods\": 10,\n",
    "  \"Pawsome Pup Foods\": 8\n",
    "}\n",
    "\n",
    "dog_food_iterator = iter(dog_foods)\n",
    "next_dog_food1 = next(dog_food_iterator)\n",
    "next_dog_food2 = next(dog_food_iterator)\n",
    "next_dog_food3 = next(dog_food_iterator)\n",
    "\n",
    "print(next_dog_food1)\n",
    "print(next_dog_food2)\n",
    "print(next_dog_food3)\n",
    "\n",
    "next(dog_food_iterator)"
   ]
  },
  {
   "cell_type": "markdown",
   "id": "ad7a374a",
   "metadata": {},
   "source": [
    "### For Loops\n",
    "To summarize, the three main steps are:\n",
    "1. The `for` loop will first retrieve an iterator object for the `dog_foods` dictionary `using iter()`.\n",
    "2. Then, `next()` is called on each iteration of the `for` loop to retrieve the next value. This value is set to the for loop’s variable, `food_brand`.\n",
    "3. On each for loop iteration, the `print` statement is executed, until finally, the `for` loop executes a call to `next()` that raises the `StopIteration` exception. The `for` loop then exits and is finished iterating."
   ]
  },
  {
   "cell_type": "markdown",
   "id": "65c6f488",
   "metadata": {},
   "source": [
    "### Custom Iterators\n",
    "\n",
    "Custom classes are not iterable by default. If we desire to create our own custom iterator class, we must implement the iterator protocol, meaning we need to have a class that defines at minimum the `__iter__()` and `__next__()` methods.\n"
   ]
  },
  {
   "cell_type": "code",
   "execution_count": null,
   "id": "7bf90d9b",
   "metadata": {},
   "outputs": [],
   "source": [
    "class CustomerCounter:\n",
    "    def __iter__(self):\n",
    "      self.count = 0\n",
    "      return self\n",
    "  \n",
    "    def __next__(self):\n",
    "      if self.count > 100:\n",
    "        raise StopIteration\n",
    "      else:\n",
    "        self.count +=1\n",
    "        return self.count\n",
    "\n",
    "customer_counter = CustomerCounter()\n",
    "for customer in customer_counter:\n",
    "  print(customer)"
   ]
  },
  {
   "cell_type": "markdown",
   "id": "09558c3f",
   "metadata": {},
   "source": [
    "### Python’s Itertools: Built-in Iterators\n",
    "While building our own custom iterator classes can be useful, Python offers a convenient, built-in module named itertools that provides the ability to create complex iterator manipulations. These iterator operations can input either a single iterable or a combination of them.\n",
    "\n",
    "There are three categories of itertool iterators:\n",
    "- **Infinite:** Infinite iterators will repeat an infinite number of times. They will not raise a StopIteration exception and will require some type of stop condition to exit from.\n",
    "- **Input-Dependent:** Input-dependent iterators are terminated by the input iterable(s) sequence length. This means that the smallest length iterable parameter of an input-dependent iterator will terminate the iterator.\n",
    "- **Combinatoric:** Combinatoric iterators are iterators that are combinational, where mathematical functions are performed on the input iterable(s).\n",
    "\n",
    "We can use the itertools module by simply supplying an import statement"
   ]
  },
  {
   "cell_type": "markdown",
   "id": "4225dbe0",
   "metadata": {},
   "source": [
    "### Infinite Iterator: Count\n",
    "An infinite iterator will repeat an infinite number of times with no endpoint and no StopIteration exception raised. Infinite iterators are useful when we have unbounded streams of data to process.\n",
    "\n",
    "A useful itertool that is an infinite iterator is the `count()` itertool. This infinite iterator will count from a first value until we provide some type of stop condition."
   ]
  },
  {
   "cell_type": "code",
   "execution_count": null,
   "id": "5574ccef",
   "metadata": {},
   "outputs": [],
   "source": [
    "# We wanna check how many 13.5 lbs bags can be stored on a rack with maximum capacity of 1000 lbs\n",
    "import itertools\n",
    "\n",
    "max_capacity = 1000\n",
    "num_bags = 0\n",
    "\n",
    "for i in itertools.count(start=13.5, step = 13.5):\n",
    "  if i <= max_capacity:\n",
    "    num_bags += 1\n",
    "  else: break\n"
   ]
  },
  {
   "cell_type": "markdown",
   "id": "d33f2e4b",
   "metadata": {},
   "source": [
    "### Input-Dependent Iterator: Chain\n",
    "An input-dependent iterator will terminate based on the length of one or more input values. They are great for working with and modifying existing iterators. A useful itertool that is an input-dependent iterator is the `chain()` itertool. `chain()` takes in one or more iterables and combine them into a single iterator. Here is what the base syntax looks like:\n",
    "\n",
    "`chain(*iterables)`\n",
    "\n",
    "The input value of chain() is one or more iterables of the same or varying iterable types. For example, we could use the chain() itertool to combine a list and a set into one iterator.\n"
   ]
  },
  {
   "cell_type": "code",
   "execution_count": null,
   "id": "6d88f4de",
   "metadata": {},
   "outputs": [],
   "source": [
    "import itertools\n",
    "\n",
    "great_dane_foods = [2439176, 3174521, 3560031]\n",
    "min_pin_pup_foods = [6821904, 3302083]\n",
    "pawsome_pup_foods = [9664865]\n",
    "\n",
    "all_skus_iterator = itertools.chain(great_dane_foods, min_pin_pup_foods, pawsome_pup_foods)\n",
    "\n",
    "for sku in all_skus_iterator:\n",
    "  print(sku)"
   ]
  },
  {
   "cell_type": "markdown",
   "id": "c6883b65",
   "metadata": {},
   "source": [
    "### Combinatoric Iterator: Combinations\n",
    "A combinatoric iterator will perform a set of statistical or mathematical operations on an input iterable.\n",
    "\n",
    "A useful itertool that is a combinatoric iterator is the `combinations()` itertool. This itertool will produce an iterator of tuples that contain combinations of all elements in the input.\n",
    "\n",
    "`combinations(iterable, r)`\n",
    "\n",
    "The `combinations()` itertool takes in two inputs, the first is an iterable, and the second is a value r that represents the length of each combination tuple.\n",
    "\n",
    "The return type of `combinations()` is an iterator that can be used in a `for` loop or can be converted into an iterable type using `list()` or a `set()`."
   ]
  },
  {
   "cell_type": "code",
   "execution_count": null,
   "id": "e9dc0565",
   "metadata": {},
   "outputs": [],
   "source": [
    "# We want to now which combinations of 2 toys can be purchased for our money:\n",
    "\n",
    "import itertools\n",
    "\n",
    "cat_toys = [('laser', 1.99), ('fountain', 5.99), ('scratcher', 10.99), ('catnip', 15.99)]\n",
    "\n",
    "max_money = 15\n",
    "options = []\n",
    "\n",
    "toy_combos = itertools.combinations(cat_toys, 2)\n",
    "\n",
    "for combo in toy_combos:\n",
    "    toy1 = combo[0]\n",
    "    cost_of_toy1 = toy1[1]\n",
    "    toy2 = combo[1]\n",
    "    cost_of_toy2 = toy2[1]\n",
    "    if cost_of_toy1 + cost_of_toy2 <= max_money:\n",
    "      options.append(combo)"
   ]
  },
  {
   "cell_type": "markdown",
   "id": "f7c54fc4",
   "metadata": {},
   "source": [
    "# Generators\n",
    "\n",
    "### yield vs return\n",
    "\n",
    "Generator functions are similar to regular functions except that they must return an iterator. But instead of using a `return` statement, generator functions use an expression called `yield`.\n",
    "\n",
    "So how does `yield` differ from a `return` statement? Well, any code that is written after a `yield` expression will execute on the next iteration of the iterator. Code written after a `return` statement will not execute.\n",
    "\n",
    "Another key difference between `yield` and `return` is that the `yield` expression will suspend the execution of the function and preserve any local variables that exist within the function. The `return` statement will terminate the function immediately and return the result(s) to the caller.\n",
    "\n",
    "Like all objects, the iterator object returned by a generator function can be stored in a variable to be used later. It can then be iterated through as needed."
   ]
  },
  {
   "cell_type": "code",
   "execution_count": null,
   "id": "2329c1bb",
   "metadata": {},
   "outputs": [],
   "source": [
    "def class_standing_generator():\n",
    "  yield 'Freshman'\n",
    "  yield 'Sophomore'\n",
    "  yield 'Junior'\n",
    "  yield 'Senior'\n",
    "\n",
    "class_standings = class_standing_generator()\n",
    "\n",
    "for standing in class_standings:\n",
    "  print(standing)"
   ]
  },
  {
   "cell_type": "markdown",
   "id": "c7132bee",
   "metadata": {},
   "source": [
    "The generator can execute more complex code too.\n",
    "We want to hold a raffle where every student whose student ID is a multiple of 3 wins prize A and every student whose ID is a multiple of 5 wins prize B. Any student whose ID is both a multiple of 3 and 5 wins prize C."
   ]
  },
  {
   "cell_type": "code",
   "execution_count": null,
   "id": "f7bbb6ca",
   "metadata": {},
   "outputs": [],
   "source": [
    "def prize_generator():\n",
    "  student_info = {\n",
    "    \"Joan Stark\": 355,\n",
    "    \"Billy Mars\": 45,\n",
    "    \"Tori Rivers\": 18,\n",
    "    \"Kyle Newman\": 25\n",
    "  }\n",
    "\n",
    "  for student in student_info:\n",
    "    name = student\n",
    "    id = student_info[name]\n",
    "    if id % 3 == 0 and id % 5 == 0:\n",
    "      yield student + \" gets prize C\"\n",
    "    elif id % 3 == 0:\n",
    "      yield student + \" gets prize A\"\n",
    "    elif id % 5 == 0:\n",
    "      yield student + \" gets prize B\"\n",
    "    \n",
    "prizes = prize_generator()\n",
    "\n",
    "for prize in prizes:\n",
    "    print(prize)"
   ]
  },
  {
   "cell_type": "markdown",
   "id": "2972eafe",
   "metadata": {},
   "source": [
    "### Generator Expressions\n",
    "Generator expressions allow for a clean, single-line definition and creation of an iterator. By using a generator expression, there is no need to define a full generator function as we covered in the previous exercises.\n",
    "\n",
    "Generator expressions resemble the syntax of list comprehensions. However, they do differ in the following ways:\n",
    "\n",
    "**Generator Expressions**\n",
    "- Returns a newly defined iterator\t\n",
    "- Uses parentheses\t\n",
    "\n",
    "**List Comprehensions**\n",
    "- Returns a new list\n",
    "- Uses brackets"
   ]
  },
  {
   "cell_type": "code",
   "execution_count": null,
   "id": "4a746f72",
   "metadata": {},
   "outputs": [],
   "source": [
    "def cs_generator():\n",
    "  for i in range(1,5):\n",
    "    yield \"Computer Science \" + str(i)\n",
    "\n",
    "cs_courses = cs_generator()\n",
    "for course in cs_courses:\n",
    "  print(course)\n",
    "\n",
    "# same result with expression\n",
    "cs_generator_exp = (f'Computer Science {i}' for i in range(1,5))\n",
    "for course in cs_generator_exp:\n",
    "  print(course)"
   ]
  },
  {
   "cell_type": "markdown",
   "id": "cc5eaba4",
   "metadata": {},
   "source": [
    "### Generator Methods: `send()`\n",
    "Python provides a few special methods to manipulate generators!\n",
    "\n",
    "The `.send()` method allows us to send a value to a generator using the `yield` expression. If you assign `yield` to a variable the argument passed to the `.send()` method will be assigned to that variable. Calling `.send()` will also cause the generator to perform an iteration.\n",
    "\n",
    "The **get_student_ids()** below is a Python generator that yields student IDs. The generator starts with student_id equal to 1 and continues to yield the next student ID until it reaches the maximum number of students, MAX_STUDENTS.\n",
    "\n",
    "The `n` variable is assigned the value of yield student_id. This means that the generator will pause at this line and wait for a value to be sent to it. If a value is sent, it will be assigned to n. If n is not None, then the generator will set student_id to n and continue to the next iteration of the loop. Otherwise, it will increment student_id by 1 and continue to the next iteration of the loop.\n",
    "\n",
    "Therefore, the n variable will be None when the generator is first started and after each time a new student ID is yielded. **The value of n will only be something other than None if a value is sent to the generator using the send() method.**"
   ]
  },
  {
   "cell_type": "code",
   "execution_count": null,
   "id": "dd4eeab7",
   "metadata": {},
   "outputs": [],
   "source": [
    "MAX_STUDENTS = 50\n",
    "\n",
    "def get_student_ids():\n",
    "  student_id = 1\n",
    "  while student_id <= MAX_STUDENTS:\n",
    "    n = yield student_id\n",
    "    if n is not None:\n",
    "      student_id = n\n",
    "      continue\n",
    "    student_id += 1  \n",
    "\n",
    "student_id_generator = get_student_ids()\n",
    "\n",
    "for i in student_id_generator:\n",
    "  if i == 1:\n",
    "    i = student_id_generator.send(41)\n",
    "  \n",
    "  print(i)\n"
   ]
  },
  {
   "cell_type": "markdown",
   "id": "a1946d62",
   "metadata": {},
   "source": [
    "### Generator Methods: `throw()`\n",
    "The generator method `throw()` provides the ability to throw an exception inside the generator from the caller point. This can be useful if we need to end the generator once it reaches a certain value or meets a particular condition.\n",
    "\n",
    "##### Example\n",
    "We have a collection of 5,000 students.\n",
    "We only want to retrieve information on the first 100 students. Use the throw() method to throw a ValueError of “Invalid student ID” if the iterated student ID goes over 100. Insert your code before the print(student_id) line."
   ]
  },
  {
   "cell_type": "code",
   "execution_count": null,
   "id": "e6e19eb1",
   "metadata": {},
   "outputs": [],
   "source": [
    "def student_counter():\n",
    "  for i in range(1,5001):\n",
    "    yield i\n",
    "\n",
    "student_generator = student_counter()\n",
    "for student_id in student_generator:\n",
    "  # Write your code below:\n",
    "  if student_id <= 100:\n",
    "    print(student_id)\n",
    "  else:\n",
    "    student_generator.throw(ValueError, 'Invalid student ID')"
   ]
  },
  {
   "cell_type": "markdown",
   "id": "a8273787",
   "metadata": {},
   "source": [
    "### Generator Methods: `close()`\n",
    "The generator method `.close()` is used to terminate a generator early. Once the `.close()` method is called the generator is finished just like the end of a `for` loop. Any further iteration attempts will raise a `StopIteration` exception.\n",
    "The `.close()` method works by raising a `GeneratorExit` exception inside the generator function. The exception is generally ignored but can be handled using `try` and `except`.\n",
    "Putting the yield expression in a `try` block we can handle the `GeneratorExit` exception. In this case, we simply print out a message. Because we interrupted the automatic behavior of the `.close()` method, we must also use a `break` to exit the loop or else a `RuntimeError` will occur.\n",
    "\n",
    "#### Example\n",
    "We have a collection of 5,000 students. We only want to retrieve information on the first 100 students. Use the `close()` method to terminate the generator after 100 students.\n"
   ]
  },
  {
   "cell_type": "code",
   "execution_count": null,
   "id": "e33bf826",
   "metadata": {},
   "outputs": [],
   "source": [
    "def student_counter():\n",
    "  for i in range(1,5001):\n",
    "    yield i\n",
    "\n",
    "student_generator = student_counter()\n",
    "for student_id in student_generator:\n",
    "  print(student_id)\n",
    "  if student_id == 100:\n",
    "    student_generator.close()"
   ]
  },
  {
   "cell_type": "markdown",
   "id": "a97b2c06",
   "metadata": {},
   "source": [
    "### Connecting Generators\n",
    "\n",
    "There are some cases where it is useful to connect multiple generators into one. This allows us to delegate the operations of one generator to another sub-generator. Connecting generators is similar to using the itertools `chain()` function to combine iterators into a single iterator.\n",
    "\n",
    "In order to connect generators, we use the `yield from` statement.\n",
    "\n",
    "#### Example\n",
    "We have a generator function called science students(x) that yields science major students with student IDs 1 to x. We have another generator function, non_science_students(x,y), that yields non-science major students with student IDs x-y. We want to retrieve student ids in the following order:\n",
    "- Science students with IDs 1-5\n",
    "- Non-science students with IDs 10-15\n",
    "- Non-science students with IDs 25-30\n",
    "\n",
    "Use a connected generator function called combined_students that uses yield from statements to achieve this.\n"
   ]
  },
  {
   "cell_type": "code",
   "execution_count": null,
   "id": "20470200",
   "metadata": {},
   "outputs": [],
   "source": [
    "def science_students(x):\n",
    "  for i in range(1,x+1):\n",
    "    yield i\n",
    "\n",
    "def non_science_students(x,y):\n",
    "  for i in range(x,y+1):\n",
    "    yield i\n",
    "  \n",
    "def combined_students():\n",
    "  yield from science_students(5)\n",
    "  yield from non_science_students(10,15)\n",
    "  yield from non_science_students(25,30)\n",
    "\n",
    "student_generator = combined_students()\n",
    "for student in student_generator:\n",
    "  print(student)"
   ]
  },
  {
   "cell_type": "markdown",
   "id": "c988a7d7",
   "metadata": {},
   "source": [
    "### Generator Pipelines\n",
    "Generator pipelines allow us to use multiple generators to perform a series of operations all within one expression. We can break down complex operations into smaller, more manageable parts where they can then be pipelined together to achieve the desired output.\n",
    "\n",
    "To pipeline generators, the output of one generator function can be the input of another generator function. That resulting generator can then be used as input for another generator function, and so on.\n",
    "\n",
    "Pipeline generators are also often referred to as nested generators.\n",
    "\n",
    "#### Example\n",
    "1. We have three courses:\n",
    "- Computer Science which has 5 students\n",
    "- Art which has 10 students\n",
    "- Business which has 15 students\n",
    "\n",
    "First, complete the generator function called course_generator that can yield tuples of (Course name, Number students) for the above courses and the corresponding number of students. The first tuple for Computer Science has been provided.\n",
    "\n",
    "\n",
    "2. We need to add 5 students to each course. Create a generator function called add_five_students that takes in an input variable called courses. This courses object contains tuples of (Course name, Number of students). The add_five_students generator function should loop through the courses input object.\n",
    "\n",
    "On each iteration, it should yield a tuple containing the course name and number of students plus 5. The resulting generator that is yielded should have the following values:\n",
    "- Computer Science with 10 students\n",
    "- Art with 15 students\n",
    "- Business with 20 students.\n",
    "\n",
    "3. Use a pipeline generator (nested generator) to get the resulting generator that has the 5 added students to each course. Set it to a variable called increased_courses.\n",
    "\n",
    "Print out each course tuple in the resulting increased_courses generator using a for loop.\n"
   ]
  },
  {
   "cell_type": "code",
   "execution_count": null,
   "id": "8c7d38d8",
   "metadata": {},
   "outputs": [],
   "source": [
    "def course_generator():\n",
    "    yield (\"Computer Science\", 5)\n",
    "    yield (\"Art\", 10)\n",
    "    yield (\"Business\", 15)\n",
    "\n",
    "def add_five_students(courses):\n",
    "  for course in courses:\n",
    "    yield (course[0], course[1] + 5)\n",
    "\n",
    "increased_courses = add_five_students(course_generator())\n",
    "\n",
    "for course in increased_courses:\n",
    "  print(course)\n"
   ]
  },
  {
   "cell_type": "markdown",
   "id": "c6443ff8",
   "metadata": {},
   "source": [
    "## Closing exercise\n",
    "\n",
    "Note: not all the steps will be visible in the code as it evolves in every checkpoint\n",
    "\n",
    "1. Create a generator function called graduation_countdown() that will countdown the number of days left before student graduation. It should take in as input days and yield one less day on each next() call, so the last value yielded is 0. Use a while loop for yielding and decrementing the day.\n",
    "\n",
    "2. Create an equivalent generator expression called countdown_generator for the graduation_countdown generator function. It should generate the days in a descending order starting from the provided days value. Place the code after the days = 25 line.\n",
    "\n",
    "3. Modify the graduation_countdown() generator function to accept values sent using send(). Use a local variable called days_left to store sent values. Use an if/else statement to check for sent values.\n",
    "\n",
    "4. Call the graduation_countdown() function and set it to a variable called grad_days.\n",
    "- Iterate through grad_days generator to print the number of days left with a string of “Days Left: x” where x represents the countdown value.\n",
    "- On the 15th day of the graduation countdown, the school president announces that graduation will be moved up 5 days. Send a value of 10 to the grad_days generator when the 15th day in the countdown is reached.\n",
    "\n",
    "5. It’s our lucky day! The school president announces that graduation will now occur on the 3rd day left of the countdown. Modify the for loop so that when the countdown day is 3, the generator will close. Insert the condition check and close() before the “Days Left” printout.\n",
    "\n",
    "6. We have three honors achievements to assign to students that are defined within the summa(), magna(), and cum_laude() generator functions. Each honor is assigned based on a given GPA range listed below. Given a list of input GPAs, create a generator function called honors_generator that takes in 1 input argument named gpas that represents the list of GPAs from the variable gpas. The function should use yield from on each input GPA to determine the honors assignment.\n",
    "\n",
    "#### Honors Assignment\tGPA\n",
    "- Summa Cum Laude\t> 3.9\n",
    "- Magna Cum Laude\t> 3.7\n",
    "- Cum Laude\t> 3.5\n",
    "\n",
    "7. Call the connected generator function honors_generator with the gpas list and set it to a variable called honors. Loop through the honors generator and print out each honor_label value to see which honors labels will be generated given the gpas list."
   ]
  },
  {
   "cell_type": "code",
   "execution_count": null,
   "id": "f7aab79b",
   "metadata": {},
   "outputs": [],
   "source": [
    "def summa():\n",
    "    yield 'Summa Cum Laude'\n",
    "def magna():\n",
    "    yield 'Magna Cum Laude' \n",
    "def cum_laude():\n",
    "    yield 'Cum Laude'\n",
    "\n",
    "def graduation_countdown(days):\n",
    "  while days >=0:\n",
    "    days_left = yield days\n",
    "    if days_left is not None:\n",
    "      days = days_left\n",
    "    else:\n",
    "      days -=1 \n",
    "\n",
    "def honors_generator(gpas):\n",
    "  for gpa in gpas:\n",
    "    if gpa > 3.9:\n",
    "      yield from summa()\n",
    "    elif gpa > 3.7:\n",
    "      yield from magna()\n",
    "    elif gpa > 3.5:\n",
    "      yield from cum_laude()\n",
    "\n",
    "days = 25\n",
    "countdown_generator = (day for day in range(days,-1,-1))\n",
    "grad_days = graduation_countdown(days)\n",
    "\n",
    "for days in grad_days:\n",
    "  if days == 15:\n",
    "    grad_days.send(10)\n",
    "  elif days == 3:\n",
    "    grad_days.close()\n",
    "  print(f'Days Left: {days}')\n",
    "  \n",
    "\n",
    "gpas = [3.2, 4.0, 3.6, 2.9]\n",
    "\n",
    "honors = honors_generator(gpas)\n",
    "\n",
    "for honor_label in honors:\n",
    "  print(honor_label)\n"
   ]
  }
 ],
 "metadata": {
  "kernelspec": {
   "display_name": "Python 3 (ipykernel)",
   "language": "python",
   "name": "python3"
  },
  "language_info": {
   "codemirror_mode": {
    "name": "ipython",
    "version": 3
   },
   "file_extension": ".py",
   "mimetype": "text/x-python",
   "name": "python",
   "nbconvert_exporter": "python",
   "pygments_lexer": "ipython3",
   "version": "3.11.5"
  }
 },
 "nbformat": 4,
 "nbformat_minor": 5
}

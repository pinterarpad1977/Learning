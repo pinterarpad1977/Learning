{
 "cells": [
  {
   "cell_type": "markdown",
   "id": "3ef14925",
   "metadata": {},
   "source": [
    "### further tasks\n",
    "- create a function which updates the words for the players\n",
    "- create a function which updates the scores when a new word is added"
   ]
  },
  {
   "cell_type": "code",
   "execution_count": null,
   "id": "18d0253c",
   "metadata": {},
   "outputs": [],
   "source": [
    "letters = [\"A\", \"B\", \"C\", \"D\", \"E\", \"F\", \"G\", \"H\", \"I\", \"J\", \"K\", \"L\", \"M\", \"N\", \"O\", \"P\", \"Q\", \"R\", \"S\", \"T\", \"U\", \"V\", \"W\", \"X\", \"Y\", \"Z\"]\n",
    "points = [1, 3, 3, 2, 1, 4, 2, 4, 1, 8, 5, 1, 3, 4, 1, 3, 10, 1, 1, 1, 1, 4, 4, 8, 4, 10]\n",
    "\n",
    "# create a dictionary from the 2 lists\n",
    "letter_to_points = {letter: point for letter, point in zip(letters, points)}\n",
    "# adding the blank for 0 point\n",
    "letter_to_points[' '] = 0\n",
    "\n",
    "# creating a function to score the word\n",
    "def score_word(word):\n",
    "  score = 0\n",
    "  for letter in word:\n",
    "    score += letter_to_points[letter.upper()]\n",
    "  return score\n",
    "\n",
    "# a static dictionary to store the words\n",
    "player_to_words = {\n",
    "  'player1': ['blue', 'tennis', 'exit'],\\\n",
    "  'wordNerd': ['earth', 'eyes', 'machine'],\\\n",
    "  'Lexi Con': ['eraser', 'belly', 'husky'],\\\n",
    "  'Proof Reader': ['zap', 'coma', 'period']}\n",
    "\n",
    "\n",
    "player_to_points = {}\n",
    "for player in player_to_words.keys():\n",
    "  total = 0\n",
    "  for word in player_to_words[player]:\n",
    "    total += score_word(word)\n",
    "  player_to_points[player] = total\n",
    "\n",
    "print(player_to_points)"
   ]
  }
 ],
 "metadata": {
  "kernelspec": {
   "display_name": "Python 3 (ipykernel)",
   "language": "python",
   "name": "python3"
  },
  "language_info": {
   "codemirror_mode": {
    "name": "ipython",
    "version": 3
   },
   "file_extension": ".py",
   "mimetype": "text/x-python",
   "name": "python",
   "nbconvert_exporter": "python",
   "pygments_lexer": "ipython3",
   "version": "3.11.5"
  }
 },
 "nbformat": 4,
 "nbformat_minor": 5
}

{
 "cells": [
  {
   "cell_type": "markdown",
   "id": "307ee1fc",
   "metadata": {},
   "source": [
    "## Intro\n",
    "\n",
    "In Python, an iterable is an object that is capable of being looped through one element at a time. We commonly use iterables to perform the process of iteration and it is the backbone for how we perform consistent operations on sets of data.\n",
    "\n",
    "Dictionaries, lists, tuples, and sets are all classified as iterables!\n",
    "\n",
    "### Iterator Objects: `__iter__()` and `iter()`\n",
    "\n",
    "Under the hood, the first step that the for loop has to do is to convert our dictionary (the iterable) to an iterator object. An iterator object is a special object that represents a stream of data that we can operate on. To accomplish this, it uses a built-in function called `iter()`\n",
    "\n",
    "To go behind the scenes even further, `iter()` is actually calling a method defined within the iterable called `__iter__()`. All iterables have this `__iter__()` method defined. We can even use the Python built-in function `dir()` to show that a dictionary has a defined method called `__iter__()`"
   ]
  },
  {
   "cell_type": "code",
   "execution_count": 1,
   "id": "81e5bedb",
   "metadata": {},
   "outputs": [
    {
     "name": "stdout",
     "output_type": "stream",
     "text": [
      "['__add__', '__class__', '__class_getitem__', '__contains__', '__delattr__', '__delitem__', '__dir__', '__doc__', '__eq__', '__format__', '__ge__', '__getattribute__', '__getitem__', '__getstate__', '__gt__', '__hash__', '__iadd__', '__imul__', '__init__', '__init_subclass__', '__iter__', '__le__', '__len__', '__lt__', '__mul__', '__ne__', '__new__', '__reduce__', '__reduce_ex__', '__repr__', '__reversed__', '__rmul__', '__setattr__', '__setitem__', '__sizeof__', '__str__', '__subclasshook__', 'append', 'clear', 'copy', 'count', 'extend', 'index', 'insert', 'pop', 'remove', 'reverse', 'sort']\n",
      "<list_iterator object at 0x000001EA829BE3B0>\n",
      "<list_iterator object at 0x000001EA829BD600>\n"
     ]
    }
   ],
   "source": [
    "sku_list = [7046538, 8289407, 9056375, 2308597]\n",
    "print(dir(sku_list))\n",
    "\n",
    "sku_iterator_object_one = sku_list.__iter__()\n",
    "print(sku_iterator_object_one)\n",
    "\n",
    "sku_iterator_object_two = iter(sku_list)\n",
    "print(sku_iterator_object_two)"
   ]
  },
  {
   "cell_type": "markdown",
   "id": "2852a22e",
   "metadata": {},
   "source": [
    "### Iterator Objects:`__next__()` and `next()`\n",
    "\n",
    "Similarly to `__iter__()` and `iter()`, there is a Python built-in function called `next()` that we can use in place of calling the `__next__()` method. Calling `next()` simply calls the iterator object’s `__next__()` method.\n",
    "The `__next__()` method will raise an exception called `StopIteration` when all items have been iterated through."
   ]
  },
  {
   "cell_type": "code",
   "execution_count": null,
   "id": "7a984bd4",
   "metadata": {},
   "outputs": [],
   "source": [
    "dog_foods = {\n",
    "  \"Great Dane Foods\": 4,\n",
    "  \"Min Pip Pup Foods\": 10,\n",
    "  \"Pawsome Pup Foods\": 8\n",
    "}\n",
    "\n",
    "dog_food_iterator = iter(dog_foods)\n",
    "next_dog_food1 = next(dog_food_iterator)\n",
    "next_dog_food2 = next(dog_food_iterator)\n",
    "next_dog_food3 = next(dog_food_iterator)\n",
    "\n",
    "print(next_dog_food1)\n",
    "print(next_dog_food2)\n",
    "print(next_dog_food3)\n",
    "\n",
    "next(dog_food_iterator)"
   ]
  },
  {
   "cell_type": "markdown",
   "id": "ad7a374a",
   "metadata": {},
   "source": [
    "### For Loops\n",
    "To summarize, the three main steps are:\n",
    "1. The `for` loop will first retrieve an iterator object for the `dog_foods` dictionary `using iter()`.\n",
    "2. Then, `next()` is called on each iteration of the `for` loop to retrieve the next value. This value is set to the for loop’s variable, `food_brand`.\n",
    "3. On each for loop iteration, the `print` statement is executed, until finally, the `for` loop executes a call to `next()` that raises the `StopIteration` exception. The `for` loop then exits and is finished iterating."
   ]
  },
  {
   "cell_type": "markdown",
   "id": "65c6f488",
   "metadata": {},
   "source": [
    "### Custom Iterators\n",
    "\n",
    "Custom classes are not iterable by default. If we desire to create our own custom iterator class, we must implement the iterator protocol, meaning we need to have a class that defines at minimum the `__iter__()` and `__next__()` methods.\n"
   ]
  },
  {
   "cell_type": "code",
   "execution_count": null,
   "id": "7bf90d9b",
   "metadata": {},
   "outputs": [],
   "source": [
    "class CustomerCounter:\n",
    "    def __iter__(self):\n",
    "      self.count = 0\n",
    "      return self\n",
    "  \n",
    "    def __next__(self):\n",
    "      if self.count > 100:\n",
    "        raise StopIteration\n",
    "      else:\n",
    "        self.count +=1\n",
    "        return self.count\n",
    "\n",
    "customer_counter = CustomerCounter()\n",
    "for customer in customer_counter:\n",
    "  print(customer)"
   ]
  },
  {
   "cell_type": "markdown",
   "id": "09558c3f",
   "metadata": {},
   "source": [
    "### Python’s Itertools: Built-in Iterators\n",
    "While building our own custom iterator classes can be useful, Python offers a convenient, built-in module named itertools that provides the ability to create complex iterator manipulations. These iterator operations can input either a single iterable or a combination of them.\n",
    "\n",
    "There are three categories of itertool iterators:\n",
    "- **Infinite:** Infinite iterators will repeat an infinite number of times. They will not raise a StopIteration exception and will require some type of stop condition to exit from.\n",
    "- **Input-Dependent:** Input-dependent iterators are terminated by the input iterable(s) sequence length. This means that the smallest length iterable parameter of an input-dependent iterator will terminate the iterator.\n",
    "- **Combinatoric:** Combinatoric iterators are iterators that are combinational, where mathematical functions are performed on the input iterable(s).\n",
    "\n",
    "We can use the itertools module by simply supplying an import statement"
   ]
  },
  {
   "cell_type": "markdown",
   "id": "4225dbe0",
   "metadata": {},
   "source": [
    "### Infinite Iterator: Count\n",
    "An infinite iterator will repeat an infinite number of times with no endpoint and no StopIteration exception raised. Infinite iterators are useful when we have unbounded streams of data to process.\n",
    "\n",
    "A useful itertool that is an infinite iterator is the `count()` itertool. This infinite iterator will count from a first value until we provide some type of stop condition."
   ]
  },
  {
   "cell_type": "code",
   "execution_count": 4,
   "id": "5574ccef",
   "metadata": {},
   "outputs": [],
   "source": [
    "# We wanna check how many 13.5 lbs bags can be stored on a rack with maximum capacity of 1000 lbs\n",
    "import itertools\n",
    "\n",
    "max_capacity = 1000\n",
    "num_bags = 0\n",
    "\n",
    "for i in itertools.count(start=13.5, step = 13.5):\n",
    "  if i <= max_capacity:\n",
    "    num_bags += 1\n",
    "  else: break\n"
   ]
  },
  {
   "cell_type": "markdown",
   "id": "d33f2e4b",
   "metadata": {},
   "source": [
    "### Input-Dependent Iterator: Chain\n",
    "An input-dependent iterator will terminate based on the length of one or more input values. They are great for working with and modifying existing iterators. A useful itertool that is an input-dependent iterator is the `chain()` itertool. `chain()` takes in one or more iterables and combine them into a single iterator. Here is what the base syntax looks like:\n",
    "\n",
    "`chain(*iterables)`\n",
    "\n",
    "The input value of chain() is one or more iterables of the same or varying iterable types. For example, we could use the chain() itertool to combine a list and a set into one iterator.\n"
   ]
  },
  {
   "cell_type": "code",
   "execution_count": null,
   "id": "6d88f4de",
   "metadata": {},
   "outputs": [],
   "source": [
    "import itertools\n",
    "\n",
    "great_dane_foods = [2439176, 3174521, 3560031]\n",
    "min_pin_pup_foods = [6821904, 3302083]\n",
    "pawsome_pup_foods = [9664865]\n",
    "\n",
    "all_skus_iterator = itertools.chain(great_dane_foods, min_pin_pup_foods, pawsome_pup_foods)\n",
    "\n",
    "for sku in all_skus_iterator:\n",
    "  print(sku)"
   ]
  },
  {
   "cell_type": "markdown",
   "id": "c6883b65",
   "metadata": {},
   "source": [
    "### Combinatoric Iterator: Combinations\n",
    "A combinatoric iterator will perform a set of statistical or mathematical operations on an input iterable.\n",
    "\n",
    "A useful itertool that is a combinatoric iterator is the `combinations()` itertool. This itertool will produce an iterator of tuples that contain combinations of all elements in the input.\n",
    "\n",
    "`combinations(iterable, r)`\n",
    "\n",
    "The `combinations()` itertool takes in two inputs, the first is an iterable, and the second is a value r that represents the length of each combination tuple.\n",
    "\n",
    "The return type of `combinations()` is an iterator that can be used in a `for` loop or can be converted into an iterable type using `list()` or a `set()`."
   ]
  },
  {
   "cell_type": "code",
   "execution_count": null,
   "id": "e9dc0565",
   "metadata": {},
   "outputs": [],
   "source": [
    "# We want to now which combinations of 2 toys can be purchased for our money:\n",
    "\n",
    "import itertools\n",
    "\n",
    "cat_toys = [('laser', 1.99), ('fountain', 5.99), ('scratcher', 10.99), ('catnip', 15.99)]\n",
    "\n",
    "max_money = 15\n",
    "options = []\n",
    "\n",
    "toy_combos = itertools.combinations(cat_toys, 2)\n",
    "\n",
    "for combo in toy_combos:\n",
    "    toy1 = combo[0]\n",
    "    cost_of_toy1 = toy1[1]\n",
    "    toy2 = combo[1]\n",
    "    cost_of_toy2 = toy2[1]\n",
    "    if cost_of_toy1 + cost_of_toy2 <= max_money:\n",
    "      options.append(combo)"
   ]
  },
  {
   "cell_type": "code",
   "execution_count": null,
   "id": "7c418a04",
   "metadata": {},
   "outputs": [],
   "source": []
  },
  {
   "cell_type": "code",
   "execution_count": null,
   "id": "2329c1bb",
   "metadata": {},
   "outputs": [],
   "source": []
  },
  {
   "cell_type": "code",
   "execution_count": null,
   "id": "1e26a9bc",
   "metadata": {},
   "outputs": [],
   "source": []
  },
  {
   "cell_type": "code",
   "execution_count": null,
   "id": "f7bbb6ca",
   "metadata": {},
   "outputs": [],
   "source": []
  },
  {
   "cell_type": "code",
   "execution_count": null,
   "id": "db683dde",
   "metadata": {},
   "outputs": [],
   "source": []
  },
  {
   "cell_type": "code",
   "execution_count": null,
   "id": "cc9da459",
   "metadata": {},
   "outputs": [],
   "source": []
  }
 ],
 "metadata": {
  "kernelspec": {
   "display_name": "Python 3 (ipykernel)",
   "language": "python",
   "name": "python3"
  },
  "language_info": {
   "codemirror_mode": {
    "name": "ipython",
    "version": 3
   },
   "file_extension": ".py",
   "mimetype": "text/x-python",
   "name": "python",
   "nbconvert_exporter": "python",
   "pygments_lexer": "ipython3",
   "version": "3.11.5"
  }
 },
 "nbformat": 4,
 "nbformat_minor": 5
}

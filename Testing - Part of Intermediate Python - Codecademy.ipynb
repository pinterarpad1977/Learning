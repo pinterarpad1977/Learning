{
 "cells": [
  {
   "cell_type": "markdown",
   "id": "7c2e2528",
   "metadata": {},
   "source": [
    "# Unit Testing\n",
    "\n",
    "### 1. The assert Statement\n",
    "Python provides an easy way to perform simple tests in our code - the `assert` statement. An `assert` statement can be used to test that a condition is met. If the condition evaluates to `False`, an `AssertionError` is raised with an optional error message.\n",
    "\n",
    "The general syntax looks like this:\n",
    "\n",
    "```assert <condition>, 'Message if condition is not met' ```\n",
    "\n",
    "Example\n",
    "```\n",
    "def times_ten(number):\n",
    "    return number * 100\n",
    "\n",
    "result = times_ten(20)\n",
    "assert result == 200, 'Expected times_ten(20) to return 200, instead got ' + str(result)\n",
    "```"
   ]
  },
  {
   "cell_type": "markdown",
   "id": "37c82fae",
   "metadata": {},
   "source": [
    "### Unit Testing\n",
    "In programming we can test a single unit of a program, such as a function, loop, or variable. A unit test validates a single behavior and will make sure all of the units of a program are functioning properly.\n",
    "\n",
    "To test a single function, we might create several test cases. A test case validates that a specific set of inputs produces an expected output for the unit we are trying to test.\n",
    "A common approach is to create test cases for specific edge case inputs as well as reasonable ones. "
   ]
  },
  {
   "cell_type": "markdown",
   "id": "4162bec7",
   "metadata": {},
   "source": [
    "### Python's unittest Framework\n",
    "There are some problems with the approach to our previous unit tests that would make them difficult to maintain. First, we had to call each function specifically when a new test was created. We also didn’t have any way of grouping tests, which is necessary when the number of tests increases. Perhaps most importantly, if one test failed, the AssertionError would prevent any remaining tests from running!\n",
    "\n",
    "Luckily, Python provides a framework that solves these problems and provides many other tools for writing unit tests. This framework lives in the `unittest` module which is included in the standard library\n",
    "\n",
    "- First, we must create a class which inherits from `unittest.TestCase`.\n",
    "- This class will serve as the main storage of all our unit testing functions. Once we have the class, we need to change our test functions so that they are methods of the class. The `unittest` module requires that test functions begin with the word 'test'\n",
    "- Lastly, we need to change our `assert` statements to use the `assertEqual` method of `unittest.TestCase`. The framework requires that we use special methods instead of standard assert statements.\n",
    "\n",
    "```\n",
    "import unittest\n",
    "\n",
    "class TestTimesTen(unittest.TestCase):\n",
    "    def test_multiply_ten_by_zero(self):\n",
    "        self.assertEqual(times_ten(0), 0, 'Expected times_ten(0) to return 0')\n",
    "\n",
    "    def test_multiply_ten_by_one_million(self):\n",
    "        self.assertEqual(times_ten(1000000), 10000000, 'Expected times_ten(1000000) to return 10000000')\n",
    "\n",
    "    def test_multiply_ten_by_negative_number(self):\n",
    "        self.assertEqual(times_ten(-10), -100, 'Expected add_times_ten(-10) to return -100')\n",
    "        \n",
    "unittest.main()\n",
    "```"
   ]
  },
  {
   "cell_type": "code",
   "execution_count": null,
   "id": "3c0a5463",
   "metadata": {},
   "outputs": [],
   "source": [
    "import unittest\n",
    "\n",
    "def get_nearest_exit(row_number):\n",
    "  if row_number < 15:\n",
    "    location = 'front'\n",
    "  elif row_number < 30:\n",
    "    location = 'middle'\n",
    "  else:\n",
    "    location = 'black'\n",
    "  return location\n",
    "\n",
    "class NearestExitTests(unittest.TestCase):\n",
    "  def test_row_1(self):\n",
    "    self.assertEqual(get_nearest_exit(1),'front', 'The nearest exit to row 1 is in the front!')\n",
    "\n",
    "  def test_row_20(self):\n",
    "    self.assertEqual(get_nearest_exit(20), 'middle', 'The nearest exit to row 20 is in the middle!')\n",
    "\n",
    "  def test_row_40(self):\n",
    "    self.assertEqual(get_nearest_exit(40), 'back', 'The nearest exit to row 40 is in the back!')\n",
    "\n",
    "# Apparently this block of code below is only needed in Jupyter notebook.\n",
    "# in the Codecademy environment it was enough to call the unittest.main() function to run the tests\n",
    "if __name__ == '__main__':\n",
    "  loader = unittest.TestLoader()\n",
    "  suite = loader.loadTestsFromTestCase(NearestExitTests)\n",
    "  runner = unittest.TextTestRunner()\n",
    "  runner.run(suite)"
   ]
  },
  {
   "cell_type": "markdown",
   "id": "446f883e",
   "metadata": {},
   "source": [
    "### Assert Methods\n",
    "1. Equality and Membership\n",
    "    - `assertEqual` ->  self.assertEqual(value1, value2)\n",
    "    - `assertIn` -> self.assertIn(value, container)\n",
    "    - `assertTrue` -> self.assertTrue(value)\n",
    "    \n",
    "2. Quantitative Methods\n",
    "    - `assertLess` -> self.assertLess(value1, value2)\n",
    "    - `assertAlmostEqual` ->  self.assertAlmostEqual(value1, value2) - the difference must be zero when rounded to 7 decimal places\n",
    "\n",
    "3. Exception and Warning Methods\n",
    "    - `assertRaises` -> self.assertRaises(specificException, function, functionArguments...)\n",
    "The assertRaises() method takes an exception type as its first argument, a function reference as its second, and an arbitrary number of arguments as the rest.\n",
    "It calls the function and checks if an exception is raised as a result. The test passes if the exception is raised, is an error if another exception is raised, or fails if no exception is raised. This method can be used with custom exceptions as well!\n",
    "\n",
    "    - `assertWarns` -> self.assertWarns(specificWarningException, function, functionArguments...)\n",
    "The assertWarns() method takes a warning type as its first argument, a function reference as its second, and an arbitrary number of arguments for the rest.\n",
    "It calls the function and checks that the warning occurs. The test passes if a warning is triggered and fails if it isn’t.    \n",
    "\n",
    "I just put here the code, It cannot run from here as another file would be necessary (alerts.py)\n",
    "\n",
    "```\n",
    "import unittest\n",
    "import alerts\n",
    "\n",
    "class SystemAlertTests(unittest.TestCase):\n",
    "  def test_power_outage_alert(self):\n",
    "    self.assertRaises(alerts.PowerError, alerts.power_outage_detected, True)\n",
    "\n",
    "  def test_water_levels_warning(self):\n",
    "    self.assertWarns(alerts.WaterLevelWarning, alerts.water_levels_check, 150)\n",
    "      \n",
    "unittest.main()\n",
    "```"
   ]
  },
  {
   "cell_type": "code",
   "execution_count": null,
   "id": "42a9a217",
   "metadata": {},
   "outputs": [],
   "source": []
  },
  {
   "cell_type": "code",
   "execution_count": null,
   "id": "8f180fdd",
   "metadata": {},
   "outputs": [],
   "source": []
  },
  {
   "cell_type": "code",
   "execution_count": null,
   "id": "021d0997",
   "metadata": {},
   "outputs": [],
   "source": []
  }
 ],
 "metadata": {
  "kernelspec": {
   "display_name": "Python 3 (ipykernel)",
   "language": "python",
   "name": "python3"
  },
  "language_info": {
   "codemirror_mode": {
    "name": "ipython",
    "version": 3
   },
   "file_extension": ".py",
   "mimetype": "text/x-python",
   "name": "python",
   "nbconvert_exporter": "python",
   "pygments_lexer": "ipython3",
   "version": "3.9.12"
  }
 },
 "nbformat": 4,
 "nbformat_minor": 5
}

{
 "cells": [
  {
   "cell_type": "markdown",
   "id": "63479b19-5eaa-4a3d-a0dc-d04cd4084dd2",
   "metadata": {},
   "source": [
    "### Recursion Basics\n",
    "\n",
    "In programming, recursion means a function definition will include an invocation of the function within its own body. Here’s a pseudo-code example:\r",
    "```\n",
    "\r\n",
    "define function, speller\r\n",
    "  if there are no more letters\r\n",
    "    print \"all done\"\r\n",
    "  print the first letter\r\n",
    "  invoke speller with the given name minus the first l```etter\r\n",
    "\r\n",
    "If we invoked this function with “Zoe” as the argument, we would see “Z”, “o”, and “e” printed out before “all done”.\r\n",
    "\r\n",
    "We call the function a total of``` 4 times!\r\n",
    "\r\n",
    "function called with “Zoe”\r\n",
    "function called with “oe”\r\n",
    "function called with “e”\r\n",
    "function called with “”\r\n",
    "Let’s break the function into three chunks:\r\n",
    "\r\n",
    "   if there are no more letters\r\n",
    "   ```  print \"all done\"\r\n",
    "\r\n",
    "This section is the base case. We are NOT invoking the function under this condition. The equivalent base case from the previous exercise was when we had reached the fr`ont of the line.\r\n",
    "\r\n",
    "  ` print the first letter\r\n",
    "\r\n",
    "This section solves a piece of the problem. If we want to spell someone’s name, we’ll have to spell `at least one letter.\r\n",
    "\r\n",
    "   invoke speller with the given `name minus the first letter\r\n",
    "\r\n",
    "This section is the recursive step, calling the function with arguments which bring us closer to the base case. In this example, we’re reducing the length of the name by a single letter. Eventually, there will be a function call with no letters given as the argument.\r\n",
    "\r\n",
    "For comparison’s sa**ke, here is pseudo**-code for an iterative``` approach to the same problem:\r\n",
    "\r\n",
    " define function, speller\r\n",
    "   for each letter in the name argument\r\n",
    "     pr```int the letter\r\n",
    "   print \"all done\"\r\n"
   ]
  },
  {
   "cell_type": "markdown",
   "id": "b6405d2e-0d17-4310-a169-2b4416ce9f51",
   "metadata": {},
   "source": [
    "### Call Stacks and Execution Frames\r\n",
    "A recursive approach requires the function invoking itself with different arguments. How does the computer keep track of the various arguments and different function invocations if it’s the same function definition?\r\n",
    "\r\n",
    "Repeatedly invoking functions may be familiar when it occurs sequentially, but it can be jarring to see this invocation occur within a function definition.\r\n",
    "\r\n",
    "Languages make this possible with call stacks and execution contexts.\r\n",
    "\r\n",
    "Stacks, a data structure, follow a strict protocol for the order data enters and exits the structure: the last thing to enter is the first thing to leave.\r\n",
    "\r\n",
    "Your programming language often manages the call stack, which exists outside of any specific function. This call stack tracks the ordering of the different function invocations, so the last function to enter the call stack is the first function to exit the ca\n",
    "\n",
    "**Basically we define a base case and as a recursive step we define a way to get there.\n",
    "The function calls on the way will be added to the stack, and once the base case is reached they will be called backwards.\n",
    "Last in - First out**\n",
    "ll stack.\n",
    "https://www.codecademy.com/learn/learn-recursion-python/modules/recursion-conceptual/cheatsheet"
   ]
  },
  {
   "cell_type": "markdown",
   "id": "94b94369-2cc2-422c-a2da-50a9e1edbe60",
   "metadata": {},
   "source": [
    "### Simulating the stack and the execution context\n",
    "\n",
    "The call stack stores each function (with its internal variables) until those functions resolve in a last in, first out order.\r",
    "ack = [] \r\n",
    "\r\n",
    "Execution contexts are a mapping between variable names and their values within the function during execution. We can use a list for our call stack and a dictionary for each execution context."
   ]
  },
  {
   "cell_type": "code",
   "execution_count": 1,
   "id": "e7456333-7b26-4a7b-a934-0db96bbff182",
   "metadata": {},
   "outputs": [
    {
     "name": "stdout",
     "output_type": "stream",
     "text": [
      "[{'n_value': 4}]\n",
      "[{'n_value': 4}, {'n_value': 3}]\n",
      "[{'n_value': 4}, {'n_value': 3}, {'n_value': 2}]\n",
      "BASE CASE REACHED\n"
     ]
    },
    {
     "data": {
      "text/plain": [
       "(1, [{'n_value': 4}, {'n_value': 3}, {'n_value': 2}])"
      ]
     },
     "execution_count": 1,
     "metadata": {},
     "output_type": "execute_result"
    }
   ],
   "source": [
    "def sum_to_one(n):\n",
    "  result = 1\n",
    "  call_stack = []\n",
    "  \n",
    "  while n != 1:\n",
    "    execution_context = {\"n_value\": n}\n",
    "    call_stack.append(execution_context)\n",
    "    n -= 1\n",
    "    print(call_stack)\n",
    "  print(\"BASE CASE REACHED\")\n",
    "  return result, call_stack\n",
    "\n",
    "sum_to_one(4)"
   ]
  },
  {
   "cell_type": "markdown",
   "id": "e21c52ad-ad59-4d92-95db-c77cddd10d2b",
   "metadata": {},
   "source": [
    "We’ll now address the conclusion of this function, where the separate values stored in the call stack are accumulated into a single return value."
   ]
  },
  {
   "cell_type": "code",
   "execution_count": null,
   "id": "64a11ffa-41ea-4b13-87af-4e7c98eeb231",
   "metadata": {},
   "outputs": [],
   "source": [
    "def sum_to_one(n):\n",
    "  result = 1\n",
    "  call_stack = []\n",
    "  \n",
    "  while n != 1:\n",
    "    execution_context = {\"n_value\": n}\n",
    "    call_stack.append(execution_context)\n",
    "    n -= 1\n",
    "    print(call_stack)\n",
    "  print(\"BASE CASE REACHED\")\n",
    "  \n",
    "  while len(call_stack) != 0:\n",
    "    return_value = call_stack.pop()\n",
    "    print(f'Adding return_value[\"n_value\"] {return_value[\"n_value\"]} to the result {result}')\n",
    "    result += return_value[\"n_value\"]\n",
    "  return print(f'The result: {result}')\n",
    "\n",
    "sum_to_one(4)"
   ]
  },
  {
   "cell_type": "markdown",
   "id": "462971a0-ef68-42e0-a205-d172afb3564d",
   "metadata": {},
   "source": [
    "### The Exercise\n",
    "\n",
    "We want a function that takes an integer as an input and returns the sum of all numbers from the input down to 1.\n",
    "\n",
    "The solution with iteration:"
   ]
  },
  {
   "cell_type": "code",
   "execution_count": 2,
   "id": "c9bce2b3-4343-48d8-924b-288a5c480afc",
   "metadata": {},
   "outputs": [
    {
     "data": {
      "text/plain": [
       "10"
      ]
     },
     "execution_count": 2,
     "metadata": {},
     "output_type": "execute_result"
    }
   ],
   "source": [
    "def sum_to_one(n):\n",
    "    result = 0\n",
    "    for num in range(n, 0, -1):\n",
    "        result += num\n",
    "    return result\n",
    "\n",
    "sum_to_one(4)"
   ]
  },
  {
   "cell_type": "markdown",
   "id": "2b3716eb-75b9-44ab-8822-184b3e96fd27",
   "metadata": {},
   "source": [
    "the solution with recursion\n",
    "\n",
    "- Base Case: the input is 1\n",
    "  The function should not recurse if n == 1 , in this case we 'return n'\n",
    "- Recursive Step: call the function with input 1 less than in the previous step\n",
    "  in the recursive step we return the function call with 'n-1' + 'n'"
   ]
  },
  {
   "cell_type": "code",
   "execution_count": 8,
   "id": "21600731-565d-4e4d-82d4-2d97dfb2b42f",
   "metadata": {},
   "outputs": [
    {
     "data": {
      "text/plain": [
       "120"
      ]
     },
     "execution_count": 8,
     "metadata": {},
     "output_type": "execute_result"
    }
   ],
   "source": [
    "def recursive_sum_to_one(n):\n",
    "    if n == 1:\n",
    "        return n\n",
    "    return recursive_sum_to_one(n-1) + n\n",
    "    \n",
    "recursive_sum_to_one(15)"
   ]
  },
  {
   "cell_type": "markdown",
   "id": "b08ee31c-a9cb-483b-9188-22f75dc326bd",
   "metadata": {},
   "source": [
    "### Actual use cases of recursion\n",
    "\n",
    "- Powerset algorithm: Create all possible subsets of a list\n",
    "- Flatten nested listsprint(set)\r\n",
    "\n",
    "```"
   ]
  },
  {
   "cell_type": "code",
   "execution_count": null,
   "id": "51d1cc58-e178-40fb-97ee-5a067d1c85bd",
   "metadata": {},
   "outputs": [],
   "source": [
    "def power_set(my_list):\n",
    "    # base case: an empty list\n",
    "    if len(my_list) == 0:\n",
    "        return [[]]\n",
    "    # recursive step: subsets without first element\n",
    "    power_set_without_first = power_set(my_list[1:])\n",
    "    # subsets with first element\n",
    "    with_first = [ [my_list[0]] + rest for rest in power_set_without_first ]\n",
    "    # return combination of the two\n",
    "    return with_first + power_set_without_first\n",
    "  \n",
    "universities = ['MIT', 'UCLA', 'Stanford', 'NYU']\n",
    "power_set_of_universities = power_set(universities)\n",
    "\n",
    "for set in power_set_of_universities:\n",
    "  print(set)\n"
   ]
  },
  {
   "cell_type": "code",
   "execution_count": null,
   "id": "a3f6ad32-8391-46e6-aecc-8f1763afb41a",
   "metadata": {},
   "outputs": [],
   "source": [
    "def flatten(my_list):\n",
    "  #  intermediary variable that houses elements from my_list\n",
    "  result = []\n",
    "  for item in my_list:\n",
    "    if isinstance(item, list):\n",
    "      # flatten() will return a list, update result so it now includes every element contained in flat_list\n",
    "      flat_list = flatten(item)\n",
    "      result += flat_list\n",
    "    else:\n",
    "      # base case: If the iterating variable is not a list, we can append it to the result\n",
    "      result.append(item)\n",
    "  return result\n",
    "\n",
    "### reserve for testing...\n",
    "planets = ['mercury', 'venus', ['earth'], 'mars', [['jupiter', 'saturn']], 'uranus', ['neptune', 'pluto']]\n",
    "print(flatten(planets))"
   ]
  },
  {
   "cell_type": "markdown",
   "id": "8cdf7791-162a-4c48-810e-e7ff2fdf12ae",
   "metadata": {},
   "source": [
    "### Recursive Data Structures\r\n",
    "Data structures can also be recursive.\r",
    "**\n",
    "\r\n",
    "Tr**ees are a recursive data structure because their definition is self-referential. A tree is a data structure which contains a piece of data and references to other trees!\r\n",
    "\r\n",
    "Trees which are referenced by other trees are known as children. Trees which hold references to other trees are known as the parents.\r\n",
    "\r\n",
    "A tree can be both parent and child. We’re going to write a recursive function that builds a special type of tree: a binary search **tree.\r\n",
    "\r\n",
    "Binary sear**ch-  trees:\r\n",
    "\r\n",
    "Reference two children at most per - tree node.\r\n",
    "The “left” child of the tree must contain a value lesser than-  its parent\r\n",
    "The “right” child of the tree must contain a value greater than\n",
    " its parent.\r\n",
    "Trees are an abstract data type, meaning we can implement our version in a number of ways as long as we follow therules above.\r\n",
    "\r\n",
    "For the purposes of this exercise, we’ll use the humble Pyt```hon dictionary:\r\n",
    "\r\n",
    "bst_tree_node = {\"data\": 42}\r\n",
    "bst_tree_node[\"left_child\"] = {\"data\": 36}\r\n",
    "bst_tree_node[\"right_child\"] = {\"data\": 73}\r\n",
    "\r\n",
    "bst_tree_node[\"data\"] > bst_tree_node[\"left_child\"][\"data\"]\r\n",
    "# True\r\n",
    "bst_tree_node[\"data\"] < bst_tree_node[\"right```_child\"][\"data\"]\r\n",
    "# True\r\n",
    "\r\n",
    "We can also assume our function will receive a sorte list of values as input.\r\n",
    "\r\n",
    "This is necessary to construct the binary search tree because we’ll be relying on the orde**ring of the list in**put.\r\n",
    "\r\n",
    "Our high-level strategy before moving through the checkpoints.\r\n",
    "\r\n",
    "Ba- e case: The input list is empty\r\n",
    "\r\n",
    "Return \"No Child\" to represent the lack of node Recursive step: The input li- st must be divided into two halves- \r\n",
    "Find the middle index of the list\r\n",
    "Store t- he value located at the middle index\r\n",
    "Make a tree no- de with a \"data\" key set to the value\r\n",
    "Assign tree node’s \"left child\" to a recursiv- e call using the left half of the list\r\n",
    "Assign tree node’s \"right child\" to a recursiv- e call using the rig\n",
    "\n",
    "1. \n",
    "Define the build_bst() function with my_list as the sole parameter.\r\n",
    "\r\n",
    "If my_list has no elements, return “No Child” to represent the lack of a child tree nod.\r\n",
    "\r\n",
    "This is the base case of our functon.\r\n",
    "\r\n",
    "The recursive step will need to remove an element from the input to eventually reach an empty  2  assed\r\n",
    "2.\r\n",
    "We’ll be building this tree by dividing the list in half and feeding those halves to the left and right sides ofthe tree.\r\n",
    "\r\n",
    "This dividing step will eventually produce empty lists to satisfy the base case of the function.\r\n",
    "\r\n",
    "Outside of the conditional you just wrote, declare middle_idx and set it to the middle indx of my_list.\r\n",
    "\r\n",
    "Then, declare middle_value and set it to the value in my_list locate at middle_idx.\r\n",
    "\r\n",
    "Print “Middle inde: “ + middle_idx.\r\n",
    "\r\n",
    "Then, print “Middle valc h nt\r\n",
    "Checkpoint 3 Passed\r\n",
    "3.\r\n",
    "After the print statements, declare the variable tree_node that points to a Python dictionary with a key of \"data\" pointing to middle_value.\r\n",
    "\r\n",
    "tree_node represents the tree being created in this function call. We want a tree_node created for each element in the list, so we’ll repeat this process on the left and right sub-trees using the appropriate half of the input list.\r\n",
    "\r\n",
    "Now for the recursive calls!\r\n",
    "\r\n",
    "Set the key of \"left_child\" in tree_node to be a recursive call to build_bst() with the left half of the list not including the middle value as an argument.\r\n",
    "\r\n",
    "Set the key of \"right_child\" in tree_node to be a recursive call to build_bst() with the right half of the list not including the middle value as an argument.\r\n",
    "\r\n",
    "It’s very important we don’t include the middle_value in the lists we’re passing as arguments, or else we’ll create duplicate nodes!\r\n",
    "\r\n",
    "Finally, return tree_node. As the recursive calls resolve and pop off the call stack, the final return value will be the root or “top” tree_node which contains a reference to every other tree_node.ht half of the list\r\n",
    "Return the tree node"
   ]
  },
  {
   "cell_type": "code",
   "execution_count": null,
   "id": "32cb0fd8-c16f-47ca-bed5-0f631d441b1a",
   "metadata": {},
   "outputs": [],
   "source": [
    "# Define build_bst() below...\n",
    "def build_bst(my_list):\n",
    "  if len(my_list) == 0:\n",
    "    return \"No Child\"\n",
    "  middle_idx = len(my_list) // 2\n",
    "  middle_value = my_list[middle_idx]\n",
    "  print(f'Middle index: {middle_idx}')\n",
    "  print(f'Middle value: {middle_value}')\n",
    "  tree_node = {'data': middle_value}\n",
    "  tree_node['left_child'] = build_bst(my_list[:middle_idx])\n",
    "  tree_node['right_child'] = build_bst(my_list[middle_idx+1:])\n",
    "  return tree_node\n",
    "# For testing\n",
    "sorted_list = [12, 13, 14, 15, 16]\n",
    "binary_search_tree = build_bst(sorted_list)\n",
    "print(binary_search_tree)\n",
    "\n",
    "# fill in the runtime as a string\n",
    "# 1, logN, N, N*logN, N^2, 2^N, N!\n",
    "runtime = \"N*logN\"\n"
   ]
  }
 ],
 "metadata": {
  "kernelspec": {
   "display_name": "Python 3 (ipykernel)",
   "language": "python",
   "name": "python3"
  },
  "language_info": {
   "codemirror_mode": {
    "name": "ipython",
    "version": 3
   },
   "file_extension": ".py",
   "mimetype": "text/x-python",
   "name": "python",
   "nbconvert_exporter": "python",
   "pygments_lexer": "ipython3",
   "version": "3.11.7"
  }
 },
 "nbformat": 4,
 "nbformat_minor": 5
}

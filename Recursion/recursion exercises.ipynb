{
 "cells": [
  {
   "cell_type": "markdown",
   "id": "0623f076-4123-4a32-a656-1340bbd85d64",
   "metadata": {},
   "source": [
    "### A series of problems solved both with recursive and iterative functions\n",
    "#### 1. Factorial\n",
    "---"
   ]
  },
  {
   "cell_type": "code",
   "execution_count": null,
   "id": "d32bc0d0-53ef-4d96-830a-0f187d8dc75a",
   "metadata": {},
   "outputs": [],
   "source": [
    "# Recursion\n",
    "# runtime: Linear - O(N)\n",
    "def factorial(n):  \n",
    "  if n < 0:    \n",
    "    return ValueError(\"Inputs must be 0 or greater\") \n",
    "  if n <= 1:    \n",
    "    return 1  \n",
    "  return n * factorial(n - 1)\n",
    "\n",
    "print(factorial(3) == 6)\n",
    "print(factorial(4) == 24)\n",
    "print(factorial(0) == 1)\n",
    "print(factorial(-1))"
   ]
  },
  {
   "cell_type": "code",
   "execution_count": null,
   "id": "ccb0dbc7-2952-49ea-bff6-f6688b21055a",
   "metadata": {},
   "outputs": [],
   "source": [
    "# Iteration\n",
    "def factorial(n):\n",
    "  if n < 0:\n",
    "    return ValueError(\"Number must be greater than 0\")\n",
    "  elif n <= 1:\n",
    "    return 1\n",
    "  else:\n",
    "    result = 1\n",
    "    for num in range(2, n+1):\n",
    "      result = result * num\n",
    "    return result\n",
    "\n",
    "# test cases\n",
    "print(factorial(3) == 6)\n",
    "print(factorial(0) == 1)\n",
    "print(factorial(5) == 120)"
   ]
  },
  {
   "cell_type": "markdown",
   "id": "3bb27eb8-d9fc-4ccc-9ac8-78387843193f",
   "metadata": {},
   "source": [
    "#### 2. Fibonacci\n",
    "---"
   ]
  },
  {
   "cell_type": "code",
   "execution_count": 3,
   "id": "e450409e-260b-4b30-bfe2-ceaf931c0b4f",
   "metadata": {},
   "outputs": [
    {
     "name": "stdout",
     "output_type": "stream",
     "text": [
      "True\n",
      "True\n",
      "True\n"
     ]
    }
   ],
   "source": [
    "# Recursive\n",
    "# runtime: Exponential - O(2^N)\n",
    "\n",
    "def fibonacci(n):\n",
    "  if n < 0:\n",
    "    ValueError(\"Input 0 or greater only!\")\n",
    "  if n <= 1:\n",
    "    return n\n",
    "  return fibonacci(n - 1) + fibonacci(n - 2)\n",
    "\n",
    "print(fibonacci(3) == 2)\n",
    "print(fibonacci(7) == 13)\n",
    "print(fibonacci(0) == 0)"
   ]
  },
  {
   "cell_type": "code",
   "execution_count": null,
   "id": "92b9f5d3-767d-433d-a27f-2478bb832a4e",
   "metadata": {},
   "outputs": [],
   "source": [
    "# my iterative solution\n",
    "def fibonacci(n):\n",
    "  if n < 0:\n",
    "    return ValueError('Must be 0 or greater')\n",
    "  elif n <= 1:\n",
    "    return n\n",
    "  else:\n",
    "    prev_num = 1\n",
    "    num = 1\n",
    "    for i in range(3, n+1):\n",
    "      curr_num = prev_num + num\n",
    "      prev_num = num\n",
    "      num = curr_num\n",
    "    return curr_num \n",
    "\n",
    "# test cases\n",
    "print(fibonacci(3) == 2)\n",
    "print(fibonacci(7) == 13)\n",
    "print(fibonacci(0) == 0)"
   ]
  },
  {
   "cell_type": "code",
   "execution_count": null,
   "id": "16ae80ba-5305-40c5-b177-56d7de8a480c",
   "metadata": {},
   "outputs": [],
   "source": [
    "# Suggested solution which also stores the numbers:\n",
    "def fibonacci(n):\n",
    "  fib_list = [0, 1]\n",
    "  if n <= len(fib_list)-1:\n",
    "    return fib_list[n]\n",
    "  while n > len(fib_list)-1:\n",
    "    next_fib = fib_list[-1] + fib_list[-2]\n",
    "    fib_list.append(next_fib)\n",
    "    #print(fib_list)\n",
    "  return fib_list[n]\n",
    "\n",
    "\n",
    "# test cases\n",
    "print(fibonacci(3) == 2)\n",
    "print(fibonacci(7) == 13)\n",
    "print(fibonacci(0) == 0)"
   ]
  },
  {
   "cell_type": "markdown",
   "id": "1670471c-94fa-48b4-8e0b-5d238943ee33",
   "metadata": {},
   "source": [
    "#### 3. Sum the digits of a number\n",
    "---"
   ]
  },
  {
   "cell_type": "code",
   "execution_count": null,
   "id": "b6657a86-e0f2-4ba1-8d99-ec5b168948e6",
   "metadata": {},
   "outputs": [],
   "source": [
    "# Iterative solution\n",
    "# Linear - O(N), where \"N\" is the number of digits in the number\n",
    "def sum_digits(n):\n",
    "  if n < 0:\n",
    "    ValueError(\"Inputs 0 or greater only!\")\n",
    "  result = 0\n",
    "  while n is not 0:\n",
    "    result += n % 10\n",
    "    n = n // 10\n",
    "  return result + n\n",
    "\n",
    "sum_digits(12)\n",
    "# 1 + 2\n",
    "# 3\n",
    "sum_digits(552)\n",
    "# 5 + 5 + 2\n",
    "# 12\n",
    "sum_digits(123456789)\n",
    "# 1 + 2 + 3 + 4...\n",
    "# 45"
   ]
  },
  {
   "cell_type": "code",
   "execution_count": null,
   "id": "5ee70fd5-a240-4cd8-871b-ebe2a6b878af",
   "metadata": {},
   "outputs": [],
   "source": [
    "# recursive solution\n",
    "def sum_digits(n):\n",
    "  if n < 0:\n",
    "    return ValueError('Must be 0 or greater')\n",
    "  elif n - 10 < 0:\n",
    "    return n\n",
    "  else:\n",
    "    last_digit = n % 10\n",
    "    result = last_digit + sum_digits(n // 10)\n",
    "  return result\n",
    "\n",
    "# test cases\n",
    "print(sum_digits(12) == 3)\n",
    "print(sum_digits(552) == 12)\n",
    "print(sum_digits(123456789) == 45)"
   ]
  },
  {
   "cell_type": "markdown",
   "id": "94766885-7075-44de-9546-5946f9ac0610",
   "metadata": {},
   "source": [
    "#### 4. Find the minimum value in a list\n",
    "---\n"
   ]
  },
  {
   "cell_type": "code",
   "execution_count": null,
   "id": "d3ea3896-35ec-4b3b-8aad-9e08053f66d1",
   "metadata": {},
   "outputs": [],
   "source": [
    "# iterative solution\n",
    "def find_min(my_list):\n",
    "  min = None\n",
    "  for element in my_list:\n",
    "    if not min or (element < min):\n",
    "      min = element\n",
    "  return min\n",
    "\n",
    "find_min([42, 17, 2, -1, 67])\n",
    "# -1\n",
    "find_mind([])\n",
    "# None\n",
    "find_min([13, 72, 19, 5, 86])\n",
    "# 5"
   ]
  },
  {
   "cell_type": "code",
   "execution_count": null,
   "id": "f0c20d2a-7490-40f5-adef-0e1809eb5c0b",
   "metadata": {},
   "outputs": [],
   "source": [
    "# My recursive solution\n",
    "def find_min(my_list):\n",
    "  if len(my_list) == 1:\n",
    "    return my_list[0]\n",
    "  elif my_list == []:\n",
    "    return None\n",
    "  else:\n",
    "    if my_list[-1] < my_list[-2]:\n",
    "      my_list.pop(-2)\n",
    "      return find_min(my_list)\n",
    " \n",
    "    else:\n",
    "      my_list.pop(-1)\n",
    "      return find_min(my_list)\n",
    " \n",
    "   \n",
    "# test cases\n",
    "print(find_min([42, 17, 2, -1, 67]) == -1)\n",
    "print(find_min([]) == None)\n",
    "print(find_min([13, 72, 19, 5, 86]) == 5)"
   ]
  },
  {
   "cell_type": "markdown",
   "id": "9e393ccf-2d87-4e37-a175-dd9482fb97ec",
   "metadata": {},
   "source": [
    "#### 5. Palindromes\n",
    "---\n"
   ]
  },
  {
   "cell_type": "code",
   "execution_count": null,
   "id": "ef6cf736-ce23-4c79-8950-27e139a7e9c2",
   "metadata": {},
   "outputs": [],
   "source": [
    "# Iterative\n",
    "ef is_palindrome(my_string):\n",
    "  while len(my_string) > 1:\n",
    "    if my_string[0] != my_string[-1]:\n",
    "      return False\n",
    "    my_string = my_string[1:-1]\n",
    "  return True \n",
    "\n",
    "palindrome(\"abba\")\n",
    "# True\n",
    "palindrome(\"abcba\")\n",
    "# True\n",
    "palindrome(\"\")\n",
    "# True\n",
    "palindrome(\"abcd\")\n",
    "# False\n",
    "\n",
    "# more efficient iterative solution Linear - O(N)\n",
    "def is_palindrome(my_string):\n",
    "  string_length = len(my_string)\n",
    "  middle_index = string_length // 2\n",
    "  for index in range(0, middle_index):\n",
    "    opposite_character_index = string_length - index - 1\n",
    "    if my_string[index] != my_string[opposite_character_index]:\n",
    "      return False  \n",
    "  return True"
   ]
  },
  {
   "cell_type": "code",
   "execution_count": null,
   "id": "82826575-7d27-48ea-9308-de15f992d190",
   "metadata": {},
   "outputs": [],
   "source": [
    "# My recursive solution\n",
    "def is_palindrome(my_string):\n",
    "  if len(my_string) <= 1:\n",
    "    return True\n",
    "  if my_string[0] == my_string[-1]:\n",
    "    my_string = my_string[1:-1]\n",
    "    return is_palindrome(my_string)\n",
    "  else:\n",
    "    return False\n",
    "\n",
    "\n",
    "# test cases\n",
    "print(is_palindrome(\"abba\") == True)\n",
    "print(is_palindrome(\"abcba\") == True)\n",
    "print(is_palindrome(\"\") == True)\n",
    "print(is_palindrome(\"abcd\") == False)"
   ]
  },
  {
   "cell_type": "markdown",
   "id": "76251783-27e8-4fb6-9ced-392e8387dca8",
   "metadata": {},
   "source": [
    "#### 6. Simulated Multiplication\n",
    "---\n"
   ]
  },
  {
   "cell_type": "code",
   "execution_count": null,
   "id": "d11a7f8d-bd28-4bee-91c3-870e12efea52",
   "metadata": {},
   "outputs": [],
   "source": [
    "# This I couldn't do myself:\n",
    "def multiplication(n1, n2):\n",
    "  if n1 == 0 or n2 == 0:\n",
    "    return 0\n",
    "  else:\n",
    "    return n1 + multiplication(n1, n2-1)\n",
    "    \n",
    "# test cases\n",
    "print(multiplication(3, 7) == 21)\n",
    "print(multiplication(5, 5) == 25)\n",
    "print(multiplication(0, 4) == 0)"
   ]
  },
  {
   "cell_type": "markdown",
   "id": "7b45fedf-6428-4456-8091-5fc808fe83ce",
   "metadata": {},
   "source": [
    "#### 7. Counting the levels ao f a Binary Search Tree\n",
    "---\n"
   ]
  },
  {
   "cell_type": "code",
   "execution_count": null,
   "id": "2a676b45-1ccb-4f34-aa0a-c5459bd7b572",
   "metadata": {},
   "outputs": [],
   "source": [
    "# Iterative\n",
    "def depth(tree):\n",
    "  result = 0\n",
    "  # our \"queue\" will store nodes at each level\n",
    "  queue = [tree]\n",
    "  # loop as long as there are nodes to explore\n",
    "  while queue:\n",
    "    # count the number of child nodes\n",
    "    level_count = len(queue)\n",
    "    for child_count in range(0, level_count):\n",
    "      # loop through each child\n",
    "      child = queue.pop(0)\n",
    "     # add its children if they exist\n",
    "      if child[\"left_child\"]:\n",
    "        queue.append(child[\"left_child\"])\n",
    "      if child[\"right_child\"]:\n",
    "        queue.append(child[\"right_child\"])\n",
    "    # count the level\n",
    "    result += 1\n",
    "  return result\n",
    "\n",
    "two_level_tree = {\n",
    "\"data\": 6, \n",
    "\"left_child\":\n",
    "  {\"data\": 2}\n",
    "}\n",
    "\n",
    "four_level_tree = {\n",
    "\"data\": 54,\n",
    "\"right_child\":\n",
    "  {\"data\": 93,\n",
    "   \"left_child\":\n",
    "     {\"data\": 63,\n",
    "      \"left_child\":\n",
    "        {\"data\": 59}\n",
    "      }\n",
    "   }\n",
    "}\n",
    "\n",
    "\n",
    "depth(two_level_tree)\n",
    "# 2\n",
    "depth(four_level_tree)\n",
    "# 4\n"
   ]
  },
  {
   "cell_type": "code",
   "execution_count": 9,
   "id": "d09d8992-3164-48eb-ba0e-2786cf500b82",
   "metadata": {},
   "outputs": [
    {
     "name": "stdout",
     "output_type": "stream",
     "text": [
      "True\n",
      "True\n",
      "True\n"
     ]
    }
   ],
   "source": [
    "#recursive solution\n",
    "def depth(tree):\n",
    "  if not tree:\n",
    "    return 0\n",
    "\n",
    "  left_depth = depth(tree[\"left_child\"])\n",
    "  right_depth = depth(tree[\"right_child\"])\n",
    "\n",
    "  if left_depth > right_depth:\n",
    "    return left_depth + 1\n",
    "  else:\n",
    "    return right_depth + 1\n",
    "\n",
    "# HELPER FUNCTION TO BUILD TREES\n",
    "def build_bst(my_list):\n",
    "  if len(my_list) == 0:\n",
    "    return None\n",
    "\n",
    "  mid_idx = len(my_list) // 2\n",
    "  mid_val = my_list[mid_idx]\n",
    "\n",
    "  tree_node = {\"data\": mid_val}\n",
    "  tree_node[\"left_child\"] = build_bst(my_list[ : mid_idx])\n",
    "  tree_node[\"right_child\"] = build_bst(my_list[mid_idx + 1 : ])\n",
    "\n",
    "  return tree_node\n",
    "\n",
    "# HELPER VARIABLES\n",
    "tree_level_1 = build_bst([1])\n",
    "tree_level_2 = build_bst([1, 2, 3])\n",
    "tree_level_4 = build_bst([1, 2, 3, 4, 5, 6, 7, 8, 9, 10, 11, 12, 13]) \n",
    "\n",
    "# test cases\n",
    "print(depth(tree_level_1) == 1)\n",
    "print(depth(tree_level_2) == 2)\n",
    "print(depth(tree_level_4) == 4)"
   ]
  }
 ],
 "metadata": {
  "kernelspec": {
   "display_name": "Python 3 (ipykernel)",
   "language": "python",
   "name": "python3"
  },
  "language_info": {
   "codemirror_mode": {
    "name": "ipython",
    "version": 3
   },
   "file_extension": ".py",
   "mimetype": "text/x-python",
   "name": "python",
   "nbconvert_exporter": "python",
   "pygments_lexer": "ipython3",
   "version": "3.11.5"
  }
 },
 "nbformat": 4,
 "nbformat_minor": 5
}
